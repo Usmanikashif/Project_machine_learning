{
 "cells": [
  {
   "cell_type": "code",
   "execution_count": 1,
   "id": "9d6678f8",
   "metadata": {},
   "outputs": [],
   "source": [
    "import glob\n",
    "import numpy as np\n",
    "import matplotlib as mpl\n",
    "import matplotlib.pyplot as plt\n",
    "import pandas as pd\n",
    "import os\n",
    "from sklearn.preprocessing import StandardScaler\n",
    "from sklearn.metrics import confusion_matrix, accuracy_score, classification_report\n",
    "import seaborn as sn\n",
    "import tensorflow as tf\n",
    "from tensorflow import keras\n",
    "from sklearn.model_selection import train_test_split, cross_val_score\n",
    "from sklearn.utils import shuffle\n",
    "import tensorflow as tf\n",
    "from tensorflow.keras import Sequential\n",
    "from keras.optimizers import SGD\n",
    "from keras_tuner import RandomSearch\n",
    "\n",
    "from tensorflow.keras.layers import Dense, Dropout\n",
    "from tensorflow.keras.layers import Embedding\n",
    "from tensorflow.keras.layers import LSTM\n",
    "tf.keras.backend.clear_session()\n",
    "\n",
    "import keras_tuner as kt"
   ]
  },
  {
   "cell_type": "markdown",
   "id": "d2a5492b",
   "metadata": {},
   "source": [
    "### For multiclass classification we labeled the datasets A, B, C, D and E as '0', '1','2', '3',and '4', resepctively. We used SVM model and LSTM model to classify the dataset"
   ]
  },
  {
   "cell_type": "code",
   "execution_count": 2,
   "id": "e30adc2e",
   "metadata": {},
   "outputs": [],
   "source": [
    "# We Labeled the datasets A, B, C, D and E as '0', '1','2', '3',and '4', resepctively\n",
    "# DataA\n",
    "pathA = r'D:/Final_project/Data/merged/A' \n",
    "all_filesA = glob.glob(pathA + \"/*.csv\")\n",
    "\n",
    "tempA = []\n",
    "\n",
    "for filename in all_filesA:\n",
    "    df1 = pd.read_csv(filename, index_col=None, header=0)\n",
    "    tempA.append(df1)\n",
    "\n",
    "dfA = pd.concat(tempA, axis=0, ignore_index=True)\n",
    "dfA.insert(loc=len(dfA.columns), column='Y', value='0', allow_duplicates=True)\n",
    "\n",
    "\n",
    "# DataB\n",
    "pathB = r'D:/Final_project/Data/merged/B' \n",
    "all_filesB = glob.glob(pathB + \"/*.csv\")\n",
    "\n",
    "tempB = []\n",
    "\n",
    "for filename in all_filesB:\n",
    "    df2 = pd.read_csv(filename, index_col=None, header=0)\n",
    "    tempB.append(df2)\n",
    "\n",
    "dfB = pd.concat(tempB, axis=0, ignore_index=True)\n",
    "dfB.insert(loc=len(dfB.columns), column='Y', value='1', allow_duplicates=True)\n",
    "\n",
    "# DataC\n",
    "pathC = r'D:/Final_project/Data/merged/C'\n",
    "all_filesC = glob.glob(pathC + \"/*.csv\")\n",
    "\n",
    "tempC = []\n",
    "\n",
    "for filename in all_filesC:\n",
    "    df3 = pd.read_csv(filename, index_col=None, header=0)\n",
    "    tempC.append(df3)\n",
    "\n",
    "dfC = pd.concat(tempC, axis=0, ignore_index=True)\n",
    "dfC.insert(loc=len(dfC.columns), column='Y', value='2', allow_duplicates=True)\n",
    "\n",
    "\n",
    "## Data D\n",
    "pathD = r'D:/Final_project/Data/merged/D' \n",
    "all_filesD = glob.glob(pathD + \"/*.csv\")\n",
    "\n",
    "tempD = []\n",
    "\n",
    "for filename in all_filesD:\n",
    "    df4 = pd.read_csv(filename, index_col=None, header=0)\n",
    "    tempD.append(df4)\n",
    "\n",
    "dfD = pd.concat(tempD, axis=0, ignore_index=True)\n",
    "dfD.insert(loc=len(dfD.columns), column='Y', value='3', allow_duplicates=True)\n",
    "\n",
    "\n",
    "## Data E\n",
    "pathE = r'D:/Final_project/Data/merged/E' \n",
    "all_filesE = glob.glob(pathE + \"/*.csv\")\n",
    "\n",
    "tempE = []\n",
    "\n",
    "for filename in all_filesE:\n",
    "    df5 = pd.read_csv(filename, index_col=None, header=0)\n",
    "    tempE.append(df5)\n",
    "\n",
    "dfE = pd.concat(tempE, axis=0, ignore_index=True)\n",
    "dfE.insert(loc=len(dfE.columns), column='Y', value='4', allow_duplicates=True)"
   ]
  },
  {
   "cell_type": "code",
   "execution_count": 3,
   "id": "b2db8556",
   "metadata": {},
   "outputs": [],
   "source": [
    "df = pd.concat([dfA, dfB,dfC,dfD,dfE], ignore_index=True)"
   ]
  },
  {
   "cell_type": "code",
   "execution_count": 4,
   "id": "a635f755",
   "metadata": {},
   "outputs": [
    {
     "name": "stderr",
     "output_type": "stream",
     "text": [
      "C:\\Users\\kau19001\\Anaconda3\\envs\\tensorflow\\lib\\site-packages\\seaborn\\_decorators.py:36: FutureWarning: Pass the following variable as a keyword arg: x. From version 0.12, the only valid positional argument will be `data`, and passing other arguments without an explicit keyword will result in an error or misinterpretation.\n",
      "  warnings.warn(\n"
     ]
    },
    {
     "name": "stdout",
     "output_type": "stream",
     "text": [
      "The number of samples for the class 0 is: 2300\n",
      "The number of samples for the class 1 is: 2300\n",
      "The number of samples for the class 2 is: 2300\n",
      "The number of samples for the class 3 is: 2300\n",
      "The number of samples for the class 4 is: 2300\n"
     ]
    },
    {
     "data": {
      "image/png": "[encoded data removed]",
      "text/plain": [
       "<Figure size 432x288 with 1 Axes>"
      ]
     },
     "metadata": {
      "needs_background": "light"
     },
     "output_type": "display_data"
    }
   ],
   "source": [
    "import seaborn as sn\n",
    "tgt=df[\"Y\"]\n",
    "tgt= tgt.astype('int')\n",
    "ax = sn.countplot(tgt, label=\"Count\")\n",
    "class0 = np.count_nonzero(tgt == 0)\n",
    "class1 = np.count_nonzero(tgt == 1) \n",
    "class2 = np.count_nonzero(tgt == 2) \n",
    "class3 = np.count_nonzero(tgt == 3) \n",
    "class4 = np.count_nonzero(tgt == 4) \n",
    "\n",
    "print('The number of samples for the class 0 is:', class0)\n",
    "print('The number of samples for the class 1 is:', class1)\n",
    "print('The number of samples for the class 2 is:', class2)\n",
    "print('The number of samples for the class 3 is:', class3)\n",
    "print('The number of samples for the class 4 is:', class4)"
   ]
  },
  {
   "cell_type": "code",
   "execution_count": 5,
   "id": "7325112c",
   "metadata": {},
   "outputs": [],
   "source": [
    "target=df[\"Y\"]\n",
    "target = target.astype('int')\n",
    "df2=df.drop([\"Y\"],axis=1)"
   ]
  },
  {
   "cell_type": "code",
   "execution_count": 6,
   "id": "6e2e3e0f",
   "metadata": {},
   "outputs": [],
   "source": [
    "# feature extraction using wavelet transform\n",
    "import pywt\n",
    "def getWaveletFeatures(data,target):\n",
    "    list_features = []\n",
    "    for signal in range(len(data)):\n",
    "        list_coeff = pywt.wavedec(data.iloc[signal], \"db4\")\n",
    "        features = []\n",
    "        for coeff in list_coeff:\n",
    "            features += statisticsForWavelet(coeff)\n",
    "        list_features.append(features)\n",
    "    return createDfWavelet(list_features,target)\n",
    "\n",
    "def statisticsForWavelet(coefs):\n",
    "    median = np.nanpercentile(coefs, 50)\n",
    "    mean = np.nanmean(coefs)\n",
    "    std = np.nanstd(coefs)\n",
    "    var = np.nanvar(coefs)\n",
    "    rms = np.nanmean(np.sqrt(coefs**2))\n",
    "    return [median, mean, std, var, rms]\n",
    "\n",
    "def createDfWavelet(data,target):\n",
    "    for i in range(len(data)):\n",
    "        data[i].append(target[i])\n",
    "    return pd.DataFrame(data) "
   ]
  },
  {
   "cell_type": "code",
   "execution_count": 7,
   "id": "89243d7e",
   "metadata": {},
   "outputs": [
    {
     "data": {
      "text/html": [
       "<div>\n",
       "<style scoped>\n",
       "    .dataframe tbody tr th:only-of-type {\n",
       "        vertical-align: middle;\n",
       "    }\n",
       "\n",
       "    .dataframe tbody tr th {\n",
       "        vertical-align: top;\n",
       "    }\n",
       "\n",
       "    .dataframe thead th {\n",
       "        text-align: right;\n",
       "    }\n",
       "</style>\n",
       "<table border=\"1\" class=\"dataframe\">\n",
       "  <thead>\n",
       "    <tr style=\"text-align: right;\">\n",
       "      <th></th>\n",
       "      <th>0</th>\n",
       "      <th>1</th>\n",
       "      <th>2</th>\n",
       "      <th>3</th>\n",
       "      <th>4</th>\n",
       "      <th>5</th>\n",
       "      <th>6</th>\n",
       "      <th>7</th>\n",
       "      <th>8</th>\n",
       "      <th>9</th>\n",
       "      <th>...</th>\n",
       "      <th>16</th>\n",
       "      <th>17</th>\n",
       "      <th>18</th>\n",
       "      <th>19</th>\n",
       "      <th>20</th>\n",
       "      <th>21</th>\n",
       "      <th>22</th>\n",
       "      <th>23</th>\n",
       "      <th>24</th>\n",
       "      <th>25</th>\n",
       "    </tr>\n",
       "  </thead>\n",
       "  <tbody>\n",
       "    <tr>\n",
       "      <th>2848</th>\n",
       "      <td>-31.343243</td>\n",
       "      <td>-34.012856</td>\n",
       "      <td>207.759962</td>\n",
       "      <td>43164.201738</td>\n",
       "      <td>183.995829</td>\n",
       "      <td>16.560648</td>\n",
       "      <td>36.190475</td>\n",
       "      <td>164.117458</td>\n",
       "      <td>26934.539996</td>\n",
       "      <td>108.647743</td>\n",
       "      <td>...</td>\n",
       "      <td>0.466607</td>\n",
       "      <td>25.388654</td>\n",
       "      <td>644.583761</td>\n",
       "      <td>20.806181</td>\n",
       "      <td>-0.148919</td>\n",
       "      <td>-0.002840</td>\n",
       "      <td>3.789869</td>\n",
       "      <td>14.363104</td>\n",
       "      <td>3.116586</td>\n",
       "      <td>1</td>\n",
       "    </tr>\n",
       "    <tr>\n",
       "      <th>10411</th>\n",
       "      <td>76.579972</td>\n",
       "      <td>307.045028</td>\n",
       "      <td>665.490042</td>\n",
       "      <td>442876.995724</td>\n",
       "      <td>600.148705</td>\n",
       "      <td>-17.179161</td>\n",
       "      <td>-43.312953</td>\n",
       "      <td>376.312192</td>\n",
       "      <td>141610.866125</td>\n",
       "      <td>261.947111</td>\n",
       "      <td>...</td>\n",
       "      <td>-2.021693</td>\n",
       "      <td>51.467090</td>\n",
       "      <td>2648.861358</td>\n",
       "      <td>26.885099</td>\n",
       "      <td>-0.382091</td>\n",
       "      <td>-0.577731</td>\n",
       "      <td>14.057109</td>\n",
       "      <td>197.602319</td>\n",
       "      <td>6.631392</td>\n",
       "      <td>4</td>\n",
       "    </tr>\n",
       "    <tr>\n",
       "      <th>8746</th>\n",
       "      <td>96.867484</td>\n",
       "      <td>101.650572</td>\n",
       "      <td>46.756080</td>\n",
       "      <td>2186.131055</td>\n",
       "      <td>101.650572</td>\n",
       "      <td>-0.963472</td>\n",
       "      <td>-0.196251</td>\n",
       "      <td>50.610179</td>\n",
       "      <td>2561.390191</td>\n",
       "      <td>40.893210</td>\n",
       "      <td>...</td>\n",
       "      <td>0.217687</td>\n",
       "      <td>6.780086</td>\n",
       "      <td>45.969570</td>\n",
       "      <td>5.638942</td>\n",
       "      <td>-0.129436</td>\n",
       "      <td>-0.248087</td>\n",
       "      <td>2.280450</td>\n",
       "      <td>5.200450</td>\n",
       "      <td>1.828311</td>\n",
       "      <td>3</td>\n",
       "    </tr>\n",
       "    <tr>\n",
       "      <th>11109</th>\n",
       "      <td>20.681460</td>\n",
       "      <td>50.485645</td>\n",
       "      <td>379.282821</td>\n",
       "      <td>143855.457962</td>\n",
       "      <td>256.595483</td>\n",
       "      <td>-0.181144</td>\n",
       "      <td>5.362348</td>\n",
       "      <td>167.161088</td>\n",
       "      <td>27942.829356</td>\n",
       "      <td>81.122005</td>\n",
       "      <td>...</td>\n",
       "      <td>0.409616</td>\n",
       "      <td>27.114191</td>\n",
       "      <td>735.179333</td>\n",
       "      <td>15.250008</td>\n",
       "      <td>0.158586</td>\n",
       "      <td>0.102648</td>\n",
       "      <td>7.689009</td>\n",
       "      <td>59.120853</td>\n",
       "      <td>3.594959</td>\n",
       "      <td>4</td>\n",
       "    </tr>\n",
       "    <tr>\n",
       "      <th>9091</th>\n",
       "      <td>-14.888638</td>\n",
       "      <td>2.367473</td>\n",
       "      <td>192.504660</td>\n",
       "      <td>37058.044149</td>\n",
       "      <td>138.663634</td>\n",
       "      <td>20.565568</td>\n",
       "      <td>5.877719</td>\n",
       "      <td>73.964270</td>\n",
       "      <td>5470.713256</td>\n",
       "      <td>56.060944</td>\n",
       "      <td>...</td>\n",
       "      <td>-0.367670</td>\n",
       "      <td>13.938584</td>\n",
       "      <td>194.284136</td>\n",
       "      <td>11.060586</td>\n",
       "      <td>-0.751696</td>\n",
       "      <td>-0.334704</td>\n",
       "      <td>4.221388</td>\n",
       "      <td>17.820116</td>\n",
       "      <td>3.364999</td>\n",
       "      <td>3</td>\n",
       "    </tr>\n",
       "  </tbody>\n",
       "</table>\n",
       "<p>5 rows × 26 columns</p>\n",
       "</div>"
      ],
      "text/plain": [
       "              0           1           2              3           4   \\\n",
       "2848  -31.343243  -34.012856  207.759962   43164.201738  183.995829   \n",
       "10411  76.579972  307.045028  665.490042  442876.995724  600.148705   \n",
       "8746   96.867484  101.650572   46.756080    2186.131055  101.650572   \n",
       "11109  20.681460   50.485645  379.282821  143855.457962  256.595483   \n",
       "9091  -14.888638    2.367473  192.504660   37058.044149  138.663634   \n",
       "\n",
       "              5          6           7              8           9   ...  \\\n",
       "2848   16.560648  36.190475  164.117458   26934.539996  108.647743  ...   \n",
       "10411 -17.179161 -43.312953  376.312192  141610.866125  261.947111  ...   \n",
       "8746   -0.963472  -0.196251   50.610179    2561.390191   40.893210  ...   \n",
       "11109  -0.181144   5.362348  167.161088   27942.829356   81.122005  ...   \n",
       "9091   20.565568   5.877719   73.964270    5470.713256   56.060944  ...   \n",
       "\n",
       "             16         17           18         19        20        21  \\\n",
       "2848   0.466607  25.388654   644.583761  20.806181 -0.148919 -0.002840   \n",
       "10411 -2.021693  51.467090  2648.861358  26.885099 -0.382091 -0.577731   \n",
       "8746   0.217687   6.780086    45.969570   5.638942 -0.129436 -0.248087   \n",
       "11109  0.409616  27.114191   735.179333  15.250008  0.158586  0.102648   \n",
       "9091  -0.367670  13.938584   194.284136  11.060586 -0.751696 -0.334704   \n",
       "\n",
       "              22          23        24  25  \n",
       "2848    3.789869   14.363104  3.116586   1  \n",
       "10411  14.057109  197.602319  6.631392   4  \n",
       "8746    2.280450    5.200450  1.828311   3  \n",
       "11109   7.689009   59.120853  3.594959   4  \n",
       "9091    4.221388   17.820116  3.364999   3  \n",
       "\n",
       "[5 rows x 26 columns]"
      ]
     },
     "execution_count": 7,
     "metadata": {},
     "output_type": "execute_result"
    }
   ],
   "source": [
    "df2_fea=getWaveletFeatures(df2,target)\n",
    "df2_fea = shuffle(df2_fea)\n",
    "df2_fea.head()"
   ]
  },
  {
   "cell_type": "code",
   "execution_count": 8,
   "id": "87677785",
   "metadata": {},
   "outputs": [
    {
     "data": {
      "text/plain": [
       "array([1, 4, 3, ..., 3, 2, 4])"
      ]
     },
     "execution_count": 8,
     "metadata": {},
     "output_type": "execute_result"
    }
   ],
   "source": [
    "X = df2_fea.iloc[:,0:24].values\n",
    "Y = df2_fea.iloc[:,25].values\n",
    "Y"
   ]
  },
  {
   "cell_type": "code",
   "execution_count": 9,
   "id": "c8830b61",
   "metadata": {},
   "outputs": [],
   "source": [
    "# normalize the dataset\n",
    "scaler = StandardScaler()\n",
    "scaler.fit(X)\n",
    "X = scaler.transform(X)\n",
    "\n",
    "# split the dataset into training (80%) and testing (20%) set\n",
    "X_train, X_test, Y_train, Y_test = train_test_split(X, Y, test_size = 0.2)\n",
    "X_train, X_val, Y_train, Y_val = train_test_split(X_train, Y_train, test_size=0.13, random_state=1) "
   ]
  },
  {
   "cell_type": "code",
   "execution_count": 10,
   "id": "36192eec",
   "metadata": {},
   "outputs": [
    {
     "name": "stdout",
     "output_type": "stream",
     "text": [
      "Fitting 5 folds for each of 5 candidates, totalling 25 fits\n"
     ]
    },
    {
     "data": {
      "text/plain": [
       "SVC(C=10, degree=1, gamma=0.1, kernel='linear', probability=True)"
      ]
     },
     "execution_count": 10,
     "metadata": {},
     "output_type": "execute_result"
    }
   ],
   "source": [
    "from sklearn.model_selection import cross_val_predict\n",
    "from sklearn.svm import SVC\n",
    "from sklearn.model_selection import RandomizedSearchCV\n",
    "\n",
    "svmclf = SVC(kernel='rbf', probability=True)\n",
    "\n",
    "\n",
    "## define the hyperparameters of SVM model\n",
    "param_grid = {\n",
    "    'C':   [0.001, 0.01, 0.1, 1, 10],\n",
    "    'kernel': ['linear', 'poly','rbf'],\n",
    "    'gamma': [1, 0.1, 0.01, 0.001, 0.0001],\n",
    "    'degree': [1, 2, 3, 4, 5]}\n",
    "\n",
    "searchSVM = RandomizedSearchCV(svmclf, param_grid, cv = 5, \n",
    "                              n_iter=5, scoring ='accuracy',\n",
    "                              refit='precision',\n",
    "                              return_train_score=False,\n",
    "                              n_jobs=-1,\n",
    "                              verbose=1)\n",
    "searchSVM.fit(X_train,Y_train)\n",
    "\n",
    "SVM = searchSVM.best_params_\n",
    "\n",
    "clf_svm = SVC(\n",
    "    C = SVM['C'], \n",
    "    kernel = SVM['kernel'], \n",
    "    gamma = SVM['gamma'],\n",
    "    degree = SVM['degree'],probability=True)\n",
    "clf_svm.fit(X_train,Y_train)"
   ]
  },
  {
   "cell_type": "code",
   "execution_count": 11,
   "id": "66a49e5b",
   "metadata": {},
   "outputs": [
    {
     "name": "stdout",
     "output_type": "stream",
     "text": [
      "Training metrics\n",
      "               precision    recall  f1-score   support\n",
      "\n",
      " Eyes opened       0.65      0.74      0.69       235\n",
      " Eyes closed       0.76      0.68      0.71       240\n",
      "Healthy Area       0.53      0.58      0.55       234\n",
      "  Tumor Area       0.51      0.47      0.49       233\n",
      "     Seizure       0.96      0.92      0.94       254\n",
      "\n",
      "    accuracy                           0.68      1196\n",
      "   macro avg       0.68      0.68      0.68      1196\n",
      "weighted avg       0.69      0.68      0.68      1196\n",
      "\n"
     ]
    }
   ],
   "source": [
    "y_predtrain = cross_val_predict(clf_svm, X_val, Y_val, cv=5)\n",
    "\n",
    "#print the performance metrics (precison, recall and f1 score) on training dataset for all class\n",
    "print(\"Training metrics\\n\",classification_report(Y_val, y_predtrain,target_names=['Eyes opened','Eyes closed','Healthy Area','Tumor Area','Seizure']))"
   ]
  },
  {
   "cell_type": "code",
   "execution_count": 12,
   "id": "12058107",
   "metadata": {},
   "outputs": [
    {
     "name": "stdout",
     "output_type": "stream",
     "text": [
      "Testing metrics\n",
      "               precision    recall  f1-score   support\n",
      "\n",
      " Eyes opened       0.69      0.74      0.71       443\n",
      " Eyes closed       0.76      0.73      0.75       472\n",
      "Healthy Area       0.54      0.71      0.62       473\n",
      "  Tumor Area       0.56      0.38      0.45       456\n",
      "     Seizure       0.96      0.93      0.94       456\n",
      "\n",
      "    accuracy                           0.70      2300\n",
      "   macro avg       0.70      0.70      0.69      2300\n",
      "weighted avg       0.70      0.70      0.69      2300\n",
      "\n"
     ]
    },
    {
     "data": {
      "text/plain": [
       "<AxesSubplot:>"
      ]
     },
     "execution_count": 12,
     "metadata": {},
     "output_type": "execute_result"
    },
    {
     "data": {
      "image/png": "[encoded data removed]",
      "text/plain": [
       "<Figure size 432x288 with 2 Axes>"
      ]
     },
     "metadata": {
      "needs_background": "light"
     },
     "output_type": "display_data"
    }
   ],
   "source": [
    "y_pred = cross_val_predict(clf_svm,X_test,Y_test,cv=5)\n",
    "\n",
    "#print the performance metrics (precison, recall and f1 score) on testing dataset for all class\n",
    "print(\"Testing metrics\\n\",classification_report(Y_test, y_pred,target_names=['Eyes opened','Eyes closed','Healthy Area','Tumor Area','Seizure']))\n",
    "\n",
    "# confusion matrix\n",
    "cm = confusion_matrix(Y_test, y_pred)\n",
    "df_cm = pd.DataFrame(cm, range(5), range(5))\n",
    "sn.heatmap(df_cm, annot=True,fmt='g',cmap ='Blues')"
   ]
  },
  {
   "cell_type": "markdown",
   "id": "4a12314c",
   "metadata": {},
   "source": [
    "## LSTM model for multi class classification"
   ]
  },
  {
   "cell_type": "code",
   "execution_count": 13,
   "id": "58dcd914",
   "metadata": {},
   "outputs": [],
   "source": [
    "## Now let us try recurrent neural network (LSTM) for seizure detection and classification"
   ]
  },
  {
   "cell_type": "code",
   "execution_count": 14,
   "id": "138ca02e",
   "metadata": {},
   "outputs": [],
   "source": [
    "df = shuffle(df)\n",
    "X1 = df.iloc[:,1:177].values\n",
    "Y1 = df.iloc[:,178].values\n",
    "\n",
    "# normalize the dataset\n",
    "scaler = StandardScaler()\n",
    "scaler.fit(X1)\n",
    "X1 = scaler.transform(X1)\n",
    "from keras.utils import to_categorical\n",
    "Y1 = to_categorical(Y1)\n",
    "\n",
    "# split the training (60%) validation (20%) and testing (20%) dataset\n",
    "X1_train, X1_test, Y1_train, Y1_test = train_test_split(X1, Y1, test_size = 0.2)\n",
    "X1_train, X1_val, Y1_train, Y1_val = train_test_split(X1_train, Y1_train, test_size=0.13, random_state=1)\n",
    "\n",
    "X1_train = np.reshape(X1_train, (X1_train.shape[0],1,X1.shape[1]))\n",
    "X1_test = np.reshape(X1_test, (X1_test.shape[0],1,X1.shape[1]))\n",
    "X1_val = np.reshape(X1_val, (X1_val.shape[0],1,X1.shape[1]))"
   ]
  },
  {
   "cell_type": "code",
   "execution_count": 15,
   "id": "1b40b661",
   "metadata": {},
   "outputs": [],
   "source": [
    "import tensorflow as tf\n",
    "from tensorflow.keras import Sequential\n",
    "from keras.optimizers import SGD\n",
    "from keras_tuner import RandomSearch\n",
    "\n",
    "from tensorflow.keras.layers import Dense, Dropout\n",
    "from tensorflow.keras.layers import Embedding\n",
    "from tensorflow.keras.layers import LSTM\n",
    "tf.keras.backend.clear_session()"
   ]
  },
  {
   "cell_type": "code",
   "execution_count": 16,
   "id": "bfc178e3",
   "metadata": {},
   "outputs": [],
   "source": [
    "#  to find the the optimal number of LSTM layers we used hp.int() in a for loop, which could take value 1 to 4.\n",
    "# To avoid overfitting the neural network, we add a dropout layer and to find the right drop out we used hp.Float().\n",
    "# and defined the the final layer as dense layer\n",
    "#After defining the hyper-parameters we compiled the model with RMSprop optimizer,\n",
    "# binary cross-Entropy loss function, and metric and return that model\n",
    "\n",
    "# we used early stopping to Stop the training when a monitored metric has stopped improving.\n",
    "stop_early = tf.keras.callbacks.EarlyStopping(monitor='val_loss', patience=5)\n",
    "\n",
    "def build_model(hp):\n",
    "    model = Sequential()\n",
    "    model.add(LSTM(hp.Int('input_unit',min_value=16,max_value=512,step=16),return_sequences=True, input_shape=(X1_train.shape[1],X1_train.shape[2])))\n",
    "    for i in range(hp.Int('n_layers', 1, 4)):\n",
    "        model.add(LSTM(hp.Int(f'lstm_{i}_units',min_value=16,max_value=512,step=16),return_sequences=True))\n",
    "    model.add(LSTM(hp.Int('layer_2_neurons',min_value=16,max_value=512,step=16)))\n",
    "    model.add(Dropout(hp.Float('Dropout_rate',min_value=0,max_value=0.9,step=0.1)))\n",
    "    model.add(Dense(Y1_train.shape[1], activation=hp.Choice('dense_activation',values=['relu', 'sigmoid','softmax'])))\n",
    "    hp_learning_rate = hp.Choice('learning_rate', values=[1e-2, 1e-3, 1e-4])\n",
    "    model.compile(optimizer=keras.optimizers.Adam(learning_rate=hp_learning_rate),\n",
    "                  loss = 'categorical_crossentropy', metrics = ['accuracy'])\n",
    "    return model"
   ]
  },
  {
   "cell_type": "code",
   "execution_count": 17,
   "id": "6cc83d80",
   "metadata": {},
   "outputs": [
    {
     "name": "stdout",
     "output_type": "stream",
     "text": [
      "INFO:tensorflow:Reloading Oracle from existing project D:\\Final_project\\Save_model\\Muticlass\\Best_model2\\oracle.json\n",
      "INFO:tensorflow:Reloading Tuner from D:\\Final_project\\Save_model\\Muticlass\\Best_model2\\tuner0.json\n"
     ]
    }
   ],
   "source": [
    "import keras_tuner as kt\n",
    "tuner = kt.Hyperband(build_model,\n",
    "                     objective='val_accuracy',\n",
    "                     max_epochs=50,\n",
    "                     factor=3,\n",
    "                     directory='D:\\Final_project\\Save_model\\Muticlass',\n",
    "                     project_name='Best_model2')"
   ]
  },
  {
   "cell_type": "code",
   "execution_count": 18,
   "id": "f3c31b1a",
   "metadata": {},
   "outputs": [
    {
     "name": "stdout",
     "output_type": "stream",
     "text": [
      "INFO:tensorflow:Oracle triggered exit\n"
     ]
    }
   ],
   "source": [
    "tuner.search(\n",
    "        x=X1_train,\n",
    "        y=Y1_train,\n",
    "        epochs=50,\n",
    "        validation_data=(X1_val,Y1_val),\n",
    "         callbacks=[stop_early]\n",
    "        )"
   ]
  },
  {
   "cell_type": "code",
   "execution_count": 19,
   "id": "8d095b12",
   "metadata": {},
   "outputs": [
    {
     "name": "stdout",
     "output_type": "stream",
     "text": [
      "Results summary\n",
      "Results in D:\\Final_project\\Save_model\\Muticlass\\Best_model2\n",
      "Showing 10 best trials\n",
      "<keras_tuner.engine.objective.Objective object at 0x0000021C1C31E310>\n",
      "Trial summary\n",
      "Hyperparameters:\n",
      "input_unit: 512\n",
      "n_layers: 1\n",
      "lstm_0_units: 480\n",
      "layer_2_neurons: 288\n",
      "Dropout_rate: 0.2\n",
      "dense_activation: softmax\n",
      "learning_rate: 0.001\n",
      "lstm_1_units: 224\n",
      "lstm_2_units: 144\n",
      "lstm_3_units: 512\n",
      "tuner/epochs: 50\n",
      "tuner/initial_epoch: 17\n",
      "tuner/bracket: 3\n",
      "tuner/round: 3\n",
      "tuner/trial_id: 0047\n",
      "Score: 0.7274247407913208\n",
      "Trial summary\n",
      "Hyperparameters:\n",
      "input_unit: 176\n",
      "n_layers: 2\n",
      "lstm_0_units: 64\n",
      "layer_2_neurons: 16\n",
      "Dropout_rate: 0.5\n",
      "dense_activation: softmax\n",
      "learning_rate: 0.001\n",
      "lstm_1_units: 464\n",
      "lstm_2_units: 176\n",
      "lstm_3_units: 288\n",
      "tuner/epochs: 50\n",
      "tuner/initial_epoch: 0\n",
      "tuner/bracket: 0\n",
      "tuner/round: 0\n",
      "Score: 0.6881271004676819\n",
      "Trial summary\n",
      "Hyperparameters:\n",
      "input_unit: 512\n",
      "n_layers: 1\n",
      "lstm_0_units: 480\n",
      "layer_2_neurons: 288\n",
      "Dropout_rate: 0.2\n",
      "dense_activation: softmax\n",
      "learning_rate: 0.001\n",
      "lstm_1_units: 224\n",
      "lstm_2_units: 144\n",
      "lstm_3_units: 512\n",
      "tuner/epochs: 17\n",
      "tuner/initial_epoch: 6\n",
      "tuner/bracket: 3\n",
      "tuner/round: 2\n",
      "tuner/trial_id: 0034\n",
      "Score: 0.6864548325538635\n",
      "Trial summary\n",
      "Hyperparameters:\n",
      "input_unit: 208\n",
      "n_layers: 3\n",
      "lstm_0_units: 320\n",
      "layer_2_neurons: 480\n",
      "Dropout_rate: 0.2\n",
      "dense_activation: softmax\n",
      "learning_rate: 0.001\n",
      "lstm_1_units: 128\n",
      "lstm_2_units: 432\n",
      "lstm_3_units: 32\n",
      "tuner/epochs: 50\n",
      "tuner/initial_epoch: 17\n",
      "tuner/bracket: 2\n",
      "tuner/round: 2\n",
      "tuner/trial_id: 0068\n",
      "Score: 0.6864548325538635\n",
      "Trial summary\n",
      "Hyperparameters:\n",
      "input_unit: 208\n",
      "n_layers: 3\n",
      "lstm_0_units: 320\n",
      "layer_2_neurons: 480\n",
      "Dropout_rate: 0.2\n",
      "dense_activation: softmax\n",
      "learning_rate: 0.001\n",
      "lstm_1_units: 128\n",
      "lstm_2_units: 432\n",
      "lstm_3_units: 32\n",
      "tuner/epochs: 17\n",
      "tuner/initial_epoch: 6\n",
      "tuner/bracket: 2\n",
      "tuner/round: 1\n",
      "tuner/trial_id: 0060\n",
      "Score: 0.6847826242446899\n",
      "Trial summary\n",
      "Hyperparameters:\n",
      "input_unit: 208\n",
      "n_layers: 2\n",
      "lstm_0_units: 448\n",
      "layer_2_neurons: 416\n",
      "Dropout_rate: 0.6000000000000001\n",
      "dense_activation: softmax\n",
      "learning_rate: 0.001\n",
      "lstm_1_units: 384\n",
      "lstm_2_units: 336\n",
      "lstm_3_units: 272\n",
      "tuner/epochs: 17\n",
      "tuner/initial_epoch: 6\n",
      "tuner/bracket: 2\n",
      "tuner/round: 1\n",
      "tuner/trial_id: 0057\n",
      "Score: 0.6822742223739624\n",
      "Trial summary\n",
      "Hyperparameters:\n",
      "input_unit: 288\n",
      "n_layers: 3\n",
      "lstm_0_units: 192\n",
      "layer_2_neurons: 112\n",
      "Dropout_rate: 0.30000000000000004\n",
      "dense_activation: sigmoid\n",
      "learning_rate: 0.001\n",
      "lstm_1_units: 224\n",
      "lstm_2_units: 208\n",
      "lstm_3_units: 192\n",
      "tuner/epochs: 17\n",
      "tuner/initial_epoch: 0\n",
      "tuner/bracket: 1\n",
      "tuner/round: 0\n",
      "Score: 0.6822742223739624\n",
      "Trial summary\n",
      "Hyperparameters:\n",
      "input_unit: 288\n",
      "n_layers: 1\n",
      "lstm_0_units: 336\n",
      "layer_2_neurons: 320\n",
      "Dropout_rate: 0.30000000000000004\n",
      "dense_activation: sigmoid\n",
      "learning_rate: 0.001\n",
      "lstm_1_units: 32\n",
      "lstm_2_units: 96\n",
      "lstm_3_units: 240\n",
      "tuner/epochs: 50\n",
      "tuner/initial_epoch: 17\n",
      "tuner/bracket: 3\n",
      "tuner/round: 3\n",
      "tuner/trial_id: 0049\n",
      "Score: 0.681438148021698\n",
      "Trial summary\n",
      "Hyperparameters:\n",
      "input_unit: 496\n",
      "n_layers: 3\n",
      "lstm_0_units: 224\n",
      "layer_2_neurons: 112\n",
      "Dropout_rate: 0.2\n",
      "dense_activation: softmax\n",
      "learning_rate: 0.001\n",
      "lstm_1_units: 160\n",
      "lstm_2_units: 96\n",
      "lstm_3_units: 32\n",
      "tuner/epochs: 17\n",
      "tuner/initial_epoch: 6\n",
      "tuner/bracket: 2\n",
      "tuner/round: 1\n",
      "tuner/trial_id: 0054\n",
      "Score: 0.6772575378417969\n",
      "Trial summary\n",
      "Hyperparameters:\n",
      "input_unit: 208\n",
      "n_layers: 2\n",
      "lstm_0_units: 448\n",
      "layer_2_neurons: 416\n",
      "Dropout_rate: 0.6000000000000001\n",
      "dense_activation: softmax\n",
      "learning_rate: 0.001\n",
      "lstm_1_units: 384\n",
      "lstm_2_units: 336\n",
      "lstm_3_units: 272\n",
      "tuner/epochs: 50\n",
      "tuner/initial_epoch: 17\n",
      "tuner/bracket: 2\n",
      "tuner/round: 2\n",
      "tuner/trial_id: 0067\n",
      "Score: 0.6764214038848877\n"
     ]
    }
   ],
   "source": [
    "tuner.results_summary()"
   ]
  },
  {
   "cell_type": "code",
   "execution_count": 20,
   "id": "1069b8e9",
   "metadata": {},
   "outputs": [
    {
     "name": "stdout",
     "output_type": "stream",
     "text": [
      "Model: \"sequential\"\n",
      "_________________________________________________________________\n",
      "Layer (type)                 Output Shape              Param #   \n",
      "=================================================================\n",
      "lstm (LSTM)                  (None, 1, 512)            1411072   \n",
      "_________________________________________________________________\n",
      "lstm_1 (LSTM)                (None, 1, 480)            1906560   \n",
      "_________________________________________________________________\n",
      "lstm_2 (LSTM)                (None, 288)               885888    \n",
      "_________________________________________________________________\n",
      "dropout (Dropout)            (None, 288)               0         \n",
      "_________________________________________________________________\n",
      "dense (Dense)                (None, 5)                 1445      \n",
      "=================================================================\n",
      "Total params: 4,204,965\n",
      "Trainable params: 4,204,965\n",
      "Non-trainable params: 0\n",
      "_________________________________________________________________\n"
     ]
    }
   ],
   "source": [
    "best_model = tuner.get_best_models()[0]\n",
    "best_model.build(X1_train.shape)\n",
    "best_model.summary()"
   ]
  },
  {
   "cell_type": "code",
   "execution_count": 21,
   "id": "bd461307",
   "metadata": {},
   "outputs": [
    {
     "name": "stdout",
     "output_type": "stream",
     "text": [
      "Epoch 1/50\n",
      "501/501 [==============================] - 18s 37ms/step - loss: 0.5233 - accuracy: 0.7880 - val_loss: 0.5416 - val_accuracy: 0.7818\n",
      "Epoch 2/50\n",
      "501/501 [==============================] - 15s 30ms/step - loss: 0.3992 - accuracy: 0.8342 - val_loss: 0.5277 - val_accuracy: 0.7818\n",
      "Epoch 3/50\n",
      "501/501 [==============================] - 15s 29ms/step - loss: 0.3423 - accuracy: 0.8608 - val_loss: 0.5796 - val_accuracy: 0.7768\n",
      "Epoch 4/50\n",
      "501/501 [==============================] - 15s 29ms/step - loss: 0.2886 - accuracy: 0.8812 - val_loss: 0.5988 - val_accuracy: 0.7926\n",
      "Epoch 5/50\n",
      "501/501 [==============================] - 14s 29ms/step - loss: 0.2485 - accuracy: 0.8977 - val_loss: 0.6653 - val_accuracy: 0.7634\n",
      "Epoch 6/50\n",
      "501/501 [==============================] - 14s 29ms/step - loss: 0.2212 - accuracy: 0.9108 - val_loss: 0.7195 - val_accuracy: 0.7751\n",
      "Epoch 7/50\n",
      "501/501 [==============================] - 15s 29ms/step - loss: 0.1901 - accuracy: 0.9228 - val_loss: 0.7839 - val_accuracy: 0.7584\n"
     ]
    },
    {
     "data": {
      "text/plain": [
       "<tensorflow.python.keras.callbacks.History at 0x21c1a901c40>"
      ]
     },
     "execution_count": 21,
     "metadata": {},
     "output_type": "execute_result"
    }
   ],
   "source": [
    "best_model.fit(X1_train,Y1_train,epochs=50,\n",
    "        validation_data=(X1_val,Y1_val),\n",
    "        batch_size = 16,\n",
    "        callbacks=[stop_early])"
   ]
  },
  {
   "cell_type": "code",
   "execution_count": 22,
   "id": "5dca355b",
   "metadata": {},
   "outputs": [
    {
     "name": "stdout",
     "output_type": "stream",
     "text": [
      "              precision    recall  f1-score   support\n",
      "\n",
      " Eyes opened       0.77      0.74      0.75       484\n",
      " Eyes closed       0.79      0.86      0.83       433\n",
      "Healthy Area       0.70      0.63      0.66       471\n",
      "  Tumor Area       0.69      0.74      0.71       474\n",
      "     Seizure       0.98      0.97      0.97       438\n",
      "\n",
      "    accuracy                           0.78      2300\n",
      "   macro avg       0.79      0.79      0.78      2300\n",
      "weighted avg       0.78      0.78      0.78      2300\n",
      "\n"
     ]
    },
    {
     "data": {
      "text/plain": [
       "<AxesSubplot:>"
      ]
     },
     "execution_count": 22,
     "metadata": {},
     "output_type": "execute_result"
    },
    {
     "data": {
      "image/png": "[encoded data removed]",
      "text/plain": [
       "<Figure size 432x288 with 2 Axes>"
      ]
     },
     "metadata": {
      "needs_background": "light"
     },
     "output_type": "display_data"
    }
   ],
   "source": [
    "Y_pred = best_model.predict(X1_test)\n",
    "\n",
    "# calculate the performance metrics (precision, recall and f1 score)\n",
    "print(classification_report(Y1_test.argmax(axis=1), Y_pred.argmax(axis=1), target_names=['Eyes opened','Eyes closed','Healthy Area','Tumor Area','Seizure']))\n",
    "cm2 = confusion_matrix(Y1_test.argmax(axis=1), Y_pred.argmax(axis=1))\n",
    "df_cm2 = pd.DataFrame(cm2, range(5), range(5))\n",
    "sn.heatmap(df_cm2, annot=True,fmt='g',cmap ='Blues')"
   ]
  },
  {
   "cell_type": "code",
   "execution_count": 23,
   "id": "ab5239df",
   "metadata": {},
   "outputs": [],
   "source": [
    "from sklearn.dummy import DummyClassifier\n",
    "dummy_clf = DummyClassifier(strategy='constant', constant=1)\n",
    "dummy_clf.fit(X_train, Y_train)\n",
    "Yd_pred = dummy_clf.predict(X_test)"
   ]
  },
  {
   "cell_type": "code",
   "execution_count": 24,
   "id": "67aef6e5",
   "metadata": {},
   "outputs": [
    {
     "name": "stdout",
     "output_type": "stream",
     "text": [
      "Testing metrics\n",
      "               precision    recall  f1-score   support\n",
      "\n",
      " Eyes opened       0.00      0.00      0.00       443\n",
      " Eyes closed       0.21      1.00      0.34       472\n",
      "Healthy Area       0.00      0.00      0.00       473\n",
      "  Tumor Area       0.00      0.00      0.00       456\n",
      "     Seizure       0.00      0.00      0.00       456\n",
      "\n",
      "    accuracy                           0.21      2300\n",
      "   macro avg       0.04      0.20      0.07      2300\n",
      "weighted avg       0.04      0.21      0.07      2300\n",
      "\n"
     ]
    },
    {
     "name": "stderr",
     "output_type": "stream",
     "text": [
      "C:\\Users\\kau19001\\Anaconda3\\envs\\tensorflow\\lib\\site-packages\\sklearn\\metrics\\_classification.py:1318: UndefinedMetricWarning: Precision and F-score are ill-defined and being set to 0.0 in labels with no predicted samples. Use `zero_division` parameter to control this behavior.\n",
      "  _warn_prf(average, modifier, msg_start, len(result))\n",
      "C:\\Users\\kau19001\\Anaconda3\\envs\\tensorflow\\lib\\site-packages\\sklearn\\metrics\\_classification.py:1318: UndefinedMetricWarning: Precision and F-score are ill-defined and being set to 0.0 in labels with no predicted samples. Use `zero_division` parameter to control this behavior.\n",
      "  _warn_prf(average, modifier, msg_start, len(result))\n",
      "C:\\Users\\kau19001\\Anaconda3\\envs\\tensorflow\\lib\\site-packages\\sklearn\\metrics\\_classification.py:1318: UndefinedMetricWarning: Precision and F-score are ill-defined and being set to 0.0 in labels with no predicted samples. Use `zero_division` parameter to control this behavior.\n",
      "  _warn_prf(average, modifier, msg_start, len(result))\n"
     ]
    },
    {
     "data": {
      "text/plain": [
       "<AxesSubplot:>"
      ]
     },
     "execution_count": 24,
     "metadata": {},
     "output_type": "execute_result"
    },
    {
     "data": {
      "image/png": "[encoded data removed]",
      "text/plain": [
       "<Figure size 432x288 with 2 Axes>"
      ]
     },
     "metadata": {
      "needs_background": "light"
     },
     "output_type": "display_data"
    }
   ],
   "source": [
    "print(\"Testing metrics\\n\",classification_report(Y_test, Yd_pred,target_names=['Eyes opened','Eyes closed','Healthy Area','Tumor Area','Seizure']))\n",
    "\n",
    "# confusion matrix\n",
    "cmd = confusion_matrix(Y_test, Yd_pred)\n",
    "df_cmd = pd.DataFrame(cmd, range(5), range(5))\n",
    "sn.heatmap(df_cmd, annot=True,fmt='g',cmap ='Blues')"
   ]
  },
  {
   "cell_type": "markdown",
   "id": "ff219433",
   "metadata": {},
   "source": [
    "## ROC curves of all models"
   ]
  },
  {
   "cell_type": "code",
   "execution_count": 25,
   "id": "e85f6b80",
   "metadata": {},
   "outputs": [
    {
     "name": "stdout",
     "output_type": "stream",
     "text": [
      "WARNING:tensorflow:From C:\\Users\\kau19001\\AppData\\Local\\Temp\\ipykernel_796\\548708098.py:7: Sequential.predict_proba (from tensorflow.python.keras.engine.sequential) is deprecated and will be removed after 2021-01-01.\n",
      "Instructions for updating:\n",
      "Please use `model.predict()` instead.\n"
     ]
    },
    {
     "data": {
      "image/png": "[encoded data removed]",
      "text/plain": [
       "<Figure size 720x432 with 1 Axes>"
      ]
     },
     "metadata": {
      "needs_background": "light"
     },
     "output_type": "display_data"
    }
   ],
   "source": [
    "from sklearn.preprocessing import label_binarize\n",
    "from sklearn import metrics\n",
    "from sklearn.metrics import roc_curve, roc_auc_score, auc\n",
    "import matplotlib.pyplot as plt\n",
    "\n",
    "pred_prob1 = clf_svm.predict_proba(X_test)\n",
    "pred_prob2 = best_model.predict_proba(X1_test)\n",
    "pred_prob3 = dummy_clf.predict_proba(X_test)\n",
    "\n",
    "Y_bin1 = label_binarize(Y_test, classes=[0,1, 2,3,4])\n",
    "Y_bin2 = label_binarize(Y1_test, classes=[0,1, 2,3,4])\n",
    "\n",
    "\n",
    "auc1 = metrics.roc_auc_score(Y_test, pred_prob1, multi_class='ovr')\n",
    "auc2 = metrics.roc_auc_score(Y1_test, pred_prob2,multi_class='ovr' )\n",
    "auc3 = metrics.roc_auc_score(Y_test, pred_prob3, multi_class='ovr')\n",
    "\n",
    "\n",
    "plt.figure(1, figsize=(10, 6))\n",
    "plt.clf()\n",
    "\n",
    "\n",
    "\n",
    "\n",
    "for j in range(0,np.size(Y_bin1,1)):\n",
    "    fpr1, tpr1, T1 = roc_curve(Y_bin1[:,j], pred_prob1[:,j])\n",
    "    fpr2, tpr2, T2 = roc_curve(Y_bin2[:,j], pred_prob2[:,j])\n",
    "    fpr3, tpr3, T3 = roc_curve(Y_bin1[:,j], pred_prob3[:,j])\n",
    "#random_probs = [0 for i in range(len(Y_test))]\n",
    "#p_fpr, p_tpr, _ = roc_curve(Y_test, random_probs, pos_label=1)\n",
    "\n",
    "# plot roc curves\n",
    "plt.plot(fpr1, tpr1, linestyle='--',color='green', label=\"SVM auc=\"+str(auc1))\n",
    "plt.plot(fpr2, tpr2, linestyle='--',color='red', label=\"LSTM auc=\"+str(auc2))\n",
    "plt.plot(fpr3, tpr3, linestyle='--',color='blue', label=\"Dummy auc=\"+str(auc3))\n",
    "#plt.plot(p_fpr, p_tpr, linestyle='--', color='blue')\n",
    "\n",
    "plt.title('ROC curve')\n",
    "# x label\n",
    "plt.xlabel('False Positive Rate')\n",
    "# y label\n",
    "plt.ylabel('True Positive rate')\n",
    "\n",
    "plt.legend(loc='best')\n",
    "plt.savefig('ROC',dpi=300)\n",
    "plt.show();\n"
   ]
  },
  {
   "cell_type": "code",
   "execution_count": null,
   "id": "15f7d9ed",
   "metadata": {},
   "outputs": [],
   "source": []
  },
  {
   "cell_type": "code",
   "execution_count": null,
   "id": "4ed3b356",
   "metadata": {},
   "outputs": [],
   "source": []
  }
 ],
 "metadata": {
  "kernelspec": {
   "display_name": "Python 3 (ipykernel)",
   "language": "python",
   "name": "python3"
  },
  "language_info": {
   "codemirror_mode": {
    "name": "ipython",
    "version": 3
   },
   "file_extension": ".py",
   "mimetype": "text/x-python",
   "name": "python",
   "nbconvert_exporter": "python",
   "pygments_lexer": "ipython3",
   "version": "3.8.13"
  }
 },
 "nbformat": 4,
 "nbformat_minor": 5
}
