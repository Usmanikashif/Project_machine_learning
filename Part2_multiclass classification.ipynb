{
 "cells": [
  {
   "cell_type": "code",
   "execution_count": 1,
   "id": "9d6678f8",
   "metadata": {},
   "outputs": [],
   "source": [
    "import glob\n",
    "import numpy as np\n",
    "import matplotlib as mpl\n",
    "import matplotlib.pyplot as plt\n",
    "import pandas as pd\n",
    "import os\n",
    "from sklearn.preprocessing import StandardScaler\n",
    "from sklearn.metrics import confusion_matrix, accuracy_score, classification_report\n",
    "import seaborn as sn\n",
    "import tensorflow as tf\n",
    "from tensorflow import keras\n",
    "from sklearn.model_selection import train_test_split, cross_val_score\n",
    "from sklearn.utils import shuffle\n",
    "import tensorflow as tf\n",
    "from tensorflow.keras import Sequential\n",
    "from keras.optimizers import SGD\n",
    "from keras_tuner import RandomSearch\n",
    "\n",
    "from tensorflow.keras.layers import Dense, Dropout\n",
    "from tensorflow.keras.layers import Embedding\n",
    "from tensorflow.keras.layers import LSTM\n",
    "tf.keras.backend.clear_session()\n",
    "\n",
    "import keras_tuner as kt"
   ]
  },
  {
   "cell_type": "markdown",
   "id": "d2a5492b",
   "metadata": {},
   "source": [
    "### For multiclass classification we labeled the datasets A, B, C, D and E as '0', '1','2', '3',and '4', resepctively. We used SVM model and LSTM model to classify the dataset"
   ]
  },
  {
   "cell_type": "code",
   "execution_count": 2,
   "id": "e30adc2e",
   "metadata": {},
   "outputs": [],
   "source": [
    "# We Labeled the datasets A, B, C, D and E as '0', '1','2', '3',and '4', resepctively\n",
    "# DataA\n",
    "pathA = r'D:/Final_project/Data/merged/A' \n",
    "all_filesA = glob.glob(pathA + \"/*.csv\")\n",
    "\n",
    "tempA = []\n",
    "\n",
    "for filename in all_filesA:\n",
    "    df1 = pd.read_csv(filename, index_col=None, header=0)\n",
    "    tempA.append(df1)\n",
    "\n",
    "dfA = pd.concat(tempA, axis=0, ignore_index=True)\n",
    "dfA.insert(loc=len(dfA.columns), column='Y', value='0', allow_duplicates=True)\n",
    "\n",
    "\n",
    "# DataB\n",
    "pathB = r'D:/Final_project/Data/merged/B' \n",
    "all_filesB = glob.glob(pathB + \"/*.csv\")\n",
    "\n",
    "tempB = []\n",
    "\n",
    "for filename in all_filesB:\n",
    "    df2 = pd.read_csv(filename, index_col=None, header=0)\n",
    "    tempB.append(df2)\n",
    "\n",
    "dfB = pd.concat(tempB, axis=0, ignore_index=True)\n",
    "dfB.insert(loc=len(dfB.columns), column='Y', value='1', allow_duplicates=True)\n",
    "\n",
    "# DataC\n",
    "pathC = r'D:/Final_project/Data/merged/C'\n",
    "all_filesC = glob.glob(pathC + \"/*.csv\")\n",
    "\n",
    "tempC = []\n",
    "\n",
    "for filename in all_filesC:\n",
    "    df3 = pd.read_csv(filename, index_col=None, header=0)\n",
    "    tempC.append(df3)\n",
    "\n",
    "dfC = pd.concat(tempC, axis=0, ignore_index=True)\n",
    "dfC.insert(loc=len(dfC.columns), column='Y', value='2', allow_duplicates=True)\n",
    "\n",
    "\n",
    "## Data D\n",
    "pathD = r'D:/Final_project/Data/merged/D' \n",
    "all_filesD = glob.glob(pathD + \"/*.csv\")\n",
    "\n",
    "tempD = []\n",
    "\n",
    "for filename in all_filesD:\n",
    "    df4 = pd.read_csv(filename, index_col=None, header=0)\n",
    "    tempD.append(df4)\n",
    "\n",
    "dfD = pd.concat(tempD, axis=0, ignore_index=True)\n",
    "dfD.insert(loc=len(dfD.columns), column='Y', value='3', allow_duplicates=True)\n",
    "\n",
    "\n",
    "## Data E\n",
    "pathE = r'D:/Final_project/Data/merged/E' \n",
    "all_filesE = glob.glob(pathE + \"/*.csv\")\n",
    "\n",
    "tempE = []\n",
    "\n",
    "for filename in all_filesE:\n",
    "    df5 = pd.read_csv(filename, index_col=None, header=0)\n",
    "    tempE.append(df5)\n",
    "\n",
    "dfE = pd.concat(tempE, axis=0, ignore_index=True)\n",
    "dfE.insert(loc=len(dfE.columns), column='Y', value='4', allow_duplicates=True)"
   ]
  },
  {
   "cell_type": "code",
   "execution_count": 3,
   "id": "b2db8556",
   "metadata": {},
   "outputs": [],
   "source": [
    "df = pd.concat([dfA, dfB,dfC,dfD,dfE], ignore_index=True)"
   ]
  },
  {
   "cell_type": "code",
   "execution_count": 4,
   "id": "a635f755",
   "metadata": {},
   "outputs": [
    {
     "name": "stdout",
     "output_type": "stream",
     "text": [
      "The number of samples for the class 0 is: 2300\n",
      "The number of samples for the class 1 is: 2300\n",
      "The number of samples for the class 2 is: 2300\n",
      "The number of samples for the class 3 is: 2300\n",
      "The number of samples for the class 4 is: 2300\n"
     ]
    },
    {
     "name": "stderr",
     "output_type": "stream",
     "text": [
      "C:\\Users\\kau19001\\Anaconda3\\envs\\tensorflow\\lib\\site-packages\\seaborn\\_decorators.py:36: FutureWarning: Pass the following variable as a keyword arg: x. From version 0.12, the only valid positional argument will be `data`, and passing other arguments without an explicit keyword will result in an error or misinterpretation.\n",
      "  warnings.warn(\n"
     ]
    },
    {
     "data": {
      "image/png": "[encoded data removed]",
      "text/plain": [
       "<Figure size 432x288 with 1 Axes>"
      ]
     },
     "metadata": {
      "needs_background": "light"
     },
     "output_type": "display_data"
    }
   ],
   "source": [
    "import seaborn as sn\n",
    "tgt=df[\"Y\"]\n",
    "tgt= tgt.astype('int')\n",
    "ax = sn.countplot(tgt, label=\"Count\")\n",
    "class0 = np.count_nonzero(tgt == 0)\n",
    "class1 = np.count_nonzero(tgt == 1) \n",
    "class2 = np.count_nonzero(tgt == 2) \n",
    "class3 = np.count_nonzero(tgt == 3) \n",
    "class4 = np.count_nonzero(tgt == 4) \n",
    "\n",
    "print('The number of samples for the class 0 is:', class0)\n",
    "print('The number of samples for the class 1 is:', class1)\n",
    "print('The number of samples for the class 2 is:', class2)\n",
    "print('The number of samples for the class 3 is:', class3)\n",
    "print('The number of samples for the class 4 is:', class4)"
   ]
  },
  {
   "cell_type": "code",
   "execution_count": 5,
   "id": "7325112c",
   "metadata": {},
   "outputs": [],
   "source": [
    "target=df[\"Y\"]\n",
    "target = target.astype('int')\n",
    "df2=df.drop([\"Y\"],axis=1)"
   ]
  },
  {
   "cell_type": "code",
   "execution_count": 6,
   "id": "6e2e3e0f",
   "metadata": {},
   "outputs": [],
   "source": [
    "# feature extraction using wavelet transform\n",
    "import pywt\n",
    "def getWaveletFeatures(data,target):\n",
    "    list_features = []\n",
    "    for signal in range(len(data)):\n",
    "        list_coeff = pywt.wavedec(data.iloc[signal], \"db4\")\n",
    "        features = []\n",
    "        for coeff in list_coeff:\n",
    "            features += statisticsForWavelet(coeff)\n",
    "        list_features.append(features)\n",
    "    return createDfWavelet(list_features,target)\n",
    "\n",
    "def statisticsForWavelet(coefs):\n",
    "    median = np.nanpercentile(coefs, 50)\n",
    "    mean = np.nanmean(coefs)\n",
    "    std = np.nanstd(coefs)\n",
    "    var = np.nanvar(coefs)\n",
    "    rms = np.nanmean(np.sqrt(coefs**2))\n",
    "    return [median, mean, std, var, rms]\n",
    "\n",
    "def createDfWavelet(data,target):\n",
    "    for i in range(len(data)):\n",
    "        data[i].append(target[i])\n",
    "    return pd.DataFrame(data) "
   ]
  },
  {
   "cell_type": "code",
   "execution_count": 7,
   "id": "89243d7e",
   "metadata": {},
   "outputs": [
    {
     "data": {
      "text/html": [
       "<div>\n",
       "<style scoped>\n",
       "    .dataframe tbody tr th:only-of-type {\n",
       "        vertical-align: middle;\n",
       "    }\n",
       "\n",
       "    .dataframe tbody tr th {\n",
       "        vertical-align: top;\n",
       "    }\n",
       "\n",
       "    .dataframe thead th {\n",
       "        text-align: right;\n",
       "    }\n",
       "</style>\n",
       "<table border=\"1\" class=\"dataframe\">\n",
       "  <thead>\n",
       "    <tr style=\"text-align: right;\">\n",
       "      <th></th>\n",
       "      <th>0</th>\n",
       "      <th>1</th>\n",
       "      <th>2</th>\n",
       "      <th>3</th>\n",
       "      <th>4</th>\n",
       "      <th>5</th>\n",
       "      <th>6</th>\n",
       "      <th>7</th>\n",
       "      <th>8</th>\n",
       "      <th>9</th>\n",
       "      <th>...</th>\n",
       "      <th>16</th>\n",
       "      <th>17</th>\n",
       "      <th>18</th>\n",
       "      <th>19</th>\n",
       "      <th>20</th>\n",
       "      <th>21</th>\n",
       "      <th>22</th>\n",
       "      <th>23</th>\n",
       "      <th>24</th>\n",
       "      <th>25</th>\n",
       "    </tr>\n",
       "  </thead>\n",
       "  <tbody>\n",
       "    <tr>\n",
       "      <th>2958</th>\n",
       "      <td>-96.854828</td>\n",
       "      <td>-60.738777</td>\n",
       "      <td>202.092684</td>\n",
       "      <td>40841.452750</td>\n",
       "      <td>187.887462</td>\n",
       "      <td>95.635446</td>\n",
       "      <td>77.104583</td>\n",
       "      <td>137.809782</td>\n",
       "      <td>18991.535940</td>\n",
       "      <td>123.676539</td>\n",
       "      <td>...</td>\n",
       "      <td>-0.199127</td>\n",
       "      <td>36.890800</td>\n",
       "      <td>1360.931158</td>\n",
       "      <td>25.069168</td>\n",
       "      <td>-0.573490</td>\n",
       "      <td>-0.153525</td>\n",
       "      <td>5.580544</td>\n",
       "      <td>31.142473</td>\n",
       "      <td>4.351815</td>\n",
       "      <td>1</td>\n",
       "    </tr>\n",
       "    <tr>\n",
       "      <th>4670</th>\n",
       "      <td>-15.987089</td>\n",
       "      <td>-17.132358</td>\n",
       "      <td>73.529111</td>\n",
       "      <td>5406.530216</td>\n",
       "      <td>63.329200</td>\n",
       "      <td>11.429512</td>\n",
       "      <td>3.782765</td>\n",
       "      <td>22.443470</td>\n",
       "      <td>503.709326</td>\n",
       "      <td>20.132452</td>\n",
       "      <td>...</td>\n",
       "      <td>-0.245119</td>\n",
       "      <td>4.715243</td>\n",
       "      <td>22.233516</td>\n",
       "      <td>3.732945</td>\n",
       "      <td>-0.138308</td>\n",
       "      <td>0.026670</td>\n",
       "      <td>1.719586</td>\n",
       "      <td>2.956974</td>\n",
       "      <td>1.396903</td>\n",
       "      <td>2</td>\n",
       "    </tr>\n",
       "    <tr>\n",
       "      <th>5266</th>\n",
       "      <td>-222.987244</td>\n",
       "      <td>-175.048577</td>\n",
       "      <td>262.480608</td>\n",
       "      <td>68896.069763</td>\n",
       "      <td>273.187301</td>\n",
       "      <td>9.497606</td>\n",
       "      <td>2.685796</td>\n",
       "      <td>67.351729</td>\n",
       "      <td>4536.255461</td>\n",
       "      <td>54.223401</td>\n",
       "      <td>...</td>\n",
       "      <td>0.050921</td>\n",
       "      <td>6.622751</td>\n",
       "      <td>43.860825</td>\n",
       "      <td>4.782211</td>\n",
       "      <td>0.217047</td>\n",
       "      <td>0.292688</td>\n",
       "      <td>1.969718</td>\n",
       "      <td>3.879788</td>\n",
       "      <td>1.584841</td>\n",
       "      <td>2</td>\n",
       "    </tr>\n",
       "    <tr>\n",
       "      <th>2466</th>\n",
       "      <td>96.105407</td>\n",
       "      <td>194.233949</td>\n",
       "      <td>225.368121</td>\n",
       "      <td>50790.790110</td>\n",
       "      <td>210.274531</td>\n",
       "      <td>4.392871</td>\n",
       "      <td>8.312779</td>\n",
       "      <td>128.210224</td>\n",
       "      <td>16437.861607</td>\n",
       "      <td>99.997696</td>\n",
       "      <td>...</td>\n",
       "      <td>0.906653</td>\n",
       "      <td>32.862165</td>\n",
       "      <td>1079.921872</td>\n",
       "      <td>25.099007</td>\n",
       "      <td>0.479265</td>\n",
       "      <td>-0.039171</td>\n",
       "      <td>5.458935</td>\n",
       "      <td>29.799972</td>\n",
       "      <td>4.179406</td>\n",
       "      <td>1</td>\n",
       "    </tr>\n",
       "    <tr>\n",
       "      <th>342</th>\n",
       "      <td>27.254751</td>\n",
       "      <td>5.232644</td>\n",
       "      <td>94.657002</td>\n",
       "      <td>8959.947988</td>\n",
       "      <td>87.091959</td>\n",
       "      <td>9.103941</td>\n",
       "      <td>-1.597175</td>\n",
       "      <td>39.594065</td>\n",
       "      <td>1567.689999</td>\n",
       "      <td>30.593381</td>\n",
       "      <td>...</td>\n",
       "      <td>-0.754571</td>\n",
       "      <td>14.450908</td>\n",
       "      <td>208.828741</td>\n",
       "      <td>10.922516</td>\n",
       "      <td>-0.116743</td>\n",
       "      <td>0.082846</td>\n",
       "      <td>3.435427</td>\n",
       "      <td>11.802162</td>\n",
       "      <td>2.688858</td>\n",
       "      <td>0</td>\n",
       "    </tr>\n",
       "  </tbody>\n",
       "</table>\n",
       "<p>5 rows × 26 columns</p>\n",
       "</div>"
      ],
      "text/plain": [
       "              0           1           2             3           4          5   \\\n",
       "2958  -96.854828  -60.738777  202.092684  40841.452750  187.887462  95.635446   \n",
       "4670  -15.987089  -17.132358   73.529111   5406.530216   63.329200  11.429512   \n",
       "5266 -222.987244 -175.048577  262.480608  68896.069763  273.187301   9.497606   \n",
       "2466   96.105407  194.233949  225.368121  50790.790110  210.274531   4.392871   \n",
       "342    27.254751    5.232644   94.657002   8959.947988   87.091959   9.103941   \n",
       "\n",
       "             6           7             8           9   ...        16  \\\n",
       "2958  77.104583  137.809782  18991.535940  123.676539  ... -0.199127   \n",
       "4670   3.782765   22.443470    503.709326   20.132452  ... -0.245119   \n",
       "5266   2.685796   67.351729   4536.255461   54.223401  ...  0.050921   \n",
       "2466   8.312779  128.210224  16437.861607   99.997696  ...  0.906653   \n",
       "342   -1.597175   39.594065   1567.689999   30.593381  ... -0.754571   \n",
       "\n",
       "             17           18         19        20        21        22  \\\n",
       "2958  36.890800  1360.931158  25.069168 -0.573490 -0.153525  5.580544   \n",
       "4670   4.715243    22.233516   3.732945 -0.138308  0.026670  1.719586   \n",
       "5266   6.622751    43.860825   4.782211  0.217047  0.292688  1.969718   \n",
       "2466  32.862165  1079.921872  25.099007  0.479265 -0.039171  5.458935   \n",
       "342   14.450908   208.828741  10.922516 -0.116743  0.082846  3.435427   \n",
       "\n",
       "             23        24  25  \n",
       "2958  31.142473  4.351815   1  \n",
       "4670   2.956974  1.396903   2  \n",
       "5266   3.879788  1.584841   2  \n",
       "2466  29.799972  4.179406   1  \n",
       "342   11.802162  2.688858   0  \n",
       "\n",
       "[5 rows x 26 columns]"
      ]
     },
     "execution_count": 7,
     "metadata": {},
     "output_type": "execute_result"
    }
   ],
   "source": [
    "df2_fea=getWaveletFeatures(df2,target)\n",
    "df2_fea = shuffle(df2_fea)\n",
    "df2_fea.head()"
   ]
  },
  {
   "cell_type": "code",
   "execution_count": 8,
   "id": "87677785",
   "metadata": {},
   "outputs": [
    {
     "data": {
      "text/plain": [
       "array([1, 2, 2, ..., 2, 4, 0])"
      ]
     },
     "execution_count": 8,
     "metadata": {},
     "output_type": "execute_result"
    }
   ],
   "source": [
    "X = df2_fea.iloc[:,0:24].values\n",
    "Y = df2_fea.iloc[:,25].values\n",
    "Y"
   ]
  },
  {
   "cell_type": "code",
   "execution_count": 9,
   "id": "c8830b61",
   "metadata": {},
   "outputs": [],
   "source": [
    "# normalize the dataset\n",
    "scaler = StandardScaler()\n",
    "scaler.fit(X)\n",
    "X = scaler.transform(X)\n",
    "\n",
    "# split the dataset into training (80%) and testing (20%) set\n",
    "X_train, X_test, Y_train, Y_test = train_test_split(X, Y, test_size = 0.2)\n",
    "X_train, X_val, Y_train, Y_val = train_test_split(X_train, Y_train, test_size=0.13, random_state=1) "
   ]
  },
  {
   "cell_type": "code",
   "execution_count": 10,
   "id": "36192eec",
   "metadata": {},
   "outputs": [
    {
     "name": "stdout",
     "output_type": "stream",
     "text": [
      "Fitting 5 folds for each of 5 candidates, totalling 25 fits\n"
     ]
    },
    {
     "data": {
      "text/plain": [
       "SVC(C=10, gamma=0.1, kernel='poly', probability=True)"
      ]
     },
     "execution_count": 10,
     "metadata": {},
     "output_type": "execute_result"
    }
   ],
   "source": [
    "from sklearn.model_selection import cross_val_predict\n",
    "from sklearn.svm import SVC\n",
    "from sklearn.model_selection import RandomizedSearchCV\n",
    "\n",
    "svmclf = SVC(kernel='rbf', probability=True)\n",
    "\n",
    "\n",
    "## define the hyperparameters of SVM model\n",
    "param_grid = {\n",
    "    'C':   [0.001, 0.01, 0.1, 1, 10],\n",
    "    'kernel': ['linear', 'poly','rbf'],\n",
    "    'gamma': [1, 0.1, 0.01, 0.001, 0.0001],\n",
    "    'degree': [1, 2, 3, 4, 5]}\n",
    "\n",
    "searchSVM = RandomizedSearchCV(svmclf, param_grid, cv = 5, \n",
    "                              n_iter=5, scoring ='accuracy',\n",
    "                              refit='precision',\n",
    "                              return_train_score=False,\n",
    "                              n_jobs=-1,\n",
    "                              verbose=1)\n",
    "searchSVM.fit(X_train,Y_train)\n",
    "\n",
    "SVM = searchSVM.best_params_\n",
    "\n",
    "clf_svm = SVC(\n",
    "    C = SVM['C'], \n",
    "    kernel = SVM['kernel'], \n",
    "    gamma = SVM['gamma'],\n",
    "    degree = SVM['degree'],probability=True)\n",
    "clf_svm.fit(X_train,Y_train)"
   ]
  },
  {
   "cell_type": "code",
   "execution_count": 11,
   "id": "66a49e5b",
   "metadata": {},
   "outputs": [
    {
     "name": "stdout",
     "output_type": "stream",
     "text": [
      "Training metrics\n",
      "               precision    recall  f1-score   support\n",
      "\n",
      " Eyes opened       0.61      0.70      0.66       229\n",
      " Eyes closed       0.62      0.72      0.67       232\n",
      "Healthy Area       0.49      0.59      0.53       238\n",
      "  Tumor Area       0.43      0.27      0.33       240\n",
      "     Seizure       0.95      0.83      0.88       257\n",
      "\n",
      "    accuracy                           0.62      1196\n",
      "   macro avg       0.62      0.62      0.61      1196\n",
      "weighted avg       0.62      0.62      0.62      1196\n",
      "\n"
     ]
    }
   ],
   "source": [
    "y_predtrain = cross_val_predict(clf_svm, X_val, Y_val, cv=5)\n",
    "\n",
    "#print the performance metrics (precison, recall and f1 score) on training dataset for all class\n",
    "print(\"Training metrics\\n\",classification_report(Y_val, y_predtrain,target_names=['Eyes opened','Eyes closed','Healthy Area','Tumor Area','Seizure']))"
   ]
  },
  {
   "cell_type": "code",
   "execution_count": 12,
   "id": "12058107",
   "metadata": {},
   "outputs": [
    {
     "name": "stdout",
     "output_type": "stream",
     "text": [
      "Testing metrics\n",
      "               precision    recall  f1-score   support\n",
      "\n",
      " Eyes opened       0.67      0.74      0.70       466\n",
      " Eyes closed       0.66      0.73      0.69       451\n",
      "Healthy Area       0.53      0.31      0.39       451\n",
      "  Tumor Area       0.47      0.62      0.53       468\n",
      "     Seizure       0.96      0.84      0.90       464\n",
      "\n",
      "    accuracy                           0.65      2300\n",
      "   macro avg       0.66      0.65      0.64      2300\n",
      "weighted avg       0.66      0.65      0.64      2300\n",
      "\n"
     ]
    },
    {
     "data": {
      "text/plain": [
       "Text(33.0, 0.5, 'True Class')"
      ]
     },
     "execution_count": 12,
     "metadata": {},
     "output_type": "execute_result"
    },
    {
     "data": {
      "image/png": "[encoded data removed]",
      "text/plain": [
       "<Figure size 432x288 with 2 Axes>"
      ]
     },
     "metadata": {
      "needs_background": "light"
     },
     "output_type": "display_data"
    }
   ],
   "source": [
    "y_pred = cross_val_predict(clf_svm,X_test,Y_test,cv=5)\n",
    "\n",
    "#print the performance metrics (precison, recall and f1 score) on testing dataset for all class\n",
    "print(\"Testing metrics\\n\",classification_report(Y_test, y_pred,target_names=['Eyes opened','Eyes closed','Healthy Area','Tumor Area','Seizure']))\n",
    "\n",
    "# confusion matrix\n",
    "cm = confusion_matrix(Y_test, y_pred)\n",
    "df_cm = pd.DataFrame(cm, range(5), range(5))\n",
    "sn.heatmap(round((df_cm/df_cm.sum(axis=1)),2), annot=True,fmt='g',cmap ='Blues')\n",
    "plt.xlabel('Pred. Class',fontsize=18)\n",
    "plt.ylabel('True Class',fontsize=18)"
   ]
  },
  {
   "cell_type": "markdown",
   "id": "4a12314c",
   "metadata": {},
   "source": [
    "## LSTM model for multi class classification"
   ]
  },
  {
   "cell_type": "code",
   "execution_count": 13,
   "id": "58dcd914",
   "metadata": {},
   "outputs": [],
   "source": [
    "## Now let us try recurrent neural network (LSTM) for seizure detection and classification"
   ]
  },
  {
   "cell_type": "code",
   "execution_count": 14,
   "id": "138ca02e",
   "metadata": {},
   "outputs": [],
   "source": [
    "df = shuffle(df)\n",
    "X1 = df.iloc[:,1:177].values\n",
    "Y1 = df.iloc[:,178].values\n",
    "\n",
    "# normalize the dataset\n",
    "scaler = StandardScaler()\n",
    "scaler.fit(X1)\n",
    "X1 = scaler.transform(X1)\n",
    "from keras.utils import to_categorical\n",
    "Y1 = to_categorical(Y1)\n",
    "\n",
    "# split the training (60%) validation (20%) and testing (20%) dataset\n",
    "X1_train, X1_test, Y1_train, Y1_test = train_test_split(X1, Y1, test_size = 0.2)\n",
    "X1_train, X1_val, Y1_train, Y1_val = train_test_split(X1_train, Y1_train, test_size=0.13, random_state=1)\n",
    "\n",
    "X1_train = np.reshape(X1_train, (X1_train.shape[0],1,X1.shape[1]))\n",
    "X1_test = np.reshape(X1_test, (X1_test.shape[0],1,X1.shape[1]))\n",
    "X1_val = np.reshape(X1_val, (X1_val.shape[0],1,X1.shape[1]))"
   ]
  },
  {
   "cell_type": "code",
   "execution_count": 15,
   "id": "1b40b661",
   "metadata": {},
   "outputs": [],
   "source": [
    "import tensorflow as tf\n",
    "from tensorflow.keras import Sequential\n",
    "from keras.optimizers import SGD\n",
    "from keras_tuner import RandomSearch\n",
    "\n",
    "from tensorflow.keras.layers import Dense, Dropout\n",
    "from tensorflow.keras.layers import Embedding\n",
    "from tensorflow.keras.layers import LSTM\n",
    "tf.keras.backend.clear_session()"
   ]
  },
  {
   "cell_type": "code",
   "execution_count": 16,
   "id": "bfc178e3",
   "metadata": {},
   "outputs": [],
   "source": [
    "#  to find the the optimal number of LSTM layers we used hp.int() in a for loop, which could take value 1 to 4.\n",
    "# To avoid overfitting the neural network, we add a dropout layer and to find the right drop out we used hp.Float().\n",
    "# and defined the the final layer as dense layer\n",
    "#After defining the hyper-parameters we compiled the model with RMSprop optimizer,\n",
    "# binary cross-Entropy loss function, and metric and return that model\n",
    "\n",
    "# we used early stopping to Stop the training when a monitored metric has stopped improving.\n",
    "stop_early = tf.keras.callbacks.EarlyStopping(monitor='val_loss', patience=5)\n",
    "\n",
    "def build_model(hp):\n",
    "    model = Sequential()\n",
    "    model.add(LSTM(hp.Int('input_unit',min_value=16,max_value=512,step=16),return_sequences=True, input_shape=(X1_train.shape[1],X1_train.shape[2])))\n",
    "    for i in range(hp.Int('n_layers', 1, 4)):\n",
    "        model.add(LSTM(hp.Int(f'lstm_{i}_units',min_value=16,max_value=512,step=16),return_sequences=True))\n",
    "    model.add(LSTM(hp.Int('layer_2_neurons',min_value=16,max_value=512,step=16)))\n",
    "    model.add(Dropout(hp.Float('Dropout_rate',min_value=0,max_value=0.9,step=0.1)))\n",
    "    model.add(Dense(Y1_train.shape[1], activation=hp.Choice('dense_activation',values=['relu', 'sigmoid','softmax'])))\n",
    "    hp_learning_rate = hp.Choice('learning_rate', values=[1e-2, 1e-3, 1e-4])\n",
    "    model.compile(optimizer=keras.optimizers.Adam(learning_rate=hp_learning_rate),\n",
    "                  loss = 'categorical_crossentropy', metrics = ['accuracy'])\n",
    "    return model"
   ]
  },
  {
   "cell_type": "code",
   "execution_count": 17,
   "id": "6cc83d80",
   "metadata": {},
   "outputs": [
    {
     "name": "stdout",
     "output_type": "stream",
     "text": [
      "INFO:tensorflow:Reloading Oracle from existing project D:\\Final_project\\Save_model\\Muticlass\\Best_model2\\oracle.json\n",
      "INFO:tensorflow:Reloading Tuner from D:\\Final_project\\Save_model\\Muticlass\\Best_model2\\tuner0.json\n"
     ]
    }
   ],
   "source": [
    "import keras_tuner as kt\n",
    "tuner = kt.Hyperband(build_model,\n",
    "                     objective='val_accuracy',\n",
    "                     max_epochs=50,\n",
    "                     factor=3,\n",
    "                     directory='D:\\Final_project\\Save_model\\Muticlass',\n",
    "                     project_name='Best_model2')"
   ]
  },
  {
   "cell_type": "code",
   "execution_count": 18,
   "id": "f3c31b1a",
   "metadata": {},
   "outputs": [
    {
     "name": "stdout",
     "output_type": "stream",
     "text": [
      "INFO:tensorflow:Oracle triggered exit\n"
     ]
    }
   ],
   "source": [
    "tuner.search(\n",
    "        x=X1_train,\n",
    "        y=Y1_train,\n",
    "        epochs=50,\n",
    "        validation_data=(X1_val,Y1_val),\n",
    "         callbacks=[stop_early]\n",
    "        )"
   ]
  },
  {
   "cell_type": "code",
   "execution_count": 19,
   "id": "8d095b12",
   "metadata": {},
   "outputs": [
    {
     "name": "stdout",
     "output_type": "stream",
     "text": [
      "Results summary\n",
      "Results in D:\\Final_project\\Save_model\\Muticlass\\Best_model2\n",
      "Showing 10 best trials\n",
      "<keras_tuner.engine.objective.Objective object at 0x0000018851A531F0>\n",
      "Trial summary\n",
      "Hyperparameters:\n",
      "input_unit: 512\n",
      "n_layers: 1\n",
      "lstm_0_units: 480\n",
      "layer_2_neurons: 288\n",
      "Dropout_rate: 0.2\n",
      "dense_activation: softmax\n",
      "learning_rate: 0.001\n",
      "lstm_1_units: 224\n",
      "lstm_2_units: 144\n",
      "lstm_3_units: 512\n",
      "tuner/epochs: 50\n",
      "tuner/initial_epoch: 17\n",
      "tuner/bracket: 3\n",
      "tuner/round: 3\n",
      "tuner/trial_id: 0047\n",
      "Score: 0.7274247407913208\n",
      "Trial summary\n",
      "Hyperparameters:\n",
      "input_unit: 176\n",
      "n_layers: 2\n",
      "lstm_0_units: 64\n",
      "layer_2_neurons: 16\n",
      "Dropout_rate: 0.5\n",
      "dense_activation: softmax\n",
      "learning_rate: 0.001\n",
      "lstm_1_units: 464\n",
      "lstm_2_units: 176\n",
      "lstm_3_units: 288\n",
      "tuner/epochs: 50\n",
      "tuner/initial_epoch: 0\n",
      "tuner/bracket: 0\n",
      "tuner/round: 0\n",
      "Score: 0.6881271004676819\n",
      "Trial summary\n",
      "Hyperparameters:\n",
      "input_unit: 512\n",
      "n_layers: 1\n",
      "lstm_0_units: 480\n",
      "layer_2_neurons: 288\n",
      "Dropout_rate: 0.2\n",
      "dense_activation: softmax\n",
      "learning_rate: 0.001\n",
      "lstm_1_units: 224\n",
      "lstm_2_units: 144\n",
      "lstm_3_units: 512\n",
      "tuner/epochs: 17\n",
      "tuner/initial_epoch: 6\n",
      "tuner/bracket: 3\n",
      "tuner/round: 2\n",
      "tuner/trial_id: 0034\n",
      "Score: 0.6864548325538635\n",
      "Trial summary\n",
      "Hyperparameters:\n",
      "input_unit: 208\n",
      "n_layers: 3\n",
      "lstm_0_units: 320\n",
      "layer_2_neurons: 480\n",
      "Dropout_rate: 0.2\n",
      "dense_activation: softmax\n",
      "learning_rate: 0.001\n",
      "lstm_1_units: 128\n",
      "lstm_2_units: 432\n",
      "lstm_3_units: 32\n",
      "tuner/epochs: 50\n",
      "tuner/initial_epoch: 17\n",
      "tuner/bracket: 2\n",
      "tuner/round: 2\n",
      "tuner/trial_id: 0068\n",
      "Score: 0.6864548325538635\n",
      "Trial summary\n",
      "Hyperparameters:\n",
      "input_unit: 208\n",
      "n_layers: 3\n",
      "lstm_0_units: 320\n",
      "layer_2_neurons: 480\n",
      "Dropout_rate: 0.2\n",
      "dense_activation: softmax\n",
      "learning_rate: 0.001\n",
      "lstm_1_units: 128\n",
      "lstm_2_units: 432\n",
      "lstm_3_units: 32\n",
      "tuner/epochs: 17\n",
      "tuner/initial_epoch: 6\n",
      "tuner/bracket: 2\n",
      "tuner/round: 1\n",
      "tuner/trial_id: 0060\n",
      "Score: 0.6847826242446899\n",
      "Trial summary\n",
      "Hyperparameters:\n",
      "input_unit: 208\n",
      "n_layers: 2\n",
      "lstm_0_units: 448\n",
      "layer_2_neurons: 416\n",
      "Dropout_rate: 0.6000000000000001\n",
      "dense_activation: softmax\n",
      "learning_rate: 0.001\n",
      "lstm_1_units: 384\n",
      "lstm_2_units: 336\n",
      "lstm_3_units: 272\n",
      "tuner/epochs: 17\n",
      "tuner/initial_epoch: 6\n",
      "tuner/bracket: 2\n",
      "tuner/round: 1\n",
      "tuner/trial_id: 0057\n",
      "Score: 0.6822742223739624\n",
      "Trial summary\n",
      "Hyperparameters:\n",
      "input_unit: 288\n",
      "n_layers: 3\n",
      "lstm_0_units: 192\n",
      "layer_2_neurons: 112\n",
      "Dropout_rate: 0.30000000000000004\n",
      "dense_activation: sigmoid\n",
      "learning_rate: 0.001\n",
      "lstm_1_units: 224\n",
      "lstm_2_units: 208\n",
      "lstm_3_units: 192\n",
      "tuner/epochs: 17\n",
      "tuner/initial_epoch: 0\n",
      "tuner/bracket: 1\n",
      "tuner/round: 0\n",
      "Score: 0.6822742223739624\n",
      "Trial summary\n",
      "Hyperparameters:\n",
      "input_unit: 288\n",
      "n_layers: 1\n",
      "lstm_0_units: 336\n",
      "layer_2_neurons: 320\n",
      "Dropout_rate: 0.30000000000000004\n",
      "dense_activation: sigmoid\n",
      "learning_rate: 0.001\n",
      "lstm_1_units: 32\n",
      "lstm_2_units: 96\n",
      "lstm_3_units: 240\n",
      "tuner/epochs: 50\n",
      "tuner/initial_epoch: 17\n",
      "tuner/bracket: 3\n",
      "tuner/round: 3\n",
      "tuner/trial_id: 0049\n",
      "Score: 0.681438148021698\n",
      "Trial summary\n",
      "Hyperparameters:\n",
      "input_unit: 496\n",
      "n_layers: 3\n",
      "lstm_0_units: 224\n",
      "layer_2_neurons: 112\n",
      "Dropout_rate: 0.2\n",
      "dense_activation: softmax\n",
      "learning_rate: 0.001\n",
      "lstm_1_units: 160\n",
      "lstm_2_units: 96\n",
      "lstm_3_units: 32\n",
      "tuner/epochs: 17\n",
      "tuner/initial_epoch: 6\n",
      "tuner/bracket: 2\n",
      "tuner/round: 1\n",
      "tuner/trial_id: 0054\n",
      "Score: 0.6772575378417969\n",
      "Trial summary\n",
      "Hyperparameters:\n",
      "input_unit: 208\n",
      "n_layers: 2\n",
      "lstm_0_units: 448\n",
      "layer_2_neurons: 416\n",
      "Dropout_rate: 0.6000000000000001\n",
      "dense_activation: softmax\n",
      "learning_rate: 0.001\n",
      "lstm_1_units: 384\n",
      "lstm_2_units: 336\n",
      "lstm_3_units: 272\n",
      "tuner/epochs: 50\n",
      "tuner/initial_epoch: 17\n",
      "tuner/bracket: 2\n",
      "tuner/round: 2\n",
      "tuner/trial_id: 0067\n",
      "Score: 0.6764214038848877\n"
     ]
    }
   ],
   "source": [
    "tuner.results_summary()"
   ]
  },
  {
   "cell_type": "code",
   "execution_count": 20,
   "id": "1069b8e9",
   "metadata": {},
   "outputs": [
    {
     "name": "stdout",
     "output_type": "stream",
     "text": [
      "Model: \"sequential\"\n",
      "_________________________________________________________________\n",
      "Layer (type)                 Output Shape              Param #   \n",
      "=================================================================\n",
      "lstm (LSTM)                  (None, 1, 512)            1411072   \n",
      "_________________________________________________________________\n",
      "lstm_1 (LSTM)                (None, 1, 480)            1906560   \n",
      "_________________________________________________________________\n",
      "lstm_2 (LSTM)                (None, 288)               885888    \n",
      "_________________________________________________________________\n",
      "dropout (Dropout)            (None, 288)               0         \n",
      "_________________________________________________________________\n",
      "dense (Dense)                (None, 5)                 1445      \n",
      "=================================================================\n",
      "Total params: 4,204,965\n",
      "Trainable params: 4,204,965\n",
      "Non-trainable params: 0\n",
      "_________________________________________________________________\n"
     ]
    }
   ],
   "source": [
    "best_model = tuner.get_best_models()[0]\n",
    "best_model.build(X1_train.shape)\n",
    "best_model.summary()"
   ]
  },
  {
   "cell_type": "code",
   "execution_count": 21,
   "id": "bd461307",
   "metadata": {},
   "outputs": [
    {
     "name": "stdout",
     "output_type": "stream",
     "text": [
      "Epoch 1/50\n",
      "501/501 [==============================] - 19s 38ms/step - loss: 0.5371 - accuracy: 0.7801 - val_loss: 0.5019 - val_accuracy: 0.7926\n",
      "Epoch 2/50\n",
      "501/501 [==============================] - 16s 32ms/step - loss: 0.4143 - accuracy: 0.8283 - val_loss: 0.4777 - val_accuracy: 0.8060\n",
      "Epoch 3/50\n",
      "501/501 [==============================] - 15s 31ms/step - loss: 0.3452 - accuracy: 0.8519 - val_loss: 0.4633 - val_accuracy: 0.8110\n",
      "Epoch 4/50\n",
      "501/501 [==============================] - 15s 30ms/step - loss: 0.3021 - accuracy: 0.8733 - val_loss: 0.4665 - val_accuracy: 0.8236\n",
      "Epoch 5/50\n",
      "501/501 [==============================] - 10s 20ms/step - loss: 0.2596 - accuracy: 0.8952 - val_loss: 0.5326 - val_accuracy: 0.8135\n",
      "Epoch 6/50\n",
      "501/501 [==============================] - 9s 17ms/step - loss: 0.2278 - accuracy: 0.9075 - val_loss: 0.5610 - val_accuracy: 0.7977\n",
      "Epoch 7/50\n",
      "501/501 [==============================] - 9s 18ms/step - loss: 0.1878 - accuracy: 0.9242 - val_loss: 0.6409 - val_accuracy: 0.7910\n",
      "Epoch 8/50\n",
      "501/501 [==============================] - 9s 17ms/step - loss: 0.1709 - accuracy: 0.9318 - val_loss: 0.6215 - val_accuracy: 0.8144\n"
     ]
    },
    {
     "data": {
      "text/plain": [
       "<tensorflow.python.keras.callbacks.History at 0x1884fa63c70>"
      ]
     },
     "execution_count": 21,
     "metadata": {},
     "output_type": "execute_result"
    }
   ],
   "source": [
    "best_model.fit(X1_train,Y1_train,epochs=50,\n",
    "        validation_data=(X1_val,Y1_val),\n",
    "        batch_size = 16,\n",
    "        callbacks=[stop_early])"
   ]
  },
  {
   "cell_type": "code",
   "execution_count": 22,
   "id": "5dca355b",
   "metadata": {},
   "outputs": [
    {
     "name": "stdout",
     "output_type": "stream",
     "text": [
      "              precision    recall  f1-score   support\n",
      "\n",
      " Eyes opened       0.72      0.73      0.73       460\n",
      " Eyes closed       0.85      0.83      0.84       447\n",
      "Healthy Area       0.70      0.59      0.64       464\n",
      "  Tumor Area       0.65      0.77      0.70       454\n",
      "     Seizure       0.96      0.96      0.96       475\n",
      "\n",
      "    accuracy                           0.78      2300\n",
      "   macro avg       0.78      0.78      0.77      2300\n",
      "weighted avg       0.78      0.78      0.78      2300\n",
      "\n"
     ]
    },
    {
     "data": {
      "text/plain": [
       "Text(33.0, 0.5, 'True Class')"
      ]
     },
     "execution_count": 22,
     "metadata": {},
     "output_type": "execute_result"
    },
    {
     "data": {
      "image/png": "[encoded data removed]",
      "text/plain": [
       "<Figure size 432x288 with 2 Axes>"
      ]
     },
     "metadata": {
      "needs_background": "light"
     },
     "output_type": "display_data"
    }
   ],
   "source": [
    "Y_pred = best_model.predict(X1_test)\n",
    "\n",
    "# calculate the performance metrics (precision, recall and f1 score)\n",
    "print(classification_report(Y1_test.argmax(axis=1), Y_pred.argmax(axis=1), target_names=['Eyes opened','Eyes closed','Healthy Area','Tumor Area','Seizure']))\n",
    "cm2 = confusion_matrix(Y1_test.argmax(axis=1), Y_pred.argmax(axis=1))\n",
    "df_cm2 = pd.DataFrame(cm2, range(5), range(5))\n",
    "\n",
    "sn.heatmap(round((df_cm2/df_cm2.sum(axis=1)),2), annot=True,fmt='g',cmap ='Blues')\n",
    "plt.xlabel('Pred. Class',fontsize=18)\n",
    "plt.ylabel('True Class',fontsize=18)"
   ]
  },
  {
   "cell_type": "code",
   "execution_count": 27,
   "id": "221918ad",
   "metadata": {},
   "outputs": [
    {
     "name": "stdout",
     "output_type": "stream",
     "text": [
      "Fitting 5 folds for each of 5 candidates, totalling 25 fits\n"
     ]
    },
    {
     "data": {
      "text/plain": [
       "GaussianNB(var_smoothing=1e-07)"
      ]
     },
     "execution_count": 27,
     "metadata": {},
     "output_type": "execute_result"
    }
   ],
   "source": [
    "from sklearn.naive_bayes import GaussianNB\n",
    "NBclf = GaussianNB()\n",
    "\n",
    "param_grid3 = {\n",
    "    'var_smoothing': np.logspace(0,-9, num=10)}\n",
    "\n",
    "searchNB = RandomizedSearchCV(NBclf, param_grid3, cv = 5, \n",
    "                              n_iter=5, scoring ='accuracy',\n",
    "                              refit='precision',\n",
    "                              return_train_score=False,\n",
    "                              n_jobs=-1,\n",
    "                              verbose=1)\n",
    "searchNB.fit(X_train, Y_train)\n",
    "NB = searchNB.best_params_\n",
    "\n",
    "\n",
    "clf_NB = GaussianNB(\n",
    "    var_smoothing= NB['var_smoothing'])\n",
    "clf_NB.fit(X_train,Y_train)"
   ]
  },
  {
   "cell_type": "code",
   "execution_count": 28,
   "id": "9a0f9406",
   "metadata": {},
   "outputs": [
    {
     "name": "stdout",
     "output_type": "stream",
     "text": [
      "Training metrics\n",
      "               precision    recall  f1-score   support\n",
      "\n",
      " Eyes opened       0.62      0.70      0.66       229\n",
      " Eyes closed       0.73      0.68      0.70       232\n",
      "Healthy Area       0.46      0.85      0.60       238\n",
      "  Tumor Area       0.44      0.12      0.19       240\n",
      "     Seizure       0.93      0.79      0.86       257\n",
      "\n",
      "    accuracy                           0.63      1196\n",
      "   macro avg       0.64      0.63      0.60      1196\n",
      "weighted avg       0.64      0.63      0.60      1196\n",
      "\n"
     ]
    }
   ],
   "source": [
    "y_predtrainNB = cross_val_predict(clf_NB, X_val, Y_val, cv=5)\n",
    "\n",
    "#print the performance metrics (precison, recall and f1 score) on training dataset for all class\n",
    "print(\"Training metrics\\n\",classification_report(Y_val, y_predtrainNB,target_names=['Eyes opened','Eyes closed','Healthy Area','Tumor Area','Seizure']))"
   ]
  },
  {
   "cell_type": "code",
   "execution_count": 29,
   "id": "35d7dbdd",
   "metadata": {},
   "outputs": [
    {
     "name": "stdout",
     "output_type": "stream",
     "text": [
      "Testing metrics\n",
      "               precision    recall  f1-score   support\n",
      "\n",
      " Eyes opened       0.61      0.70      0.65       466\n",
      " Eyes closed       0.68      0.63      0.65       451\n",
      "Healthy Area       0.45      0.82      0.58       451\n",
      "  Tumor Area       0.54      0.11      0.18       468\n",
      "     Seizure       0.94      0.84      0.89       464\n",
      "\n",
      "    accuracy                           0.62      2300\n",
      "   macro avg       0.64      0.62      0.59      2300\n",
      "weighted avg       0.64      0.62      0.59      2300\n",
      "\n"
     ]
    },
    {
     "data": {
      "text/plain": [
       "Text(33.0, 0.5, 'True Class')"
      ]
     },
     "execution_count": 29,
     "metadata": {},
     "output_type": "execute_result"
    },
    {
     "data": {
      "image/png": "[encoded data removed]",
      "text/plain": [
       "<Figure size 432x288 with 2 Axes>"
      ]
     },
     "metadata": {
      "needs_background": "light"
     },
     "output_type": "display_data"
    }
   ],
   "source": [
    "y_predNB = cross_val_predict(clf_NB,X_test,Y_test,cv=5)\n",
    "\n",
    "#print the performance metrics (precison, recall and f1 score) on testing dataset for all class\n",
    "print(\"Testing metrics\\n\",classification_report(Y_test, y_predNB,target_names=['Eyes opened','Eyes closed','Healthy Area','Tumor Area','Seizure']))\n",
    "\n",
    "# confusion matrix\n",
    "cmNB = confusion_matrix(Y_test, y_predNB)\n",
    "df_cmNB = pd.DataFrame(cmNB, range(5), range(5))\n",
    "sn.heatmap(round((df_cmNB/df_cmNB.sum(axis=1)),2), annot=True,fmt='g',cmap ='Blues')\n",
    "plt.xlabel('Pred. Class',fontsize=18)\n",
    "plt.ylabel('True Class',fontsize=18)"
   ]
  },
  {
   "cell_type": "code",
   "execution_count": null,
   "id": "97d55be6",
   "metadata": {},
   "outputs": [],
   "source": []
  },
  {
   "cell_type": "code",
   "execution_count": null,
   "id": "037e8a44",
   "metadata": {},
   "outputs": [],
   "source": []
  },
  {
   "cell_type": "markdown",
   "id": "ff219433",
   "metadata": {},
   "source": [
    "## ROC curves of all models"
   ]
  },
  {
   "cell_type": "code",
   "execution_count": 30,
   "id": "e85f6b80",
   "metadata": {},
   "outputs": [
    {
     "data": {
      "image/png": "[encoded data removed]",
      "text/plain": [
       "<Figure size 720x432 with 1 Axes>"
      ]
     },
     "metadata": {
      "needs_background": "light"
     },
     "output_type": "display_data"
    }
   ],
   "source": [
    "from sklearn.preprocessing import label_binarize\n",
    "from sklearn import metrics\n",
    "from sklearn.metrics import roc_curve, roc_auc_score, auc\n",
    "import matplotlib.pyplot as plt\n",
    "\n",
    "pred_prob1 = clf_svm.predict_proba(X_test)\n",
    "pred_prob2 = best_model.predict_proba(X1_test)\n",
    "pred_prob3 = clf_NB.predict_proba(X_test)\n",
    "\n",
    "Y_bin1 = label_binarize(Y_test, classes=[0,1, 2,3,4])\n",
    "Y_bin2 = label_binarize(Y1_test, classes=[0,1, 2,3,4])\n",
    "\n",
    "\n",
    "auc1 = metrics.roc_auc_score(Y_test, pred_prob1, multi_class='ovr')\n",
    "auc2 = metrics.roc_auc_score(Y1_test, pred_prob2,multi_class='ovr' )\n",
    "auc3 = metrics.roc_auc_score(Y_test, pred_prob3, multi_class='ovr')\n",
    "\n",
    "\n",
    "plt.figure(1, figsize=(10, 6))\n",
    "plt.clf()\n",
    "\n",
    "\n",
    "\n",
    "\n",
    "for j in range(0,np.size(Y_bin1,1)):\n",
    "    fpr1, tpr1, T1 = roc_curve(Y_bin1[:,j], pred_prob1[:,j])\n",
    "    fpr2, tpr2, T2 = roc_curve(Y_bin2[:,j], pred_prob2[:,j])\n",
    "    fpr3, tpr3, T3 = roc_curve(Y_bin1[:,j], pred_prob3[:,j])\n",
    "#random_probs = [0 for i in range(len(Y_test))]\n",
    "#p_fpr, p_tpr, _ = roc_curve(Y_test, random_probs, pos_label=1)\n",
    "\n",
    "# plot roc curves\n",
    "plt.plot(fpr1, tpr1, linestyle='--',color='green', label=\"SVM auc=\"+str(auc1))\n",
    "plt.plot(fpr2, tpr2, linestyle='--',color='red', label=\"LSTM auc=\"+str(auc2))\n",
    "plt.plot(fpr3, tpr3, linestyle='--',color='blue', label=\"NB auc=\"+str(auc3))\n",
    "#plt.plot(p_fpr, p_tpr, linestyle='--', color='blue')\n",
    "\n",
    "plt.title('ROC curve')\n",
    "# x label\n",
    "plt.xlabel('False Positive Rate')\n",
    "# y label\n",
    "plt.ylabel('True Positive rate')\n",
    "\n",
    "plt.legend(loc='best')\n",
    "plt.savefig('ROC',dpi=300)\n",
    "plt.show();\n"
   ]
  },
  {
   "cell_type": "code",
   "execution_count": null,
   "id": "15f7d9ed",
   "metadata": {},
   "outputs": [],
   "source": []
  },
  {
   "cell_type": "code",
   "execution_count": null,
   "id": "7a402446",
   "metadata": {},
   "outputs": [],
   "source": []
  }
 ],
 "metadata": {
  "kernelspec": {
   "display_name": "Python 3 (ipykernel)",
   "language": "python",
   "name": "python3"
  },
  "language_info": {
   "codemirror_mode": {
    "name": "ipython",
    "version": 3
   },
   "file_extension": ".py",
   "mimetype": "text/x-python",
   "name": "python",
   "nbconvert_exporter": "python",
   "pygments_lexer": "ipython3",
   "version": "3.8.13"
  }
 },
 "nbformat": 4,
 "nbformat_minor": 5
}
