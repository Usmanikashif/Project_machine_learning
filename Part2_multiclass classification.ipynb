{
 "cells": [
  {
   "cell_type": "code",
   "execution_count": 1,
   "id": "9d6678f8",
   "metadata": {},
   "outputs": [],
   "source": [
    "import glob\n",
    "import numpy as np\n",
    "import matplotlib as mpl\n",
    "import matplotlib.pyplot as plt\n",
    "import pandas as pd\n",
    "import os\n",
    "from sklearn.preprocessing import StandardScaler\n",
    "from sklearn.metrics import confusion_matrix, accuracy_score, classification_report\n",
    "import seaborn as sn\n",
    "import tensorflow as tf\n",
    "from tensorflow import keras\n",
    "from sklearn.model_selection import train_test_split, cross_val_score\n",
    "from sklearn.utils import shuffle\n",
    "import tensorflow as tf\n",
    "from tensorflow.keras import Sequential\n",
    "from keras.optimizers import SGD\n",
    "from keras_tuner import RandomSearch\n",
    "\n",
    "from tensorflow.keras.layers import Dense, Dropout\n",
    "from tensorflow.keras.layers import Embedding\n",
    "from tensorflow.keras.layers import LSTM\n",
    "tf.keras.backend.clear_session()\n",
    "\n",
    "import keras_tuner as kt"
   ]
  },
  {
   "cell_type": "markdown",
   "id": "a2174bee",
   "metadata": {},
   "source": [
    "### For multiclass classification we labeled the datasets A, B, C, D and E as '0', '1','2', '3',and '4', resepctively. We used SVM model and LSTM model to classify the dataset"
   ]
  },
  {
   "cell_type": "code",
   "execution_count": 2,
   "id": "e30adc2e",
   "metadata": {},
   "outputs": [],
   "source": [
    "# We Labeled the datasets A, B, C, D and E as '0', '1','2', '3',and '4', resepctively\n",
    "# DataA\n",
    "pathA = r'H:/Final_project/Data/merged/A' \n",
    "all_filesA = glob.glob(pathA + \"/*.csv\")\n",
    "\n",
    "tempA = []\n",
    "\n",
    "for filename in all_filesA:\n",
    "    df1 = pd.read_csv(filename, index_col=None, header=0)\n",
    "    tempA.append(df1)\n",
    "\n",
    "dfA = pd.concat(tempA, axis=0, ignore_index=True)\n",
    "dfA.insert(loc=len(dfA.columns), column='Y', value='0', allow_duplicates=True)\n",
    "\n",
    "\n",
    "# DataB\n",
    "pathB = r'H:/Final_project/Data/merged/B' \n",
    "all_filesB = glob.glob(pathB + \"/*.csv\")\n",
    "\n",
    "tempB = []\n",
    "\n",
    "for filename in all_filesB:\n",
    "    df2 = pd.read_csv(filename, index_col=None, header=0)\n",
    "    tempB.append(df2)\n",
    "\n",
    "dfB = pd.concat(tempB, axis=0, ignore_index=True)\n",
    "dfB.insert(loc=len(dfB.columns), column='Y', value='1', allow_duplicates=True)\n",
    "\n",
    "# DataC\n",
    "pathC = r'H:/Final_project/Data/merged/C'\n",
    "all_filesC = glob.glob(pathC + \"/*.csv\")\n",
    "\n",
    "tempC = []\n",
    "\n",
    "for filename in all_filesC:\n",
    "    df3 = pd.read_csv(filename, index_col=None, header=0)\n",
    "    tempC.append(df3)\n",
    "\n",
    "dfC = pd.concat(tempC, axis=0, ignore_index=True)\n",
    "dfC.insert(loc=len(dfC.columns), column='Y', value='2', allow_duplicates=True)\n",
    "\n",
    "\n",
    "## Data D\n",
    "pathD = r'H:/Final_project/Data/merged/D' \n",
    "all_filesD = glob.glob(pathD + \"/*.csv\")\n",
    "\n",
    "tempD = []\n",
    "\n",
    "for filename in all_filesD:\n",
    "    df4 = pd.read_csv(filename, index_col=None, header=0)\n",
    "    tempD.append(df4)\n",
    "\n",
    "dfD = pd.concat(tempD, axis=0, ignore_index=True)\n",
    "dfD.insert(loc=len(dfD.columns), column='Y', value='3', allow_duplicates=True)\n",
    "\n",
    "\n",
    "## Data E\n",
    "pathE = r'H:/Final_project/Data/merged/E' \n",
    "all_filesE = glob.glob(pathE + \"/*.csv\")\n",
    "\n",
    "tempE = []\n",
    "\n",
    "for filename in all_filesE:\n",
    "    df5 = pd.read_csv(filename, index_col=None, header=0)\n",
    "    tempE.append(df5)\n",
    "\n",
    "dfE = pd.concat(tempE, axis=0, ignore_index=True)\n",
    "dfE.insert(loc=len(dfE.columns), column='Y', value='4', allow_duplicates=True)"
   ]
  },
  {
   "cell_type": "code",
   "execution_count": 3,
   "id": "b2db8556",
   "metadata": {},
   "outputs": [],
   "source": [
    "df = pd.concat([dfA, dfB,dfC,dfD,dfE], ignore_index=True)"
   ]
  },
  {
   "cell_type": "code",
   "execution_count": 4,
   "id": "55f25603",
   "metadata": {},
   "outputs": [
    {
     "name": "stdout",
     "output_type": "stream",
     "text": [
      "The number of samples for the class 0 is: 2300\n",
      "The number of samples for the class 1 is: 2300\n",
      "The number of samples for the class 2 is: 2300\n",
      "The number of samples for the class 3 is: 2300\n",
      "The number of samples for the class 4 is: 2300\n"
     ]
    },
    {
     "name": "stderr",
     "output_type": "stream",
     "text": [
      "C:\\Users\\kau19001\\Anaconda3\\envs\\tensorflow\\lib\\site-packages\\seaborn\\_decorators.py:36: FutureWarning: Pass the following variable as a keyword arg: x. From version 0.12, the only valid positional argument will be `data`, and passing other arguments without an explicit keyword will result in an error or misinterpretation.\n",
      "  warnings.warn(\n"
     ]
    },
    {
     "data": {
      "image/png": "[encoded data removed]",
      "text/plain": [
       "<Figure size 432x288 with 1 Axes>"
      ]
     },
     "metadata": {
      "needs_background": "light"
     },
     "output_type": "display_data"
    }
   ],
   "source": [
    "import seaborn as sn\n",
    "tgt=df[\"Y\"]\n",
    "tgt= tgt.astype('int')\n",
    "ax = sn.countplot(tgt, label=\"Count\")\n",
    "class0 = np.count_nonzero(tgt == 0)\n",
    "class1 = np.count_nonzero(tgt == 1) \n",
    "class2 = np.count_nonzero(tgt == 2) \n",
    "class3 = np.count_nonzero(tgt == 3) \n",
    "class4 = np.count_nonzero(tgt == 4) \n",
    "\n",
    "print('The number of samples for the class 0 is:', class0)\n",
    "print('The number of samples for the class 1 is:', class1)\n",
    "print('The number of samples for the class 2 is:', class2)\n",
    "print('The number of samples for the class 3 is:', class3)\n",
    "print('The number of samples for the class 4 is:', class4)"
   ]
  },
  {
   "cell_type": "code",
   "execution_count": 5,
   "id": "7325112c",
   "metadata": {},
   "outputs": [],
   "source": [
    "target=df[\"Y\"]\n",
    "target = target.astype('int')\n",
    "df2=df.drop([\"Y\"],axis=1)"
   ]
  },
  {
   "cell_type": "code",
   "execution_count": 6,
   "id": "6e2e3e0f",
   "metadata": {},
   "outputs": [],
   "source": [
    "# feature extraction using wavelet transform\n",
    "import pywt\n",
    "def getWaveletFeatures(data,target):\n",
    "    list_features = []\n",
    "    for signal in range(len(data)):\n",
    "        list_coeff = pywt.wavedec(data.iloc[signal], \"db4\")\n",
    "        features = []\n",
    "        for coeff in list_coeff:\n",
    "            features += statisticsForWavelet(coeff)\n",
    "        list_features.append(features)\n",
    "    return createDfWavelet(list_features,target)\n",
    "\n",
    "def statisticsForWavelet(coefs):\n",
    "    median = np.nanpercentile(coefs, 50)\n",
    "    mean = np.nanmean(coefs)\n",
    "    std = np.nanstd(coefs)\n",
    "    var = np.nanvar(coefs)\n",
    "    rms = np.nanmean(np.sqrt(coefs**2))\n",
    "    return [median, mean, std, var, rms]\n",
    "\n",
    "def createDfWavelet(data,target):\n",
    "    for i in range(len(data)):\n",
    "        data[i].append(target[i])\n",
    "    return pd.DataFrame(data) "
   ]
  },
  {
   "cell_type": "code",
   "execution_count": 7,
   "id": "89243d7e",
   "metadata": {},
   "outputs": [
    {
     "data": {
      "text/html": [
       "<div>\n",
       "<style scoped>\n",
       "    .dataframe tbody tr th:only-of-type {\n",
       "        vertical-align: middle;\n",
       "    }\n",
       "\n",
       "    .dataframe tbody tr th {\n",
       "        vertical-align: top;\n",
       "    }\n",
       "\n",
       "    .dataframe thead th {\n",
       "        text-align: right;\n",
       "    }\n",
       "</style>\n",
       "<table border=\"1\" class=\"dataframe\">\n",
       "  <thead>\n",
       "    <tr style=\"text-align: right;\">\n",
       "      <th></th>\n",
       "      <th>0</th>\n",
       "      <th>1</th>\n",
       "      <th>2</th>\n",
       "      <th>3</th>\n",
       "      <th>4</th>\n",
       "      <th>5</th>\n",
       "      <th>6</th>\n",
       "      <th>7</th>\n",
       "      <th>8</th>\n",
       "      <th>9</th>\n",
       "      <th>...</th>\n",
       "      <th>16</th>\n",
       "      <th>17</th>\n",
       "      <th>18</th>\n",
       "      <th>19</th>\n",
       "      <th>20</th>\n",
       "      <th>21</th>\n",
       "      <th>22</th>\n",
       "      <th>23</th>\n",
       "      <th>24</th>\n",
       "      <th>25</th>\n",
       "    </tr>\n",
       "  </thead>\n",
       "  <tbody>\n",
       "    <tr>\n",
       "      <th>1703</th>\n",
       "      <td>75.974936</td>\n",
       "      <td>109.819714</td>\n",
       "      <td>105.946251</td>\n",
       "      <td>11224.608098</td>\n",
       "      <td>117.284145</td>\n",
       "      <td>6.361964</td>\n",
       "      <td>14.819627</td>\n",
       "      <td>65.887827</td>\n",
       "      <td>4341.205791</td>\n",
       "      <td>52.886528</td>\n",
       "      <td>...</td>\n",
       "      <td>-0.407655</td>\n",
       "      <td>18.606307</td>\n",
       "      <td>346.194645</td>\n",
       "      <td>14.467049</td>\n",
       "      <td>0.557550</td>\n",
       "      <td>0.326673</td>\n",
       "      <td>3.667627</td>\n",
       "      <td>13.451485</td>\n",
       "      <td>2.917979</td>\n",
       "      <td>0</td>\n",
       "    </tr>\n",
       "    <tr>\n",
       "      <th>4466</th>\n",
       "      <td>-292.616191</td>\n",
       "      <td>-313.891932</td>\n",
       "      <td>235.279115</td>\n",
       "      <td>55356.261895</td>\n",
       "      <td>328.647435</td>\n",
       "      <td>22.076431</td>\n",
       "      <td>19.648600</td>\n",
       "      <td>244.509618</td>\n",
       "      <td>59784.953400</td>\n",
       "      <td>198.887578</td>\n",
       "      <td>...</td>\n",
       "      <td>1.769045</td>\n",
       "      <td>41.234143</td>\n",
       "      <td>1700.254546</td>\n",
       "      <td>32.279530</td>\n",
       "      <td>0.516434</td>\n",
       "      <td>0.099388</td>\n",
       "      <td>4.709900</td>\n",
       "      <td>22.183156</td>\n",
       "      <td>3.830315</td>\n",
       "      <td>1</td>\n",
       "    </tr>\n",
       "    <tr>\n",
       "      <th>3274</th>\n",
       "      <td>340.257593</td>\n",
       "      <td>324.800557</td>\n",
       "      <td>121.706650</td>\n",
       "      <td>14812.508709</td>\n",
       "      <td>324.800557</td>\n",
       "      <td>0.692409</td>\n",
       "      <td>1.516670</td>\n",
       "      <td>83.026643</td>\n",
       "      <td>6893.423392</td>\n",
       "      <td>49.211316</td>\n",
       "      <td>...</td>\n",
       "      <td>-0.187869</td>\n",
       "      <td>18.999513</td>\n",
       "      <td>360.981475</td>\n",
       "      <td>15.578287</td>\n",
       "      <td>-0.244737</td>\n",
       "      <td>-0.043014</td>\n",
       "      <td>3.752580</td>\n",
       "      <td>14.081858</td>\n",
       "      <td>2.840597</td>\n",
       "      <td>1</td>\n",
       "    </tr>\n",
       "    <tr>\n",
       "      <th>10424</th>\n",
       "      <td>-773.501904</td>\n",
       "      <td>-655.628126</td>\n",
       "      <td>984.518731</td>\n",
       "      <td>969277.131177</td>\n",
       "      <td>963.896403</td>\n",
       "      <td>-14.401726</td>\n",
       "      <td>-108.887381</td>\n",
       "      <td>606.014644</td>\n",
       "      <td>367253.749056</td>\n",
       "      <td>462.632933</td>\n",
       "      <td>...</td>\n",
       "      <td>1.479837</td>\n",
       "      <td>68.152299</td>\n",
       "      <td>4644.735804</td>\n",
       "      <td>56.324183</td>\n",
       "      <td>0.617125</td>\n",
       "      <td>0.059770</td>\n",
       "      <td>10.996226</td>\n",
       "      <td>120.916995</td>\n",
       "      <td>8.740074</td>\n",
       "      <td>4</td>\n",
       "    </tr>\n",
       "    <tr>\n",
       "      <th>7283</th>\n",
       "      <td>-108.136697</td>\n",
       "      <td>-134.960839</td>\n",
       "      <td>217.988412</td>\n",
       "      <td>47518.947787</td>\n",
       "      <td>209.255701</td>\n",
       "      <td>-3.029396</td>\n",
       "      <td>6.289187</td>\n",
       "      <td>106.333239</td>\n",
       "      <td>11306.757780</td>\n",
       "      <td>76.194053</td>\n",
       "      <td>...</td>\n",
       "      <td>0.427789</td>\n",
       "      <td>17.373676</td>\n",
       "      <td>301.844621</td>\n",
       "      <td>13.203816</td>\n",
       "      <td>-0.277391</td>\n",
       "      <td>-0.115498</td>\n",
       "      <td>4.413134</td>\n",
       "      <td>19.475751</td>\n",
       "      <td>3.582040</td>\n",
       "      <td>3</td>\n",
       "    </tr>\n",
       "  </tbody>\n",
       "</table>\n",
       "<p>5 rows × 26 columns</p>\n",
       "</div>"
      ],
      "text/plain": [
       "               0           1           2              3           4   \\\n",
       "1703    75.974936  109.819714  105.946251   11224.608098  117.284145   \n",
       "4466  -292.616191 -313.891932  235.279115   55356.261895  328.647435   \n",
       "3274   340.257593  324.800557  121.706650   14812.508709  324.800557   \n",
       "10424 -773.501904 -655.628126  984.518731  969277.131177  963.896403   \n",
       "7283  -108.136697 -134.960839  217.988412   47518.947787  209.255701   \n",
       "\n",
       "              5           6           7              8           9   ...  \\\n",
       "1703    6.361964   14.819627   65.887827    4341.205791   52.886528  ...   \n",
       "4466   22.076431   19.648600  244.509618   59784.953400  198.887578  ...   \n",
       "3274    0.692409    1.516670   83.026643    6893.423392   49.211316  ...   \n",
       "10424 -14.401726 -108.887381  606.014644  367253.749056  462.632933  ...   \n",
       "7283   -3.029396    6.289187  106.333239   11306.757780   76.194053  ...   \n",
       "\n",
       "             16         17           18         19        20        21  \\\n",
       "1703  -0.407655  18.606307   346.194645  14.467049  0.557550  0.326673   \n",
       "4466   1.769045  41.234143  1700.254546  32.279530  0.516434  0.099388   \n",
       "3274  -0.187869  18.999513   360.981475  15.578287 -0.244737 -0.043014   \n",
       "10424  1.479837  68.152299  4644.735804  56.324183  0.617125  0.059770   \n",
       "7283   0.427789  17.373676   301.844621  13.203816 -0.277391 -0.115498   \n",
       "\n",
       "              22          23        24  25  \n",
       "1703    3.667627   13.451485  2.917979   0  \n",
       "4466    4.709900   22.183156  3.830315   1  \n",
       "3274    3.752580   14.081858  2.840597   1  \n",
       "10424  10.996226  120.916995  8.740074   4  \n",
       "7283    4.413134   19.475751  3.582040   3  \n",
       "\n",
       "[5 rows x 26 columns]"
      ]
     },
     "execution_count": 7,
     "metadata": {},
     "output_type": "execute_result"
    }
   ],
   "source": [
    "df2_fea=getWaveletFeatures(df2,target)\n",
    "df2_fea = shuffle(df2_fea)\n",
    "df2_fea.head()"
   ]
  },
  {
   "cell_type": "code",
   "execution_count": 8,
   "id": "87677785",
   "metadata": {},
   "outputs": [
    {
     "data": {
      "text/plain": [
       "array([0, 1, 1, ..., 0, 3, 0])"
      ]
     },
     "execution_count": 8,
     "metadata": {},
     "output_type": "execute_result"
    }
   ],
   "source": [
    "X = df2_fea.iloc[:,0:24].values\n",
    "Y = df2_fea.iloc[:,25].values\n",
    "Y"
   ]
  },
  {
   "cell_type": "code",
   "execution_count": 9,
   "id": "c8830b61",
   "metadata": {},
   "outputs": [],
   "source": [
    "# normalize the dataset\n",
    "scaler = StandardScaler()\n",
    "scaler.fit(X)\n",
    "X = scaler.transform(X)\n",
    "\n",
    "# split the dataset into training (80%) and testing (20%) set\n",
    "X_train, X_test, Y_train, Y_test = train_test_split(X, Y, test_size = 0.2)"
   ]
  },
  {
   "cell_type": "code",
   "execution_count": 10,
   "id": "36192eec",
   "metadata": {},
   "outputs": [
    {
     "name": "stdout",
     "output_type": "stream",
     "text": [
      "Fitting 5 folds for each of 5 candidates, totalling 25 fits\n"
     ]
    },
    {
     "data": {
      "text/plain": [
       "SVC(C=1, degree=2, gamma=0.0001, kernel='linear', probability=True)"
      ]
     },
     "execution_count": 10,
     "metadata": {},
     "output_type": "execute_result"
    }
   ],
   "source": [
    "from sklearn.model_selection import cross_val_predict\n",
    "from sklearn.svm import SVC\n",
    "from sklearn.model_selection import RandomizedSearchCV\n",
    "\n",
    "svmclf = SVC(kernel='rbf', probability=True)\n",
    "\n",
    "\n",
    "## define the hyperparameters of SVM model\n",
    "param_grid = {\n",
    "    'C':   [0.001, 0.01, 0.1, 1, 10],\n",
    "    'kernel': ['linear', 'poly','rbf'],\n",
    "    'gamma': [1, 0.1, 0.01, 0.001, 0.0001],\n",
    "    'degree': [1, 2, 3, 4, 5]}\n",
    "\n",
    "searchSVM = RandomizedSearchCV(svmclf, param_grid, cv = 5, \n",
    "                              n_iter=5, scoring ='accuracy',\n",
    "                              refit='precision',\n",
    "                              return_train_score=False,\n",
    "                              n_jobs=-1,\n",
    "                              verbose=1)\n",
    "searchSVM.fit(X_train,Y_train)\n",
    "\n",
    "SVM = searchSVM.best_params_\n",
    "\n",
    "clf_svm = SVC(\n",
    "    C = SVM['C'], \n",
    "    kernel = SVM['kernel'], \n",
    "    gamma = SVM['gamma'],\n",
    "    degree = SVM['degree'],probability=True)\n",
    "clf_svm.fit(X_train,Y_train)"
   ]
  },
  {
   "cell_type": "code",
   "execution_count": 12,
   "id": "18c8c394",
   "metadata": {},
   "outputs": [
    {
     "name": "stdout",
     "output_type": "stream",
     "text": [
      "Training metrics\n",
      "               precision    recall  f1-score   support\n",
      "\n",
      " Eyes opened       0.70      0.78      0.74      1855\n",
      " Eyes closed       0.78      0.73      0.75      1829\n",
      "Healthy Area       0.52      0.67      0.59      1821\n",
      "  Tumor Area       0.58      0.41      0.48      1882\n",
      "     Seizure       0.95      0.92      0.93      1813\n",
      "\n",
      "    accuracy                           0.70      9200\n",
      "   macro avg       0.71      0.70      0.70      9200\n",
      "weighted avg       0.70      0.70      0.70      9200\n",
      "\n"
     ]
    }
   ],
   "source": [
    "y_predtrain = cross_val_predict(clf_svm, X_train, Y_train, cv=5)\n",
    "\n",
    "#print the performance metrics (precison, recall and f1 score) on training dataset for all class\n",
    "print(\"Training metrics\\n\",classification_report(Y_train, y_predtrain,target_names=['Eyes opened','Eyes closed','Healthy Area','Tumor Area','Seizure']))"
   ]
  },
  {
   "cell_type": "code",
   "execution_count": 13,
   "id": "12058107",
   "metadata": {},
   "outputs": [
    {
     "name": "stdout",
     "output_type": "stream",
     "text": [
      "Testing metrics\n",
      "               precision    recall  f1-score   support\n",
      "\n",
      " Eyes opened       0.69      0.76      0.73       445\n",
      " Eyes closed       0.79      0.74      0.77       471\n",
      "Healthy Area       0.52      0.81      0.63       479\n",
      "  Tumor Area       0.55      0.19      0.28       418\n",
      "     Seizure       0.95      0.94      0.94       487\n",
      "\n",
      "    accuracy                           0.70      2300\n",
      "   macro avg       0.70      0.69      0.67      2300\n",
      "weighted avg       0.71      0.70      0.68      2300\n",
      "\n"
     ]
    },
    {
     "data": {
      "text/plain": [
       "<AxesSubplot:>"
      ]
     },
     "execution_count": 13,
     "metadata": {},
     "output_type": "execute_result"
    },
    {
     "data": {
      "image/png": "[encoded data removed]",
      "text/plain": [
       "<Figure size 432x288 with 2 Axes>"
      ]
     },
     "metadata": {
      "needs_background": "light"
     },
     "output_type": "display_data"
    }
   ],
   "source": [
    "y_pred = cross_val_predict(clf_svm,X_test,Y_test,cv=5)\n",
    "\n",
    "#print the performance metrics (precison, recall and f1 score) on testing dataset for all class\n",
    "print(\"Testing metrics\\n\",classification_report(Y_test, y_pred,target_names=['Eyes opened','Eyes closed','Healthy Area','Tumor Area','Seizure']))\n",
    "\n",
    "# confusion matrix\n",
    "cm = confusion_matrix(Y_test, y_pred)\n",
    "df_cm = pd.DataFrame(cm, range(5), range(5))\n",
    "sn.heatmap(df_cm, annot=True,fmt='g',cmap ='Blues')"
   ]
  },
  {
   "cell_type": "markdown",
   "id": "40b7d5ed",
   "metadata": {},
   "source": [
    "## LSTM model for multi class classification"
   ]
  },
  {
   "cell_type": "code",
   "execution_count": 14,
   "id": "58dcd914",
   "metadata": {},
   "outputs": [],
   "source": [
    "## Now let us try recurrent neural network (LSTM) for seizure detection and classification"
   ]
  },
  {
   "cell_type": "code",
   "execution_count": 15,
   "id": "138ca02e",
   "metadata": {},
   "outputs": [],
   "source": [
    "df = shuffle(df)\n",
    "X1 = df.iloc[:,1:177].values\n",
    "Y1 = df.iloc[:,178].values\n",
    "\n",
    "# normalize the dataset\n",
    "scaler = StandardScaler()\n",
    "scaler.fit(X1)\n",
    "X1 = scaler.transform(X1)\n",
    "from keras.utils import to_categorical\n",
    "Y1 = to_categorical(Y1)\n",
    "\n",
    "# split the training (60%) validation (20%) and testing (20%) dataset\n",
    "X1_train, X1_test, Y1_train, Y1_test = train_test_split(X1, Y1, test_size = 0.2)\n",
    "X1_train, X1_val, Y1_train, Y1_val = train_test_split(X1_train, Y1_train, test_size=0.25, random_state=1)\n",
    "\n",
    "X1_train = np.reshape(X1_train, (X1_train.shape[0],1,X1.shape[1]))\n",
    "X1_test = np.reshape(X1_test, (X1_test.shape[0],1,X1.shape[1]))\n",
    "X1_val = np.reshape(X1_val, (X1_val.shape[0],1,X1.shape[1]))"
   ]
  },
  {
   "cell_type": "code",
   "execution_count": 16,
   "id": "1b40b661",
   "metadata": {},
   "outputs": [],
   "source": [
    "import tensorflow as tf\n",
    "from tensorflow.keras import Sequential\n",
    "from keras.optimizers import SGD\n",
    "from keras_tuner import RandomSearch\n",
    "\n",
    "from tensorflow.keras.layers import Dense, Dropout\n",
    "from tensorflow.keras.layers import Embedding\n",
    "from tensorflow.keras.layers import LSTM\n",
    "tf.keras.backend.clear_session()"
   ]
  },
  {
   "cell_type": "code",
   "execution_count": 17,
   "id": "bfc178e3",
   "metadata": {},
   "outputs": [],
   "source": [
    "#  to find the the optimal number of LSTM layers we used hp.int() in a for loop, which could take value 1 to 4.\n",
    "# To avoid overfitting the neural network, we add a dropout layer and to find the right drop out we used hp.Float().\n",
    "# and defined the the final layer as dense layer\n",
    "#After defining the hyper-parameters we compiled the model with RMSprop optimizer,\n",
    "# binary cross-Entropy loss function, and metric and return that model\n",
    "\n",
    "# we used early stopping to Stop the training when a monitored metric has stopped improving.\n",
    "stop_early = tf.keras.callbacks.EarlyStopping(monitor='val_loss', patience=5)\n",
    "\n",
    "def build_model(hp):\n",
    "    model = Sequential()\n",
    "    model.add(LSTM(hp.Int('input_unit',min_value=16,max_value=512,step=16),return_sequences=True, input_shape=(X1_train.shape[1],X1_train.shape[2])))\n",
    "    for i in range(hp.Int('n_layers', 1, 4)):\n",
    "        model.add(LSTM(hp.Int(f'lstm_{i}_units',min_value=16,max_value=512,step=16),return_sequences=True))\n",
    "    model.add(LSTM(hp.Int('layer_2_neurons',min_value=16,max_value=512,step=16)))\n",
    "    model.add(Dropout(hp.Float('Dropout_rate',min_value=0,max_value=0.9,step=0.1)))\n",
    "    model.add(Dense(Y1_train.shape[1], activation=hp.Choice('dense_activation',values=['relu', 'sigmoid','softmax'])))\n",
    "    hp_learning_rate = hp.Choice('learning_rate', values=[1e-2, 1e-3, 1e-4])\n",
    "    model.compile(optimizer=keras.optimizers.RMSprop(learning_rate=hp_learning_rate),\n",
    "                  loss = 'categorical_crossentropy', metrics = ['accuracy'])\n",
    "    return model"
   ]
  },
  {
   "cell_type": "code",
   "execution_count": 18,
   "id": "6cc83d80",
   "metadata": {},
   "outputs": [
    {
     "name": "stdout",
     "output_type": "stream",
     "text": [
      "INFO:tensorflow:Reloading Oracle from existing project H:\\Final_project\\Save_model\\Muticlass\\Best_model\\oracle.json\n",
      "INFO:tensorflow:Reloading Tuner from H:\\Final_project\\Save_model\\Muticlass\\Best_model\\tuner0.json\n"
     ]
    }
   ],
   "source": [
    "import keras_tuner as kt\n",
    "tuner = kt.Hyperband(build_model,\n",
    "                     objective='val_accuracy',\n",
    "                     max_epochs=50,\n",
    "                     factor=3,\n",
    "                     directory='H:\\Final_project\\Save_model\\Muticlass',\n",
    "                     project_name='Best_model')"
   ]
  },
  {
   "cell_type": "code",
   "execution_count": 19,
   "id": "f3c31b1a",
   "metadata": {},
   "outputs": [
    {
     "name": "stdout",
     "output_type": "stream",
     "text": [
      "INFO:tensorflow:Oracle triggered exit\n"
     ]
    }
   ],
   "source": [
    "tuner.search(\n",
    "        x=X1_train,\n",
    "        y=Y1_train,\n",
    "        epochs=50,\n",
    "        validation_data=(X1_val,Y1_val),\n",
    "         callbacks=[stop_early]\n",
    "        )"
   ]
  },
  {
   "cell_type": "code",
   "execution_count": 20,
   "id": "8d095b12",
   "metadata": {},
   "outputs": [
    {
     "name": "stdout",
     "output_type": "stream",
     "text": [
      "Results summary\n",
      "Results in H:\\Final_project\\Save_model\\Muticlass\\Best_model\n",
      "Showing 10 best trials\n",
      "<keras_tuner.engine.objective.Objective object at 0x0000018A7C7A0970>\n",
      "Trial summary\n",
      "Hyperparameters:\n",
      "input_unit: 464\n",
      "n_layers: 1\n",
      "lstm_0_units: 288\n",
      "layer_2_neurons: 192\n",
      "Dropout_rate: 0.8\n",
      "dense_activation: softmax\n",
      "learning_rate: 0.001\n",
      "lstm_1_units: 304\n",
      "lstm_2_units: 224\n",
      "lstm_3_units: 96\n",
      "tuner/epochs: 50\n",
      "tuner/initial_epoch: 17\n",
      "tuner/bracket: 3\n",
      "tuner/round: 3\n",
      "tuner/trial_id: 0046\n",
      "Score: 0.6926087141036987\n",
      "Trial summary\n",
      "Hyperparameters:\n",
      "input_unit: 464\n",
      "n_layers: 1\n",
      "lstm_0_units: 288\n",
      "layer_2_neurons: 192\n",
      "Dropout_rate: 0.8\n",
      "dense_activation: softmax\n",
      "learning_rate: 0.001\n",
      "lstm_1_units: 304\n",
      "lstm_2_units: 224\n",
      "lstm_3_units: 96\n",
      "tuner/epochs: 17\n",
      "tuner/initial_epoch: 6\n",
      "tuner/bracket: 3\n",
      "tuner/round: 2\n",
      "tuner/trial_id: 0038\n",
      "Score: 0.6830434799194336\n",
      "Trial summary\n",
      "Hyperparameters:\n",
      "input_unit: 368\n",
      "n_layers: 3\n",
      "lstm_0_units: 288\n",
      "layer_2_neurons: 224\n",
      "Dropout_rate: 0.4\n",
      "dense_activation: softmax\n",
      "learning_rate: 0.001\n",
      "lstm_1_units: 256\n",
      "lstm_2_units: 368\n",
      "lstm_3_units: 448\n",
      "tuner/epochs: 17\n",
      "tuner/initial_epoch: 0\n",
      "tuner/bracket: 1\n",
      "tuner/round: 0\n",
      "Score: 0.6804347634315491\n",
      "Trial summary\n",
      "Hyperparameters:\n",
      "input_unit: 208\n",
      "n_layers: 2\n",
      "lstm_0_units: 240\n",
      "layer_2_neurons: 304\n",
      "Dropout_rate: 0.8\n",
      "dense_activation: softmax\n",
      "learning_rate: 0.001\n",
      "lstm_1_units: 48\n",
      "lstm_2_units: 288\n",
      "lstm_3_units: 304\n",
      "tuner/epochs: 50\n",
      "tuner/initial_epoch: 0\n",
      "tuner/bracket: 0\n",
      "tuner/round: 0\n",
      "Score: 0.6791304349899292\n",
      "Trial summary\n",
      "Hyperparameters:\n",
      "input_unit: 128\n",
      "n_layers: 3\n",
      "lstm_0_units: 240\n",
      "layer_2_neurons: 368\n",
      "Dropout_rate: 0.30000000000000004\n",
      "dense_activation: sigmoid\n",
      "learning_rate: 0.001\n",
      "lstm_1_units: 128\n",
      "lstm_2_units: 304\n",
      "lstm_3_units: 512\n",
      "tuner/epochs: 50\n",
      "tuner/initial_epoch: 17\n",
      "tuner/bracket: 2\n",
      "tuner/round: 2\n",
      "tuner/trial_id: 0070\n",
      "Score: 0.678260862827301\n",
      "Trial summary\n",
      "Hyperparameters:\n",
      "input_unit: 240\n",
      "n_layers: 1\n",
      "lstm_0_units: 464\n",
      "layer_2_neurons: 64\n",
      "Dropout_rate: 0.1\n",
      "dense_activation: softmax\n",
      "learning_rate: 0.01\n",
      "lstm_1_units: 32\n",
      "lstm_2_units: 272\n",
      "lstm_3_units: 256\n",
      "tuner/epochs: 17\n",
      "tuner/initial_epoch: 0\n",
      "tuner/bracket: 1\n",
      "tuner/round: 0\n",
      "Score: 0.6765217185020447\n",
      "Trial summary\n",
      "Hyperparameters:\n",
      "input_unit: 48\n",
      "n_layers: 1\n",
      "lstm_0_units: 464\n",
      "layer_2_neurons: 160\n",
      "Dropout_rate: 0.6000000000000001\n",
      "dense_activation: softmax\n",
      "learning_rate: 0.001\n",
      "lstm_1_units: 64\n",
      "lstm_2_units: 320\n",
      "lstm_3_units: 304\n",
      "tuner/epochs: 50\n",
      "tuner/initial_epoch: 17\n",
      "tuner/bracket: 1\n",
      "tuner/round: 1\n",
      "tuner/trial_id: 0078\n",
      "Score: 0.6686956286430359\n",
      "Trial summary\n",
      "Hyperparameters:\n",
      "input_unit: 240\n",
      "n_layers: 1\n",
      "lstm_0_units: 464\n",
      "layer_2_neurons: 64\n",
      "Dropout_rate: 0.1\n",
      "dense_activation: softmax\n",
      "learning_rate: 0.01\n",
      "lstm_1_units: 32\n",
      "lstm_2_units: 272\n",
      "lstm_3_units: 256\n",
      "tuner/epochs: 50\n",
      "tuner/initial_epoch: 17\n",
      "tuner/bracket: 1\n",
      "tuner/round: 1\n",
      "tuner/trial_id: 0075\n",
      "Score: 0.665217399597168\n",
      "Trial summary\n",
      "Hyperparameters:\n",
      "input_unit: 432\n",
      "n_layers: 2\n",
      "lstm_0_units: 80\n",
      "layer_2_neurons: 224\n",
      "Dropout_rate: 0.9\n",
      "dense_activation: softmax\n",
      "learning_rate: 0.001\n",
      "lstm_1_units: 352\n",
      "lstm_2_units: 384\n",
      "lstm_3_units: 256\n",
      "tuner/epochs: 17\n",
      "tuner/initial_epoch: 6\n",
      "tuner/bracket: 2\n",
      "tuner/round: 1\n",
      "tuner/trial_id: 0063\n",
      "Score: 0.6634782552719116\n",
      "Trial summary\n",
      "Hyperparameters:\n",
      "input_unit: 48\n",
      "n_layers: 1\n",
      "lstm_0_units: 464\n",
      "layer_2_neurons: 160\n",
      "Dropout_rate: 0.6000000000000001\n",
      "dense_activation: softmax\n",
      "learning_rate: 0.001\n",
      "lstm_1_units: 64\n",
      "lstm_2_units: 320\n",
      "lstm_3_units: 304\n",
      "tuner/epochs: 17\n",
      "tuner/initial_epoch: 0\n",
      "tuner/bracket: 1\n",
      "tuner/round: 0\n",
      "Score: 0.6613043546676636\n"
     ]
    }
   ],
   "source": [
    "tuner.results_summary()"
   ]
  },
  {
   "cell_type": "code",
   "execution_count": 21,
   "id": "1069b8e9",
   "metadata": {},
   "outputs": [
    {
     "name": "stdout",
     "output_type": "stream",
     "text": [
      "Model: \"sequential\"\n",
      "_________________________________________________________________\n",
      "Layer (type)                 Output Shape              Param #   \n",
      "=================================================================\n",
      "lstm (LSTM)                  (None, 1, 464)            1189696   \n",
      "_________________________________________________________________\n",
      "lstm_1 (LSTM)                (None, 1, 288)            867456    \n",
      "_________________________________________________________________\n",
      "lstm_2 (LSTM)                (None, 192)               369408    \n",
      "_________________________________________________________________\n",
      "dropout (Dropout)            (None, 192)               0         \n",
      "_________________________________________________________________\n",
      "dense (Dense)                (None, 5)                 965       \n",
      "=================================================================\n",
      "Total params: 2,427,525\n",
      "Trainable params: 2,427,525\n",
      "Non-trainable params: 0\n",
      "_________________________________________________________________\n"
     ]
    }
   ],
   "source": [
    "best_model = tuner.get_best_models()[0]\n",
    "best_model.build(X1_train.shape)\n",
    "best_model.summary()"
   ]
  },
  {
   "cell_type": "code",
   "execution_count": 22,
   "id": "bd461307",
   "metadata": {},
   "outputs": [
    {
     "name": "stdout",
     "output_type": "stream",
     "text": [
      "Epoch 1/50\n",
      "432/432 [==============================] - 9s 21ms/step - loss: 0.6771 - accuracy: 0.7190 - val_loss: 0.6081 - val_accuracy: 0.7170\n",
      "Epoch 2/50\n",
      "432/432 [==============================] - 8s 19ms/step - loss: 0.5970 - accuracy: 0.7455 - val_loss: 0.6365 - val_accuracy: 0.7170\n",
      "Epoch 3/50\n",
      "432/432 [==============================] - 8s 19ms/step - loss: 0.5476 - accuracy: 0.7661 - val_loss: 0.7937 - val_accuracy: 0.6939\n",
      "Epoch 4/50\n",
      "432/432 [==============================] - 8s 18ms/step - loss: 0.5053 - accuracy: 0.7858 - val_loss: 0.6806 - val_accuracy: 0.7222\n",
      "Epoch 5/50\n",
      "432/432 [==============================] - 8s 19ms/step - loss: 0.4557 - accuracy: 0.8106 - val_loss: 0.7442 - val_accuracy: 0.7196\n",
      "Epoch 6/50\n",
      "432/432 [==============================] - 8s 19ms/step - loss: 0.4138 - accuracy: 0.8190 - val_loss: 0.7501 - val_accuracy: 0.7230\n"
     ]
    },
    {
     "data": {
      "text/plain": [
       "<tensorflow.python.keras.callbacks.History at 0x18a0007d520>"
      ]
     },
     "execution_count": 22,
     "metadata": {},
     "output_type": "execute_result"
    }
   ],
   "source": [
    "best_model.fit(X1_train,Y1_train,epochs=50,\n",
    "        validation_data=(X1_val,Y1_val),\n",
    "        batch_size = 16,\n",
    "        callbacks=[stop_early])"
   ]
  },
  {
   "cell_type": "code",
   "execution_count": 23,
   "id": "5dca355b",
   "metadata": {},
   "outputs": [
    {
     "name": "stdout",
     "output_type": "stream",
     "text": [
      "              precision    recall  f1-score   support\n",
      "\n",
      " Eyes opened       0.69      0.74      0.71       481\n",
      " Eyes closed       0.79      0.84      0.82       464\n",
      "Healthy Area       0.62      0.47      0.54       469\n",
      "  Tumor Area       0.56      0.62      0.59       448\n",
      "     Seizure       0.95      0.97      0.96       438\n",
      "\n",
      "    accuracy                           0.72      2300\n",
      "   macro avg       0.72      0.73      0.72      2300\n",
      "weighted avg       0.72      0.72      0.72      2300\n",
      "\n"
     ]
    },
    {
     "data": {
      "text/plain": [
       "<AxesSubplot:>"
      ]
     },
     "execution_count": 23,
     "metadata": {},
     "output_type": "execute_result"
    },
    {
     "data": {
      "image/png": "[encoded data removed]",
      "text/plain": [
       "<Figure size 432x288 with 2 Axes>"
      ]
     },
     "metadata": {
      "needs_background": "light"
     },
     "output_type": "display_data"
    }
   ],
   "source": [
    "Y_pred = best_model.predict(X1_test)\n",
    "\n",
    "# calculate the performance metrics (precision, recall and f1 score)\n",
    "print(classification_report(Y1_test.argmax(axis=1), Y_pred.argmax(axis=1), target_names=['Eyes opened','Eyes closed','Healthy Area','Tumor Area','Seizure']))\n",
    "cm = confusion_matrix(Y1_test.argmax(axis=1), Y_pred.argmax(axis=1))\n",
    "df_cm = pd.DataFrame(cm, range(5), range(5))\n",
    "sn.heatmap(df_cm, annot=True,fmt='g',cmap ='Blues')"
   ]
  },
  {
   "cell_type": "code",
   "execution_count": null,
   "id": "d0df6bab",
   "metadata": {},
   "outputs": [],
   "source": [
    "## ROC curves of all mode"
   ]
  },
  {
   "cell_type": "code",
   "execution_count": 24,
   "id": "e85f6b80",
   "metadata": {},
   "outputs": [
    {
     "name": "stdout",
     "output_type": "stream",
     "text": [
      "WARNING:tensorflow:From C:\\Users\\kau19001\\AppData\\Local\\Temp\\ipykernel_10364\\1734447558.py:7: Sequential.predict_proba (from tensorflow.python.keras.engine.sequential) is deprecated and will be removed after 2021-01-01.\n",
      "Instructions for updating:\n",
      "Please use `model.predict()` instead.\n"
     ]
    },
    {
     "data": {
      "image/png": "[encoded data removed]",
      "text/plain": [
       "<Figure size 720x432 with 1 Axes>"
      ]
     },
     "metadata": {
      "needs_background": "light"
     },
     "output_type": "display_data"
    }
   ],
   "source": [
    "from sklearn.preprocessing import label_binarize\n",
    "from sklearn import metrics\n",
    "from sklearn.metrics import roc_curve, roc_auc_score, auc\n",
    "import matplotlib.pyplot as plt\n",
    "\n",
    "pred_prob1 = clf_svm.predict_proba(X_test)\n",
    "pred_prob2 = best_model.predict_proba(X1_test)\n",
    "\n",
    "Y_bin1 = label_binarize(Y_test, classes=[0,1, 2,3,4])\n",
    "Y_bin2 = label_binarize(Y1_test, classes=[0,1, 2,3,4])\n",
    "\n",
    "\n",
    "auc1 = metrics.roc_auc_score(Y_test, pred_prob1, multi_class='ovr')\n",
    "auc2 = metrics.roc_auc_score(Y1_test, pred_prob2,multi_class='ovr' )\n",
    "\n",
    "\n",
    "plt.figure(1, figsize=(10, 6))\n",
    "plt.clf()\n",
    "\n",
    "\n",
    "\n",
    "\n",
    "for j in range(0,np.size(Y_bin1,1)):\n",
    "    fpr1, tpr1, T1 = roc_curve(Y_bin1[:,j], pred_prob1[:,j])\n",
    "    fpr2, tpr2, T2 = roc_curve(Y_bin2[:,j], pred_prob2[:,j])\n",
    "random_probs = [0 for i in range(len(Y_test))]\n",
    "p_fpr, p_tpr, _ = roc_curve(Y_test, random_probs, pos_label=1)\n",
    "\n",
    "# plot roc curves\n",
    "plt.plot(fpr1, tpr1, linestyle='--',color='green', label=\"SVM auc=\"+str(auc1))\n",
    "plt.plot(fpr2, tpr2, linestyle='--',color='red', label=\"LSTM auc=\"+str(auc2))\n",
    "plt.plot(p_fpr, p_tpr, linestyle='--', color='blue')\n",
    "\n",
    "plt.title('ROC curve')\n",
    "# x label\n",
    "plt.xlabel('False Positive Rate')\n",
    "# y label\n",
    "plt.ylabel('True Positive rate')\n",
    "\n",
    "plt.legend(loc='best')\n",
    "plt.savefig('ROC',dpi=300)\n",
    "plt.show();\n"
   ]
  },
  {
   "cell_type": "code",
   "execution_count": null,
   "id": "15f7d9ed",
   "metadata": {},
   "outputs": [],
   "source": []
  },
  {
   "cell_type": "code",
   "execution_count": null,
   "id": "35871196",
   "metadata": {},
   "outputs": [],
   "source": []
  },
  {
   "cell_type": "code",
   "execution_count": null,
   "id": "1b4157ee",
   "metadata": {},
   "outputs": [],
   "source": []
  }
 ],
 "metadata": {
  "kernelspec": {
   "display_name": "Python 3 (ipykernel)",
   "language": "python",
   "name": "python3"
  },
  "language_info": {
   "codemirror_mode": {
    "name": "ipython",
    "version": 3
   },
   "file_extension": ".py",
   "mimetype": "text/x-python",
   "name": "python",
   "nbconvert_exporter": "python",
   "pygments_lexer": "ipython3",
   "version": "3.9.7"
  }
 },
 "nbformat": 4,
 "nbformat_minor": 5
}
