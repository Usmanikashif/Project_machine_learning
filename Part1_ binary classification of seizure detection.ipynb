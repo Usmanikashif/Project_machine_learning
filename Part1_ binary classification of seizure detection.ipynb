{
 "cells": [
  {
   "cell_type": "markdown",
   "id": "51bc3dbb",
   "metadata": {},
   "source": [
    "#### After preprocessing the data we used support vector machine (SVM) and long-short term memory (LSTM) neural network to classify the non-seizure and seizure EEG signals. \n",
    "#### For feature extraction in case of SVM model, we used discrete wavelet transform and statistical features are extracted from the wavelet coefficients in each sub-band.\n",
    "#### Since the dataset is highly imbalanced in which majority of the samples are from non-seizure, we used SMOTE technique to balanced the dataset.\n"
   ]
  },
  {
   "cell_type": "code",
   "execution_count": 2,
   "id": "9d6678f8",
   "metadata": {},
   "outputs": [],
   "source": [
    "# we imported all the modules and pacakages\n",
    "import glob\n",
    "import numpy as np\n",
    "import matplotlib as mpl\n",
    "import matplotlib.pyplot as plt\n",
    "import pandas as pd\n",
    "import os\n",
    "from sklearn.preprocessing import StandardScaler\n",
    "from sklearn.metrics import confusion_matrix, accuracy_score, classification_report\n",
    "import seaborn as sn\n",
    "import tensorflow as tf\n",
    "from tensorflow import keras\n",
    "from sklearn.model_selection import train_test_split, cross_val_score\n",
    "from sklearn.utils import shuffle\n",
    "import tensorflow as tf\n",
    "from tensorflow.keras import Sequential\n",
    "from keras.optimizers import SGD\n",
    "from keras_tuner import RandomSearch\n",
    "\n",
    "from tensorflow.keras.layers import Dense, Dropout\n",
    "from tensorflow.keras.layers import Embedding\n",
    "from tensorflow.keras.layers import LSTM\n",
    "tf.keras.backend.clear_session()\n",
    "\n",
    "import keras_tuner as kt\n",
    "import warnings; warnings.simplefilter('ignore')\n",
    "import warnings\n",
    "warnings.filterwarnings('ignore')"
   ]
  },
  {
   "cell_type": "markdown",
   "id": "c9060d8b",
   "metadata": {},
   "source": [
    "#### Dataset A, B, C and D contain the datapoints of non-seizure and dataset E contains the datapoints of seizure. We labeled the non-seizure data as class '0' and seizure data as class'1'"
   ]
  },
  {
   "cell_type": "code",
   "execution_count": 3,
   "id": "e30adc2e",
   "metadata": {},
   "outputs": [],
   "source": [
    "\n",
    " # Data loading \n",
    "# we used the path of final preprocessed dataset.Each dataset contains 100 files \n",
    "# read all the files from sets and concates the files\n",
    "\n",
    "# DataA\n",
    "pathA = r'H:/Final_project/Data/merged/A' \n",
    "all_filesA = glob.glob(pathA + \"/*.csv\")\n",
    "\n",
    "tempA = []\n",
    "\n",
    "for filename in all_filesA:\n",
    "    df1 = pd.read_csv(filename, index_col=None, header=0)\n",
    "    tempA.append(df1)\n",
    "\n",
    "dfA = pd.concat(tempA, axis=0, ignore_index=True)\n",
    "dfA.insert(loc=len(dfA.columns), column='Y', value='0', allow_duplicates=True)\n",
    "\n",
    "\n",
    "# DataB\n",
    "pathB = r'H:/Final_project/Data/merged/B' \n",
    "all_filesB = glob.glob(pathB + \"/*.csv\")\n",
    "\n",
    "tempB = []\n",
    "\n",
    "for filename in all_filesB:\n",
    "    df2 = pd.read_csv(filename, index_col=None, header=0)\n",
    "    tempB.append(df2)\n",
    "\n",
    "dfB = pd.concat(tempB, axis=0, ignore_index=True)\n",
    "dfB.insert(loc=len(dfB.columns), column='Y', value='0', allow_duplicates=True)\n",
    "\n",
    "# DataC\n",
    "pathC = r'H:/Final_project/Data/merged/C' \n",
    "all_filesC = glob.glob(pathC + \"/*.csv\")\n",
    "\n",
    "tempC = []\n",
    "\n",
    "for filename in all_filesC:\n",
    "    df3 = pd.read_csv(filename, index_col=None, header=0)\n",
    "    tempC.append(df3)\n",
    "\n",
    "dfC = pd.concat(tempC, axis=0, ignore_index=True)\n",
    "dfC.insert(loc=len(dfC.columns), column='Y', value='0', allow_duplicates=True)\n",
    "\n",
    "\n",
    "## Data D\n",
    "pathD = r'H:/Final_project/Data/merged/D' \n",
    "all_filesD = glob.glob(pathD + \"/*.csv\")\n",
    "\n",
    "tempD = []\n",
    "\n",
    "for filename in all_filesD:\n",
    "    df4 = pd.read_csv(filename, index_col=None, header=0)\n",
    "    tempD.append(df4)\n",
    "\n",
    "dfD = pd.concat(tempD, axis=0, ignore_index=True)\n",
    "dfD.insert(loc=len(dfD.columns), column='Y', value='0', allow_duplicates=True)\n",
    "\n",
    "\n",
    "## Data E\n",
    "pathE = r'H:/Final_project/Data/merged/E'\n",
    "all_filesE = glob.glob(pathE + \"/*.csv\")\n",
    "\n",
    "tempE = []\n",
    "\n",
    "for filename in all_filesE:\n",
    "    df5 = pd.read_csv(filename, index_col=None, header=0)\n",
    "    tempE.append(df5)\n",
    "\n",
    "dfE = pd.concat(tempE, axis=0, ignore_index=True)\n",
    "dfE.insert(loc=len(dfE.columns), column='Y', value='1', allow_duplicates=True)"
   ]
  },
  {
   "cell_type": "code",
   "execution_count": 4,
   "id": "b2db8556",
   "metadata": {},
   "outputs": [
    {
     "data": {
      "text/html": [
       "<div>\n",
       "<style scoped>\n",
       "    .dataframe tbody tr th:only-of-type {\n",
       "        vertical-align: middle;\n",
       "    }\n",
       "\n",
       "    .dataframe tbody tr th {\n",
       "        vertical-align: top;\n",
       "    }\n",
       "\n",
       "    .dataframe thead th {\n",
       "        text-align: right;\n",
       "    }\n",
       "</style>\n",
       "<table border=\"1\" class=\"dataframe\">\n",
       "  <thead>\n",
       "    <tr style=\"text-align: right;\">\n",
       "      <th></th>\n",
       "      <th>0</th>\n",
       "      <th>1</th>\n",
       "      <th>2</th>\n",
       "      <th>3</th>\n",
       "      <th>4</th>\n",
       "      <th>5</th>\n",
       "      <th>6</th>\n",
       "      <th>7</th>\n",
       "      <th>8</th>\n",
       "      <th>9</th>\n",
       "      <th>...</th>\n",
       "      <th>169</th>\n",
       "      <th>170</th>\n",
       "      <th>171</th>\n",
       "      <th>172</th>\n",
       "      <th>173</th>\n",
       "      <th>174</th>\n",
       "      <th>175</th>\n",
       "      <th>176</th>\n",
       "      <th>177</th>\n",
       "      <th>Y</th>\n",
       "    </tr>\n",
       "  </thead>\n",
       "  <tbody>\n",
       "    <tr>\n",
       "      <th>0</th>\n",
       "      <td>45</td>\n",
       "      <td>69</td>\n",
       "      <td>74</td>\n",
       "      <td>79</td>\n",
       "      <td>78</td>\n",
       "      <td>66</td>\n",
       "      <td>43</td>\n",
       "      <td>33</td>\n",
       "      <td>36</td>\n",
       "      <td>34</td>\n",
       "      <td>...</td>\n",
       "      <td>-53</td>\n",
       "      <td>-48</td>\n",
       "      <td>-40</td>\n",
       "      <td>-17</td>\n",
       "      <td>-23</td>\n",
       "      <td>-32</td>\n",
       "      <td>-41</td>\n",
       "      <td>-50</td>\n",
       "      <td>-53</td>\n",
       "      <td>0</td>\n",
       "    </tr>\n",
       "    <tr>\n",
       "      <th>1</th>\n",
       "      <td>-33</td>\n",
       "      <td>-31</td>\n",
       "      <td>-28</td>\n",
       "      <td>-18</td>\n",
       "      <td>-20</td>\n",
       "      <td>-16</td>\n",
       "      <td>-3</td>\n",
       "      <td>19</td>\n",
       "      <td>33</td>\n",
       "      <td>24</td>\n",
       "      <td>...</td>\n",
       "      <td>39</td>\n",
       "      <td>54</td>\n",
       "      <td>54</td>\n",
       "      <td>34</td>\n",
       "      <td>29</td>\n",
       "      <td>31</td>\n",
       "      <td>33</td>\n",
       "      <td>36</td>\n",
       "      <td>35</td>\n",
       "      <td>0</td>\n",
       "    </tr>\n",
       "    <tr>\n",
       "      <th>2</th>\n",
       "      <td>22</td>\n",
       "      <td>9</td>\n",
       "      <td>15</td>\n",
       "      <td>20</td>\n",
       "      <td>18</td>\n",
       "      <td>3</td>\n",
       "      <td>-16</td>\n",
       "      <td>-34</td>\n",
       "      <td>-50</td>\n",
       "      <td>-30</td>\n",
       "      <td>...</td>\n",
       "      <td>33</td>\n",
       "      <td>42</td>\n",
       "      <td>46</td>\n",
       "      <td>56</td>\n",
       "      <td>59</td>\n",
       "      <td>42</td>\n",
       "      <td>29</td>\n",
       "      <td>16</td>\n",
       "      <td>14</td>\n",
       "      <td>0</td>\n",
       "    </tr>\n",
       "    <tr>\n",
       "      <th>3</th>\n",
       "      <td>6</td>\n",
       "      <td>-1</td>\n",
       "      <td>-14</td>\n",
       "      <td>-26</td>\n",
       "      <td>-23</td>\n",
       "      <td>-18</td>\n",
       "      <td>-10</td>\n",
       "      <td>-10</td>\n",
       "      <td>-3</td>\n",
       "      <td>-5</td>\n",
       "      <td>...</td>\n",
       "      <td>-33</td>\n",
       "      <td>-40</td>\n",
       "      <td>-36</td>\n",
       "      <td>-28</td>\n",
       "      <td>-33</td>\n",
       "      <td>-38</td>\n",
       "      <td>-44</td>\n",
       "      <td>-37</td>\n",
       "      <td>-25</td>\n",
       "      <td>0</td>\n",
       "    </tr>\n",
       "    <tr>\n",
       "      <th>4</th>\n",
       "      <td>0</td>\n",
       "      <td>29</td>\n",
       "      <td>50</td>\n",
       "      <td>72</td>\n",
       "      <td>90</td>\n",
       "      <td>102</td>\n",
       "      <td>92</td>\n",
       "      <td>75</td>\n",
       "      <td>44</td>\n",
       "      <td>20</td>\n",
       "      <td>...</td>\n",
       "      <td>-50</td>\n",
       "      <td>-38</td>\n",
       "      <td>-28</td>\n",
       "      <td>-31</td>\n",
       "      <td>-33</td>\n",
       "      <td>-29</td>\n",
       "      <td>-21</td>\n",
       "      <td>-7</td>\n",
       "      <td>-1</td>\n",
       "      <td>0</td>\n",
       "    </tr>\n",
       "  </tbody>\n",
       "</table>\n",
       "<p>5 rows × 179 columns</p>\n",
       "</div>"
      ],
      "text/plain": [
       "    0   1   2   3   4    5   6   7   8   9  ...  169  170  171  172  173  174  \\\n",
       "0  45  69  74  79  78   66  43  33  36  34  ...  -53  -48  -40  -17  -23  -32   \n",
       "1 -33 -31 -28 -18 -20  -16  -3  19  33  24  ...   39   54   54   34   29   31   \n",
       "2  22   9  15  20  18    3 -16 -34 -50 -30  ...   33   42   46   56   59   42   \n",
       "3   6  -1 -14 -26 -23  -18 -10 -10  -3  -5  ...  -33  -40  -36  -28  -33  -38   \n",
       "4   0  29  50  72  90  102  92  75  44  20  ...  -50  -38  -28  -31  -33  -29   \n",
       "\n",
       "   175  176  177  Y  \n",
       "0  -41  -50  -53  0  \n",
       "1   33   36   35  0  \n",
       "2   29   16   14  0  \n",
       "3  -44  -37  -25  0  \n",
       "4  -21   -7   -1  0  \n",
       "\n",
       "[5 rows x 179 columns]"
      ]
     },
     "execution_count": 4,
     "metadata": {},
     "output_type": "execute_result"
    }
   ],
   "source": [
    "# merged all the dataset\n",
    "df = pd.concat([dfA, dfB,dfC,dfD,dfE], ignore_index=True)\n",
    "# displaying only frist 10 entries\n",
    "df.head()"
   ]
  },
  {
   "cell_type": "code",
   "execution_count": 5,
   "id": "06ed8a45",
   "metadata": {},
   "outputs": [
    {
     "data": {
      "text/plain": [
       "(11500, 179)"
      ]
     },
     "execution_count": 5,
     "metadata": {},
     "output_type": "execute_result"
    }
   ],
   "source": [
    "# shape of the dataset\n",
    "df.shape"
   ]
  },
  {
   "cell_type": "code",
   "execution_count": 6,
   "id": "73ca3d1d",
   "metadata": {},
   "outputs": [
    {
     "data": {
      "text/plain": [
       "2058500"
      ]
     },
     "execution_count": 6,
     "metadata": {},
     "output_type": "execute_result"
    }
   ],
   "source": [
    "# size of the dataset\n",
    "df.size"
   ]
  },
  {
   "cell_type": "code",
   "execution_count": 7,
   "id": "4c339823",
   "metadata": {},
   "outputs": [],
   "source": [
    "# The dataset consists of 11,500 samples with 178 features"
   ]
  },
  {
   "cell_type": "code",
   "execution_count": 8,
   "id": "3bdc96af",
   "metadata": {},
   "outputs": [
    {
     "data": {
      "image/png": "[encoded data removed]",
      "text/plain": [
       "<Figure size 1152x576 with 2 Axes>"
      ]
     },
     "metadata": {
      "needs_background": "light"
     },
     "output_type": "display_data"
    }
   ],
   "source": [
    "# Visualizing the data points\n",
    "\n",
    "df_nseiz=pd.concat([dfA, dfB,dfC,dfD], ignore_index=True) # non-seizure dataset (files A, B, C,D)\n",
    "\n",
    "df_nseiz = shuffle(df_nseiz) # seizure dataset (file E)\n",
    "df_seiz=dfE\n",
    "\n",
    "X_ns = df_nseiz.iloc[:,1:177].values\n",
    "X_s =  df_seiz.iloc[:,1:177].values\n",
    "samples = np.arange(0,2300,1)\n",
    "\n",
    "#let us plot the siezure and non-seizure data\n",
    "plt.figure(figsize=(16,8))\n",
    "plt.subplot(2,1,1)\n",
    "plt.title('Non-Seizure')\n",
    "plt.plot(samples,X_ns[:2300,0], label = 'Non-Seizure')\n",
    "plt.subplot(2,1,2)\n",
    "plt.title('Seizure')\n",
    "plt.plot(samples,X_s[:,0],label= 'Seizure')\n",
    "plt.savefig('ns.png')\n",
    "plt.show()"
   ]
  },
  {
   "cell_type": "markdown",
   "id": "3c6df9e7",
   "metadata": {},
   "source": [
    "## feature extraction"
   ]
  },
  {
   "cell_type": "code",
   "execution_count": 9,
   "id": "6e2e3e0f",
   "metadata": {},
   "outputs": [
    {
     "data": {
      "text/html": [
       "<div>\n",
       "<style scoped>\n",
       "    .dataframe tbody tr th:only-of-type {\n",
       "        vertical-align: middle;\n",
       "    }\n",
       "\n",
       "    .dataframe tbody tr th {\n",
       "        vertical-align: top;\n",
       "    }\n",
       "\n",
       "    .dataframe thead th {\n",
       "        text-align: right;\n",
       "    }\n",
       "</style>\n",
       "<table border=\"1\" class=\"dataframe\">\n",
       "  <thead>\n",
       "    <tr style=\"text-align: right;\">\n",
       "      <th></th>\n",
       "      <th>0</th>\n",
       "      <th>1</th>\n",
       "      <th>2</th>\n",
       "      <th>3</th>\n",
       "      <th>4</th>\n",
       "      <th>5</th>\n",
       "      <th>6</th>\n",
       "      <th>7</th>\n",
       "      <th>8</th>\n",
       "      <th>9</th>\n",
       "      <th>...</th>\n",
       "      <th>16</th>\n",
       "      <th>17</th>\n",
       "      <th>18</th>\n",
       "      <th>19</th>\n",
       "      <th>20</th>\n",
       "      <th>21</th>\n",
       "      <th>22</th>\n",
       "      <th>23</th>\n",
       "      <th>24</th>\n",
       "      <th>25</th>\n",
       "    </tr>\n",
       "  </thead>\n",
       "  <tbody>\n",
       "    <tr>\n",
       "      <th>5783</th>\n",
       "      <td>-26.282653</td>\n",
       "      <td>-26.875206</td>\n",
       "      <td>66.132637</td>\n",
       "      <td>4373.525694</td>\n",
       "      <td>57.603995</td>\n",
       "      <td>-4.231536</td>\n",
       "      <td>-1.390345</td>\n",
       "      <td>66.599979</td>\n",
       "      <td>4435.557194</td>\n",
       "      <td>52.951260</td>\n",
       "      <td>...</td>\n",
       "      <td>-0.161133</td>\n",
       "      <td>5.568259</td>\n",
       "      <td>31.005514</td>\n",
       "      <td>4.298263</td>\n",
       "      <td>-0.216370</td>\n",
       "      <td>-0.291682</td>\n",
       "      <td>2.280528</td>\n",
       "      <td>5.200809</td>\n",
       "      <td>1.857095</td>\n",
       "      <td>0</td>\n",
       "    </tr>\n",
       "    <tr>\n",
       "      <th>6895</th>\n",
       "      <td>-184.206449</td>\n",
       "      <td>-123.637340</td>\n",
       "      <td>198.832822</td>\n",
       "      <td>39534.490914</td>\n",
       "      <td>196.536038</td>\n",
       "      <td>-10.399480</td>\n",
       "      <td>-7.865153</td>\n",
       "      <td>65.177462</td>\n",
       "      <td>4248.101493</td>\n",
       "      <td>48.541232</td>\n",
       "      <td>...</td>\n",
       "      <td>0.056432</td>\n",
       "      <td>7.344797</td>\n",
       "      <td>53.946036</td>\n",
       "      <td>5.794101</td>\n",
       "      <td>0.076156</td>\n",
       "      <td>0.128856</td>\n",
       "      <td>1.722066</td>\n",
       "      <td>2.965511</td>\n",
       "      <td>1.367912</td>\n",
       "      <td>0</td>\n",
       "    </tr>\n",
       "    <tr>\n",
       "      <th>589</th>\n",
       "      <td>71.169943</td>\n",
       "      <td>46.094077</td>\n",
       "      <td>80.420413</td>\n",
       "      <td>6467.442816</td>\n",
       "      <td>78.748800</td>\n",
       "      <td>0.044817</td>\n",
       "      <td>-10.294989</td>\n",
       "      <td>40.637858</td>\n",
       "      <td>1651.435473</td>\n",
       "      <td>29.121679</td>\n",
       "      <td>...</td>\n",
       "      <td>0.058751</td>\n",
       "      <td>13.084353</td>\n",
       "      <td>171.200293</td>\n",
       "      <td>10.168715</td>\n",
       "      <td>-0.046038</td>\n",
       "      <td>-0.066808</td>\n",
       "      <td>3.015076</td>\n",
       "      <td>9.090681</td>\n",
       "      <td>2.276252</td>\n",
       "      <td>0</td>\n",
       "    </tr>\n",
       "    <tr>\n",
       "      <th>3864</th>\n",
       "      <td>-457.575360</td>\n",
       "      <td>-386.524956</td>\n",
       "      <td>154.284271</td>\n",
       "      <td>23803.636224</td>\n",
       "      <td>386.524956</td>\n",
       "      <td>3.523396</td>\n",
       "      <td>5.927985</td>\n",
       "      <td>37.289195</td>\n",
       "      <td>1390.484057</td>\n",
       "      <td>27.073757</td>\n",
       "      <td>...</td>\n",
       "      <td>0.627983</td>\n",
       "      <td>28.251440</td>\n",
       "      <td>798.143876</td>\n",
       "      <td>21.308145</td>\n",
       "      <td>-0.194308</td>\n",
       "      <td>-0.216194</td>\n",
       "      <td>8.188951</td>\n",
       "      <td>67.058920</td>\n",
       "      <td>6.375804</td>\n",
       "      <td>0</td>\n",
       "    </tr>\n",
       "    <tr>\n",
       "      <th>7658</th>\n",
       "      <td>-36.393986</td>\n",
       "      <td>2.389391</td>\n",
       "      <td>172.276913</td>\n",
       "      <td>29679.334749</td>\n",
       "      <td>157.566954</td>\n",
       "      <td>3.256909</td>\n",
       "      <td>9.042643</td>\n",
       "      <td>78.589691</td>\n",
       "      <td>6176.339534</td>\n",
       "      <td>54.299729</td>\n",
       "      <td>...</td>\n",
       "      <td>0.256769</td>\n",
       "      <td>9.423690</td>\n",
       "      <td>88.805933</td>\n",
       "      <td>7.034438</td>\n",
       "      <td>0.132414</td>\n",
       "      <td>0.114866</td>\n",
       "      <td>2.536127</td>\n",
       "      <td>6.431940</td>\n",
       "      <td>1.992388</td>\n",
       "      <td>0</td>\n",
       "    </tr>\n",
       "  </tbody>\n",
       "</table>\n",
       "<p>5 rows × 26 columns</p>\n",
       "</div>"
      ],
      "text/plain": [
       "              0           1           2             3           4          5   \\\n",
       "5783  -26.282653  -26.875206   66.132637   4373.525694   57.603995  -4.231536   \n",
       "6895 -184.206449 -123.637340  198.832822  39534.490914  196.536038 -10.399480   \n",
       "589    71.169943   46.094077   80.420413   6467.442816   78.748800   0.044817   \n",
       "3864 -457.575360 -386.524956  154.284271  23803.636224  386.524956   3.523396   \n",
       "7658  -36.393986    2.389391  172.276913  29679.334749  157.566954   3.256909   \n",
       "\n",
       "             6          7            8          9   ...        16         17  \\\n",
       "5783  -1.390345  66.599979  4435.557194  52.951260  ... -0.161133   5.568259   \n",
       "6895  -7.865153  65.177462  4248.101493  48.541232  ...  0.056432   7.344797   \n",
       "589  -10.294989  40.637858  1651.435473  29.121679  ...  0.058751  13.084353   \n",
       "3864   5.927985  37.289195  1390.484057  27.073757  ...  0.627983  28.251440   \n",
       "7658   9.042643  78.589691  6176.339534  54.299729  ...  0.256769   9.423690   \n",
       "\n",
       "              18         19        20        21        22         23  \\\n",
       "5783   31.005514   4.298263 -0.216370 -0.291682  2.280528   5.200809   \n",
       "6895   53.946036   5.794101  0.076156  0.128856  1.722066   2.965511   \n",
       "589   171.200293  10.168715 -0.046038 -0.066808  3.015076   9.090681   \n",
       "3864  798.143876  21.308145 -0.194308 -0.216194  8.188951  67.058920   \n",
       "7658   88.805933   7.034438  0.132414  0.114866  2.536127   6.431940   \n",
       "\n",
       "            24  25  \n",
       "5783  1.857095   0  \n",
       "6895  1.367912   0  \n",
       "589   2.276252   0  \n",
       "3864  6.375804   0  \n",
       "7658  1.992388   0  \n",
       "\n",
       "[5 rows x 26 columns]"
      ]
     },
     "execution_count": 9,
     "metadata": {},
     "output_type": "execute_result"
    }
   ],
   "source": [
    "# feature extraction using wavelet transform \n",
    "# The EEG signal is decomposed using Daubechies wavelet of order 4 (db4)\n",
    "# and statistical features are extracted from the wavelet coefficients in each sub-band\n",
    "import pywt\n",
    "\n",
    "target=df[\"Y\"]\n",
    "target = target.astype('int')\n",
    "df2=df.drop([\"Y\"],axis=1)\n",
    "\n",
    "\n",
    "\n",
    "# let us define function to calcualte the statiscal features \n",
    "def statisticsForWavelet(coefs):\n",
    "    median = np.nanpercentile(coefs, 50)\n",
    "    mean = np.nanmean(coefs)\n",
    "    std = np.nanstd(coefs)\n",
    "    var = np.nanvar(coefs)\n",
    "    rms = np.nanmean(np.sqrt(coefs**2))\n",
    "    return [median, mean, std, var, rms]\n",
    "\n",
    "#let us define function to calculate the wavelet coeficient using using Daubechies wavelet (db4)\n",
    "def getWaveletFeatures(data,target):\n",
    "    list_features = []\n",
    "    for signal in range(len(data)):\n",
    "        list_coeff = pywt.wavedec(data.iloc[signal], \"db4\")\n",
    "        features = []\n",
    "        for coeff in list_coeff:\n",
    "            features += statisticsForWavelet(coeff)\n",
    "        list_features.append(features)\n",
    "    return createDfWavelet(list_features,target)\n",
    "\n",
    "# let us define the final function to combine the results of these function\n",
    "def createDfWavelet(data,target):\n",
    "    for i in range(len(data)):\n",
    "        data[i].append(target[i])\n",
    "    return pd.DataFrame(data)\n",
    "\n",
    "\n",
    "# visualize the features\n",
    "df2_fea=getWaveletFeatures(df2,target)\n",
    "df2_fea = shuffle(df2_fea)\n",
    "df2_fea.head()"
   ]
  },
  {
   "cell_type": "code",
   "execution_count": 11,
   "id": "c8830b61",
   "metadata": {},
   "outputs": [],
   "source": [
    "# let us use the input and target\n",
    "X = df2_fea.iloc[:,0:24].values\n",
    "Y = df2_fea.iloc[:,25].values\n",
    "\n",
    "# to train the SVM model we normalized the dataset using standardscalar\n",
    "scaler = StandardScaler()\n",
    "scaler.fit(X)\n",
    "X = scaler.transform(X)\n",
    "\n",
    "# split the dataset into training (80%) and testing dataset(20%)\n",
    "X_train, X_test, Y_train, Y_test = train_test_split(X, Y, test_size = 0.2)"
   ]
  },
  {
   "cell_type": "markdown",
   "id": "9c1d1e1b",
   "metadata": {},
   "source": [
    "## SVM model"
   ]
  },
  {
   "cell_type": "code",
   "execution_count": 12,
   "id": "36192eec",
   "metadata": {},
   "outputs": [
    {
     "name": "stdout",
     "output_type": "stream",
     "text": [
      "Fitting 5 folds for each of 5 candidates, totalling 25 fits\n"
     ]
    },
    {
     "data": {
      "text/plain": [
       "SVC(C=1, degree=1, gamma=0.0001, kernel='linear', probability=True)"
      ]
     },
     "execution_count": 12,
     "metadata": {},
     "output_type": "execute_result"
    }
   ],
   "source": [
    "# now we used the support vector machine (SVM) model for seizure detection\n",
    "\n",
    "from sklearn.svm import SVC\n",
    "from sklearn.model_selection import RandomizedSearchCV\n",
    "from sklearn.model_selection import cross_val_predict\n",
    "svmclf = SVC(kernel='rbf', probability=True)\n",
    "\n",
    "\n",
    "\n",
    "# let us define the hyperparameters of SVM model\n",
    "param_grid = {\n",
    "    'C':   [0.001, 0.01, 0.1, 1, 10],\n",
    "    'kernel': ['linear', 'poly','rbf'],\n",
    "    'gamma': [1, 0.1, 0.01, 0.001, 0.0001],\n",
    "    'degree': [1, 2, 3, 4, 5]}\n",
    "\n",
    "## we used randomizedserch  to find the best hyperparameters\n",
    "\n",
    "searchSVM = RandomizedSearchCV(svmclf, param_grid, cv = 5,     #5-fold cross-validation\n",
    "                              n_iter=5, scoring ='accuracy',\n",
    "                              refit='precision',\n",
    "                              return_train_score=False,\n",
    "                              n_jobs=-1,\n",
    "                              verbose=1)\n",
    "searchSVM.fit(X_train,Y_train)\n",
    "\n",
    "# search the optimal hypermeters\n",
    "SVM = searchSVM.best_params_\n",
    "\n",
    "# extract the best hyperparameters\n",
    "clf_svm = SVC(\n",
    "    C = SVM['C'], \n",
    "    kernel = SVM['kernel'], \n",
    "    gamma = SVM['gamma'],\n",
    "    degree = SVM['degree'],probability=True)\n",
    "\n",
    "# after getting the best hyperparameter,we trained the SVM model using the fit method \n",
    "clf_svm.fit(X_train,Y_train)"
   ]
  },
  {
   "cell_type": "code",
   "execution_count": 13,
   "id": "860df874",
   "metadata": {},
   "outputs": [
    {
     "name": "stdout",
     "output_type": "stream",
     "text": [
      "Training metrics\n",
      "               precision    recall  f1-score   support\n",
      "\n",
      " Non-Seizure       0.98      0.98      0.98      7354\n",
      "     Seizure       0.93      0.91      0.92      1846\n",
      "\n",
      "    accuracy                           0.97      9200\n",
      "   macro avg       0.95      0.94      0.95      9200\n",
      "weighted avg       0.97      0.97      0.97      9200\n",
      "\n"
     ]
    }
   ],
   "source": [
    "# let us check whether the model is overfitting or not\n",
    "# we calculated the performance of model on training dataset\n",
    "y_predtrain = cross_val_predict(clf_svm, X_train, Y_train, cv=5)\n",
    "\n",
    "# print the performance metrics (precison, recall and f1 score)\n",
    "print(\"Training metrics\\n\",classification_report(Y_train, y_predtrain,target_names=['Non-Seizure','Seizure']))"
   ]
  },
  {
   "cell_type": "code",
   "execution_count": 14,
   "id": "12058107",
   "metadata": {},
   "outputs": [
    {
     "name": "stdout",
     "output_type": "stream",
     "text": [
      "Testing metrics \n",
      "               precision    recall  f1-score   support\n",
      "\n",
      " Non-Seizure       0.97      0.98      0.97      1846\n",
      "     Seizure       0.92      0.86      0.89       454\n",
      "\n",
      "    accuracy                           0.96      2300\n",
      "   macro avg       0.94      0.92      0.93      2300\n",
      "weighted avg       0.96      0.96      0.96      2300\n",
      "\n"
     ]
    },
    {
     "data": {
      "text/plain": [
       "<AxesSubplot:>"
      ]
     },
     "execution_count": 14,
     "metadata": {},
     "output_type": "execute_result"
    },
    {
     "data": {
      "image/png": "[encoded data removed]",
      "text/plain": [
       "<Figure size 432x288 with 2 Axes>"
      ]
     },
     "metadata": {
      "needs_background": "light"
     },
     "output_type": "display_data"
    }
   ],
   "source": [
    "# and then we calculated the performance of model on testing dataset\n",
    "\n",
    "y_pred = cross_val_predict(clf_svm, X_test, Y_test, cv=5)\n",
    "\n",
    "# print the performance metrics (precison, recall and f1 score) on testing dataset\n",
    "\n",
    "print(\"Testing metrics \\n\",classification_report(Y_test, y_pred,target_names=['Non-Seizure','Seizure']))\n",
    "\n",
    "# let us plot the confusion matrix of trained model on test data\n",
    "cm = confusion_matrix(Y_test, y_pred)\n",
    "df_cm = pd.DataFrame(cm, range(2), range(2))\n",
    "sn.heatmap(df_cm, annot=True,fmt='g',cmap ='Blues')"
   ]
  },
  {
   "cell_type": "markdown",
   "id": "75021096",
   "metadata": {},
   "source": [
    "## balance the dataset"
   ]
  },
  {
   "cell_type": "code",
   "execution_count": 15,
   "id": "894144a0",
   "metadata": {},
   "outputs": [],
   "source": [
    "# since there is not much difference in training and testing metrics,we can say that our model is not overfitting"
   ]
  },
  {
   "cell_type": "code",
   "execution_count": 16,
   "id": "0b0161fc",
   "metadata": {},
   "outputs": [
    {
     "name": "stdout",
     "output_type": "stream",
     "text": [
      "The number of samples for the non-seizure class is: 9200\n",
      "The number of samples for the seizure class is: 2300\n"
     ]
    },
    {
     "data": {
      "image/png": "[encoded data removed]",
      "text/plain": [
       "<Figure size 432x288 with 1 Axes>"
      ]
     },
     "metadata": {
      "needs_background": "light"
     },
     "output_type": "display_data"
    }
   ],
   "source": [
    "# visualize the percentage of classes in dataset\n",
    "\n",
    "import seaborn as sn\n",
    "cols = df.columns\n",
    "tgt = df.Y\n",
    "ax = sn.countplot(tgt,label=\"Count\")\n",
    "non_seizure, seizure = tgt.value_counts()\n",
    "# p\n",
    "print('The number of samples for the non-seizure class is:', non_seizure)\n",
    "print('The number of samples for the seizure class is:', seizure)"
   ]
  },
  {
   "cell_type": "code",
   "execution_count": null,
   "id": "d611b012",
   "metadata": {},
   "outputs": [],
   "source": [
    "# Since most of the data are from non-seizure, the dataset is highly imbalanced.So we used SMOTE to balnace the dataset\n",
    "#which consists of synthesizing elements for the minority class, based on those that already exist."
   ]
  },
  {
   "cell_type": "code",
   "execution_count": 17,
   "id": "d99b004f",
   "metadata": {},
   "outputs": [
    {
     "name": "stdout",
     "output_type": "stream",
     "text": [
      "The number of samples for the non-seizure class is: 9200\n",
      "The number of samples for the seizure class is: 9200\n"
     ]
    },
    {
     "data": {
      "image/png": "[encoded data removed]",
      "text/plain": [
       "<Figure size 432x288 with 1 Axes>"
      ]
     },
     "metadata": {
      "needs_background": "light"
     },
     "output_type": "display_data"
    }
   ],
   "source": [
    "from imblearn.over_sampling import SMOTE\n",
    "\n",
    "Yd=df[\"Y\"]\n",
    "Yd = Yd.astype('int')\n",
    "Xd=df.drop([\"Y\"],axis=1)\n",
    "Xd.head()\n",
    "\n",
    "sm = SMOTE(random_state=40)\n",
    "\n",
    "X_sm, Y_sm = sm.fit_resample(Xd, Yd)\n",
    "ax = sn.countplot(Y_sm, label=\"Count\")\n",
    "non_seizure = np.count_nonzero(Y_sm == 0)\n",
    "seizure = np.count_nonzero(Y_sm == 1)\n",
    "print('The number of samples for the non-seizure class is:', non_seizure)\n",
    "print('The number of samples for the seizure class is:', seizure)"
   ]
  },
  {
   "cell_type": "code",
   "execution_count": 19,
   "id": "ffa5a50c",
   "metadata": {},
   "outputs": [
    {
     "data": {
      "text/html": [
       "<div>\n",
       "<style scoped>\n",
       "    .dataframe tbody tr th:only-of-type {\n",
       "        vertical-align: middle;\n",
       "    }\n",
       "\n",
       "    .dataframe tbody tr th {\n",
       "        vertical-align: top;\n",
       "    }\n",
       "\n",
       "    .dataframe thead th {\n",
       "        text-align: right;\n",
       "    }\n",
       "</style>\n",
       "<table border=\"1\" class=\"dataframe\">\n",
       "  <thead>\n",
       "    <tr style=\"text-align: right;\">\n",
       "      <th></th>\n",
       "      <th>0</th>\n",
       "      <th>1</th>\n",
       "      <th>2</th>\n",
       "      <th>3</th>\n",
       "      <th>4</th>\n",
       "      <th>5</th>\n",
       "      <th>6</th>\n",
       "      <th>7</th>\n",
       "      <th>8</th>\n",
       "      <th>9</th>\n",
       "      <th>...</th>\n",
       "      <th>16</th>\n",
       "      <th>17</th>\n",
       "      <th>18</th>\n",
       "      <th>19</th>\n",
       "      <th>20</th>\n",
       "      <th>21</th>\n",
       "      <th>22</th>\n",
       "      <th>23</th>\n",
       "      <th>24</th>\n",
       "      <th>25</th>\n",
       "    </tr>\n",
       "  </thead>\n",
       "  <tbody>\n",
       "    <tr>\n",
       "      <th>2937</th>\n",
       "      <td>213.131509</td>\n",
       "      <td>142.741244</td>\n",
       "      <td>148.539011</td>\n",
       "      <td>22063.837657</td>\n",
       "      <td>182.589342</td>\n",
       "      <td>28.881455</td>\n",
       "      <td>47.336157</td>\n",
       "      <td>120.861065</td>\n",
       "      <td>14607.397052</td>\n",
       "      <td>92.349209</td>\n",
       "      <td>...</td>\n",
       "      <td>-0.129419</td>\n",
       "      <td>40.412266</td>\n",
       "      <td>1633.151219</td>\n",
       "      <td>33.555865</td>\n",
       "      <td>0.134963</td>\n",
       "      <td>-0.007027</td>\n",
       "      <td>6.126422</td>\n",
       "      <td>37.533044</td>\n",
       "      <td>4.866686</td>\n",
       "      <td>0</td>\n",
       "    </tr>\n",
       "    <tr>\n",
       "      <th>16928</th>\n",
       "      <td>-326.504329</td>\n",
       "      <td>-64.905372</td>\n",
       "      <td>718.334301</td>\n",
       "      <td>516004.168035</td>\n",
       "      <td>622.067940</td>\n",
       "      <td>-5.040416</td>\n",
       "      <td>-41.472954</td>\n",
       "      <td>657.718403</td>\n",
       "      <td>432593.497014</td>\n",
       "      <td>514.217919</td>\n",
       "      <td>...</td>\n",
       "      <td>-2.261143</td>\n",
       "      <td>69.101989</td>\n",
       "      <td>4775.084904</td>\n",
       "      <td>45.751655</td>\n",
       "      <td>-0.503936</td>\n",
       "      <td>-1.026420</td>\n",
       "      <td>17.716291</td>\n",
       "      <td>313.866974</td>\n",
       "      <td>9.736752</td>\n",
       "      <td>1</td>\n",
       "    </tr>\n",
       "    <tr>\n",
       "      <th>7919</th>\n",
       "      <td>124.913097</td>\n",
       "      <td>69.560904</td>\n",
       "      <td>199.480252</td>\n",
       "      <td>39792.370747</td>\n",
       "      <td>186.115948</td>\n",
       "      <td>1.667044</td>\n",
       "      <td>4.224123</td>\n",
       "      <td>73.493744</td>\n",
       "      <td>5401.330378</td>\n",
       "      <td>50.005438</td>\n",
       "      <td>...</td>\n",
       "      <td>-0.324719</td>\n",
       "      <td>10.303659</td>\n",
       "      <td>106.165380</td>\n",
       "      <td>6.500186</td>\n",
       "      <td>-0.147937</td>\n",
       "      <td>0.014166</td>\n",
       "      <td>2.753882</td>\n",
       "      <td>7.583868</td>\n",
       "      <td>1.785105</td>\n",
       "      <td>0</td>\n",
       "    </tr>\n",
       "    <tr>\n",
       "      <th>14407</th>\n",
       "      <td>589.646546</td>\n",
       "      <td>312.770828</td>\n",
       "      <td>705.534187</td>\n",
       "      <td>497778.488396</td>\n",
       "      <td>712.115525</td>\n",
       "      <td>49.298905</td>\n",
       "      <td>-18.629135</td>\n",
       "      <td>283.231884</td>\n",
       "      <td>80220.300113</td>\n",
       "      <td>216.210286</td>\n",
       "      <td>...</td>\n",
       "      <td>1.048312</td>\n",
       "      <td>35.736213</td>\n",
       "      <td>1277.076942</td>\n",
       "      <td>28.309091</td>\n",
       "      <td>0.517462</td>\n",
       "      <td>0.367324</td>\n",
       "      <td>5.749875</td>\n",
       "      <td>33.061061</td>\n",
       "      <td>4.203597</td>\n",
       "      <td>1</td>\n",
       "    </tr>\n",
       "    <tr>\n",
       "      <th>4765</th>\n",
       "      <td>11.116920</td>\n",
       "      <td>10.781207</td>\n",
       "      <td>221.471949</td>\n",
       "      <td>49049.824169</td>\n",
       "      <td>198.946153</td>\n",
       "      <td>-0.987599</td>\n",
       "      <td>-15.592580</td>\n",
       "      <td>163.867170</td>\n",
       "      <td>26852.449442</td>\n",
       "      <td>112.132318</td>\n",
       "      <td>...</td>\n",
       "      <td>1.232544</td>\n",
       "      <td>21.310200</td>\n",
       "      <td>454.124615</td>\n",
       "      <td>16.740751</td>\n",
       "      <td>-0.558180</td>\n",
       "      <td>0.016641</td>\n",
       "      <td>8.275926</td>\n",
       "      <td>68.490958</td>\n",
       "      <td>6.580232</td>\n",
       "      <td>0</td>\n",
       "    </tr>\n",
       "  </tbody>\n",
       "</table>\n",
       "<p>5 rows × 26 columns</p>\n",
       "</div>"
      ],
      "text/plain": [
       "               0           1           2              3           4   \\\n",
       "2937   213.131509  142.741244  148.539011   22063.837657  182.589342   \n",
       "16928 -326.504329  -64.905372  718.334301  516004.168035  622.067940   \n",
       "7919   124.913097   69.560904  199.480252   39792.370747  186.115948   \n",
       "14407  589.646546  312.770828  705.534187  497778.488396  712.115525   \n",
       "4765    11.116920   10.781207  221.471949   49049.824169  198.946153   \n",
       "\n",
       "              5          6           7              8           9   ...  \\\n",
       "2937   28.881455  47.336157  120.861065   14607.397052   92.349209  ...   \n",
       "16928  -5.040416 -41.472954  657.718403  432593.497014  514.217919  ...   \n",
       "7919    1.667044   4.224123   73.493744    5401.330378   50.005438  ...   \n",
       "14407  49.298905 -18.629135  283.231884   80220.300113  216.210286  ...   \n",
       "4765   -0.987599 -15.592580  163.867170   26852.449442  112.132318  ...   \n",
       "\n",
       "             16         17           18         19        20        21  \\\n",
       "2937  -0.129419  40.412266  1633.151219  33.555865  0.134963 -0.007027   \n",
       "16928 -2.261143  69.101989  4775.084904  45.751655 -0.503936 -1.026420   \n",
       "7919  -0.324719  10.303659   106.165380   6.500186 -0.147937  0.014166   \n",
       "14407  1.048312  35.736213  1277.076942  28.309091  0.517462  0.367324   \n",
       "4765   1.232544  21.310200   454.124615  16.740751 -0.558180  0.016641   \n",
       "\n",
       "              22          23        24  25  \n",
       "2937    6.126422   37.533044  4.866686   0  \n",
       "16928  17.716291  313.866974  9.736752   1  \n",
       "7919    2.753882    7.583868  1.785105   0  \n",
       "14407   5.749875   33.061061  4.203597   1  \n",
       "4765    8.275926   68.490958  6.580232   0  \n",
       "\n",
       "[5 rows x 26 columns]"
      ]
     },
     "execution_count": 19,
     "metadata": {},
     "output_type": "execute_result"
    }
   ],
   "source": [
    "# extract the features of balanced dataset using wavelet tranform\n",
    "\n",
    "df3_fea=getWaveletFeatures(X_sm,Y_sm)\n",
    "df3_fea = shuffle(df3_fea)\n",
    "df3_fea.head()"
   ]
  },
  {
   "cell_type": "code",
   "execution_count": 20,
   "id": "b6cfdf4d",
   "metadata": {},
   "outputs": [],
   "source": [
    "Xb = df3_fea.iloc[:,0:24].values\n",
    "Yb = df3_fea.iloc[:,25].values\n",
    "\n",
    "# to train the SVM model we normalized the dataset using standardscalar\n",
    "scaler = StandardScaler()\n",
    "scaler.fit(Xb)\n",
    "Xb = scaler.transform(Xb)\n",
    "\n",
    "# split the balanced dataset in training (80%) and testing (20%) dataset\n",
    "Xb_train, Xb_test, Yb_train, Yb_test = train_test_split(Xb, Yb, test_size = 0.2)"
   ]
  },
  {
   "cell_type": "code",
   "execution_count": 22,
   "id": "8b6719ed",
   "metadata": {},
   "outputs": [
    {
     "name": "stdout",
     "output_type": "stream",
     "text": [
      "Fitting 5 folds for each of 5 candidates, totalling 25 fits\n"
     ]
    },
    {
     "data": {
      "text/plain": [
       "SVC(C=1, degree=1, gamma=0.0001, kernel='linear', probability=True)"
      ]
     },
     "execution_count": 22,
     "metadata": {},
     "output_type": "execute_result"
    }
   ],
   "source": [
    "# we trained the SVM model on balanced dataset\n",
    "\n",
    "\n",
    "svmclf2 = SVC(kernel='rbf', probability=True)\n",
    "\n",
    "# let us define the hyperparameters of SVM model\n",
    "param_grid2 = {\n",
    "    'C':   [0.001, 0.01, 0.1, 1, 10],\n",
    "    'kernel': ['linear', 'poly','rbf'],\n",
    "    'gamma': [1, 0.1, 0.01, 0.001, 0.0001],\n",
    "    'degree': [1, 2, 3, 4, 5]}\n",
    "\n",
    "searchSVM2 = RandomizedSearchCV(svmclf2, param_grid2, cv = 5, \n",
    "                              n_iter=5, scoring ='accuracy',\n",
    "                              refit='precision',\n",
    "                              return_train_score=False,\n",
    "                              n_jobs=-1,\n",
    "                              verbose=1)\n",
    "searchSVM2.fit(Xb_train,Yb_train)\n",
    "\n",
    "SVM2 = searchSVM2.best_params_\n",
    "\n",
    "clf_svm2 = SVC(\n",
    "    C = SVM['C'], \n",
    "    kernel = SVM['kernel'], \n",
    "    gamma = SVM['gamma'],\n",
    "    degree = SVM['degree'],probability=True)\n",
    "\n",
    "clf_svm2.fit(Xb_train,Yb_train)"
   ]
  },
  {
   "cell_type": "code",
   "execution_count": 23,
   "id": "6e78e545",
   "metadata": {},
   "outputs": [
    {
     "name": "stdout",
     "output_type": "stream",
     "text": [
      "Training metrics\n",
      "               precision    recall  f1-score   support\n",
      "\n",
      " Non-Seizure       0.95      0.95      0.95      7374\n",
      "     Seizure       0.95      0.95      0.95      7346\n",
      "\n",
      "    accuracy                           0.95     14720\n",
      "   macro avg       0.95      0.95      0.95     14720\n",
      "weighted avg       0.95      0.95      0.95     14720\n",
      "\n"
     ]
    }
   ],
   "source": [
    "# let us check whether the model is overfitting or not\n",
    "# we calculated the performance of model on training dataset\n",
    "y_predtrain2 = cross_val_predict(clf_svm2, Xb_train, Yb_train, cv=5)\n",
    "print(\"Training metrics\\n\",classification_report(Yb_train, y_predtrain2,target_names=['Non-Seizure','Seizure']))"
   ]
  },
  {
   "cell_type": "code",
   "execution_count": 24,
   "id": "d3afc864",
   "metadata": {},
   "outputs": [
    {
     "name": "stdout",
     "output_type": "stream",
     "text": [
      "Testing metrics\n",
      "               precision    recall  f1-score   support\n",
      "\n",
      " Non-Seizure       0.94      0.94      0.94      1826\n",
      "     Seizure       0.94      0.94      0.94      1854\n",
      "\n",
      "    accuracy                           0.94      3680\n",
      "   macro avg       0.94      0.94      0.94      3680\n",
      "weighted avg       0.94      0.94      0.94      3680\n",
      "\n"
     ]
    },
    {
     "data": {
      "text/plain": [
       "<AxesSubplot:>"
      ]
     },
     "execution_count": 24,
     "metadata": {},
     "output_type": "execute_result"
    },
    {
     "data": {
      "image/png": "[encoded data removed]",
      "text/plain": [
       "<Figure size 432x288 with 2 Axes>"
      ]
     },
     "metadata": {
      "needs_background": "light"
     },
     "output_type": "display_data"
    }
   ],
   "source": [
    "# let us evaluate the performance of SVM model on balanced dataset\n",
    "\n",
    "y_predb = cross_val_predict(clf_svm2, Xb_test, Yb_test, cv=5)\n",
    "print(\"Testing metrics\\n\",classification_report(Yb_test, y_predb,target_names=['Non-Seizure','Seizure']))\n",
    "\n",
    "# confusion matrix\n",
    "cmb = confusion_matrix(Yb_test, y_predb)\n",
    "df_cmb = pd.DataFrame(cmb, range(2), range(2))\n",
    "sn.heatmap(df_cmb, annot=True,fmt='g',cmap ='Blues')"
   ]
  },
  {
   "cell_type": "markdown",
   "id": "720ce8eb",
   "metadata": {},
   "source": [
    "## LSTM model"
   ]
  },
  {
   "cell_type": "code",
   "execution_count": null,
   "id": "0dea9fc5",
   "metadata": {},
   "outputs": [],
   "source": []
  },
  {
   "cell_type": "code",
   "execution_count": 25,
   "id": "58dcd914",
   "metadata": {},
   "outputs": [],
   "source": [
    "## Now the second model used in this work to for seizure detection is LSTM"
   ]
  },
  {
   "cell_type": "code",
   "execution_count": 26,
   "id": "138ca02e",
   "metadata": {},
   "outputs": [],
   "source": [
    "# we used the original dataset\n",
    "from keras.utils import to_categorical\n",
    "df = shuffle(df)\n",
    "X1 = df.iloc[:,1:177].values\n",
    "Y1 = df.iloc[:,178].values\n",
    "\n",
    "# scaling the data using standard scalar\n",
    "scaler = StandardScaler()\n",
    "scaler.fit(X1)\n",
    "X1 = scaler.transform(X1)\n",
    "\n",
    "Y1 = to_categorical(Y1)\n",
    "\n",
    "# divide the dataset into training (60%) validation (20%) and testing dataset(20%)\n",
    "X1_train, X1_test, Y1_train, Y1_test = train_test_split(X1, Y1, test_size = 0.2)\n",
    "X1_train, X1_val, Y1_train, Y1_val = train_test_split(X1_train, Y1_train, test_size=0.25, random_state=1) \n",
    "\n",
    "X1_train = np.reshape(X1_train, (X1_train.shape[0],1,X1.shape[1]))\n",
    "X1_test = np.reshape(X1_test, (X1_test.shape[0],1,X1.shape[1]))\n",
    "X1_val = np.reshape(X1_val, (X1_val.shape[0],1,X1.shape[1]))"
   ]
  },
  {
   "cell_type": "code",
   "execution_count": 27,
   "id": "1b40b661",
   "metadata": {},
   "outputs": [],
   "source": [
    "# import all the library neccesary for LSTM\n",
    "\n",
    "import tensorflow as tf\n",
    "from tensorflow.keras import Sequential\n",
    "from keras.optimizers import SGD\n",
    "from keras_tuner import RandomSearch\n",
    "\n",
    "from tensorflow.keras.layers import Dense, Dropout\n",
    "from tensorflow.keras.layers import Embedding\n",
    "from tensorflow.keras.layers import LSTM\n",
    "tf.keras.backend.clear_session()"
   ]
  },
  {
   "cell_type": "code",
   "execution_count": 28,
   "id": "bfc178e3",
   "metadata": {},
   "outputs": [],
   "source": [
    "#  to find the the optimal number of LSTM layers we used hp.int() in a for loop, which could take value 1 to 4.\n",
    "# To avoid overfitting the neural network, we add a dropout layer and to find the right drop out we used hp.Float().\n",
    "# and defined the the final layer as dense layer\n",
    "#After defining the hyper-parameters we compiled the model with RMSprop optimizer,\n",
    "# binary cross-Entropy loss function, and metric and return that model\n",
    "\n",
    "# we used early stopping to Stop the training when a monitored metric has stopped improving.\n",
    "\n",
    "stop_early = tf.keras.callbacks.EarlyStopping(monitor='val_loss', patience=5)  \n",
    "\n",
    "\n",
    "def build_model(hp):\n",
    "    model = Sequential()\n",
    "    model.add(LSTM(hp.Int('input_unit',min_value=16,max_value=512,step=16),return_sequences=True, input_shape=(X1_train.shape[1],X1_train.shape[2])))\n",
    "    for i in range(hp.Int('n_layers', 1, 4)):\n",
    "        model.add(LSTM(hp.Int(f'lstm_{i}_units',min_value=16,max_value=512,step=16),return_sequences=True))\n",
    "    model.add(LSTM(hp.Int('layer_2_neurons',min_value=16,max_value=512,step=16)))\n",
    "    model.add(Dropout(hp.Float('Dropout_rate',min_value=0,max_value=0.9,step=0.1)))\n",
    "    model.add(Dense(Y1_train.shape[1], activation=hp.Choice('dense_activation',values=['relu', 'sigmoid'])))\n",
    "    hp_learning_rate = hp.Choice('learning_rate', values=[1e-2, 1e-3, 1e-4])\n",
    "    model.compile(optimizer=keras.optimizers.RMSprop(learning_rate=hp_learning_rate),\n",
    "                  loss = 'binary_crossentropy', metrics = ['accuracy'])\n",
    "    return model\n"
   ]
  },
  {
   "cell_type": "code",
   "execution_count": 29,
   "id": "6cc83d80",
   "metadata": {},
   "outputs": [
    {
     "name": "stdout",
     "output_type": "stream",
     "text": [
      "INFO:tensorflow:Reloading Oracle from existing project H:\\Final_project\\Save_model\\binaryclass\\Best_model\\oracle.json\n",
      "INFO:tensorflow:Reloading Tuner from H:\\Final_project\\Save_model\\binaryclass\\Best_model\\tuner0.json\n"
     ]
    }
   ],
   "source": [
    "#To find the best model we used  hyperband to optimize the hyperparameters\n",
    "tuner = kt.Hyperband(build_model,\n",
    "                     objective='val_accuracy',\n",
    "                     max_epochs=50,\n",
    "                     factor=3,\n",
    "                     directory=r'H:\\Final_project\\Save_model\\binaryclass', # path of directory to save the model \n",
    "                     project_name='Best_model')"
   ]
  },
  {
   "cell_type": "code",
   "execution_count": 30,
   "id": "f3c31b1a",
   "metadata": {},
   "outputs": [
    {
     "name": "stdout",
     "output_type": "stream",
     "text": [
      "INFO:tensorflow:Oracle triggered exit\n"
     ]
    }
   ],
   "source": [
    "# after defining the tuner we used search method to find the best model and save the models\n",
    "tuner.search(\n",
    "        x=X1_train,\n",
    "        y=Y1_train,\n",
    "        epochs=50,\n",
    "        validation_data=(X1_val,Y1_val),\n",
    "        callbacks=[stop_early]\n",
    "        )"
   ]
  },
  {
   "cell_type": "code",
   "execution_count": 31,
   "id": "a5575e30",
   "metadata": {},
   "outputs": [
    {
     "name": "stdout",
     "output_type": "stream",
     "text": [
      "Results summary\n",
      "Results in H:\\Final_project\\Save_model\\binaryclass\\Best_model\n",
      "Showing 10 best trials\n",
      "<keras_tuner.engine.objective.Objective object at 0x000001E9D1A5BB20>\n",
      "Trial summary\n",
      "Hyperparameters:\n",
      "input_unit: 480\n",
      "n_layers: 1\n",
      "lstm_0_units: 400\n",
      "layer_2_neurons: 64\n",
      "Dropout_rate: 0.4\n",
      "dense_activation: sigmoid\n",
      "learning_rate: 0.001\n",
      "lstm_1_units: 464\n",
      "lstm_2_units: 32\n",
      "lstm_3_units: 32\n",
      "tuner/epochs: 17\n",
      "tuner/initial_epoch: 6\n",
      "tuner/bracket: 3\n",
      "tuner/round: 2\n",
      "tuner/trial_id: 0037\n",
      "Score: 0.9743478298187256\n",
      "Trial summary\n",
      "Hyperparameters:\n",
      "input_unit: 240\n",
      "n_layers: 2\n",
      "lstm_0_units: 288\n",
      "layer_2_neurons: 144\n",
      "Dropout_rate: 0.2\n",
      "dense_activation: sigmoid\n",
      "learning_rate: 0.001\n",
      "lstm_1_units: 272\n",
      "lstm_2_units: 432\n",
      "lstm_3_units: 32\n",
      "tuner/epochs: 50\n",
      "tuner/initial_epoch: 17\n",
      "tuner/bracket: 1\n",
      "tuner/round: 1\n",
      "tuner/trial_id: 0079\n",
      "Score: 0.9730435013771057\n",
      "Trial summary\n",
      "Hyperparameters:\n",
      "input_unit: 416\n",
      "n_layers: 2\n",
      "lstm_0_units: 112\n",
      "layer_2_neurons: 432\n",
      "Dropout_rate: 0.6000000000000001\n",
      "dense_activation: sigmoid\n",
      "learning_rate: 0.0001\n",
      "lstm_1_units: 192\n",
      "lstm_2_units: 496\n",
      "lstm_3_units: 96\n",
      "tuner/epochs: 17\n",
      "tuner/initial_epoch: 6\n",
      "tuner/bracket: 2\n",
      "tuner/round: 1\n",
      "tuner/trial_id: 0066\n",
      "Score: 0.9726086854934692\n",
      "Trial summary\n",
      "Hyperparameters:\n",
      "input_unit: 240\n",
      "n_layers: 2\n",
      "lstm_0_units: 288\n",
      "layer_2_neurons: 144\n",
      "Dropout_rate: 0.2\n",
      "dense_activation: sigmoid\n",
      "learning_rate: 0.001\n",
      "lstm_1_units: 272\n",
      "lstm_2_units: 432\n",
      "lstm_3_units: 32\n",
      "tuner/epochs: 17\n",
      "tuner/initial_epoch: 0\n",
      "tuner/bracket: 1\n",
      "tuner/round: 0\n",
      "Score: 0.9726086854934692\n",
      "Trial summary\n",
      "Hyperparameters:\n",
      "input_unit: 352\n",
      "n_layers: 1\n",
      "lstm_0_units: 96\n",
      "layer_2_neurons: 192\n",
      "Dropout_rate: 0.4\n",
      "dense_activation: sigmoid\n",
      "learning_rate: 0.001\n",
      "lstm_1_units: 416\n",
      "lstm_2_units: 144\n",
      "lstm_3_units: 64\n",
      "tuner/epochs: 17\n",
      "tuner/initial_epoch: 6\n",
      "tuner/bracket: 3\n",
      "tuner/round: 2\n",
      "tuner/trial_id: 0034\n",
      "Score: 0.9717391133308411\n",
      "Trial summary\n",
      "Hyperparameters:\n",
      "input_unit: 416\n",
      "n_layers: 2\n",
      "lstm_0_units: 112\n",
      "layer_2_neurons: 432\n",
      "Dropout_rate: 0.6000000000000001\n",
      "dense_activation: sigmoid\n",
      "learning_rate: 0.0001\n",
      "lstm_1_units: 192\n",
      "lstm_2_units: 496\n",
      "lstm_3_units: 96\n",
      "tuner/epochs: 6\n",
      "tuner/initial_epoch: 0\n",
      "tuner/bracket: 2\n",
      "tuner/round: 0\n",
      "Score: 0.9713043570518494\n",
      "Trial summary\n",
      "Hyperparameters:\n",
      "input_unit: 368\n",
      "n_layers: 2\n",
      "lstm_0_units: 64\n",
      "layer_2_neurons: 368\n",
      "Dropout_rate: 0.5\n",
      "dense_activation: sigmoid\n",
      "learning_rate: 0.001\n",
      "lstm_1_units: 272\n",
      "lstm_2_units: 224\n",
      "lstm_3_units: 288\n",
      "tuner/epochs: 6\n",
      "tuner/initial_epoch: 0\n",
      "tuner/bracket: 2\n",
      "tuner/round: 0\n",
      "Score: 0.9708695411682129\n",
      "Trial summary\n",
      "Hyperparameters:\n",
      "input_unit: 368\n",
      "n_layers: 2\n",
      "lstm_0_units: 64\n",
      "layer_2_neurons: 368\n",
      "Dropout_rate: 0.5\n",
      "dense_activation: sigmoid\n",
      "learning_rate: 0.001\n",
      "lstm_1_units: 272\n",
      "lstm_2_units: 224\n",
      "lstm_3_units: 288\n",
      "tuner/epochs: 17\n",
      "tuner/initial_epoch: 6\n",
      "tuner/bracket: 2\n",
      "tuner/round: 1\n",
      "tuner/trial_id: 0054\n",
      "Score: 0.9704347848892212\n",
      "Trial summary\n",
      "Hyperparameters:\n",
      "input_unit: 128\n",
      "n_layers: 1\n",
      "lstm_0_units: 480\n",
      "layer_2_neurons: 352\n",
      "Dropout_rate: 0.6000000000000001\n",
      "dense_activation: sigmoid\n",
      "learning_rate: 0.0001\n",
      "lstm_1_units: 144\n",
      "lstm_2_units: 112\n",
      "lstm_3_units: 352\n",
      "tuner/epochs: 17\n",
      "tuner/initial_epoch: 6\n",
      "tuner/bracket: 2\n",
      "tuner/round: 1\n",
      "tuner/trial_id: 0057\n",
      "Score: 0.9704347848892212\n",
      "Trial summary\n",
      "Hyperparameters:\n",
      "input_unit: 352\n",
      "n_layers: 1\n",
      "lstm_0_units: 96\n",
      "layer_2_neurons: 192\n",
      "Dropout_rate: 0.4\n",
      "dense_activation: sigmoid\n",
      "learning_rate: 0.001\n",
      "lstm_1_units: 416\n",
      "lstm_2_units: 144\n",
      "lstm_3_units: 64\n",
      "tuner/epochs: 6\n",
      "tuner/initial_epoch: 2\n",
      "tuner/bracket: 3\n",
      "tuner/round: 1\n",
      "tuner/trial_id: 0022\n",
      "Score: 0.9700000286102295\n"
     ]
    }
   ],
   "source": [
    "# hyperparameters of best models\n",
    "tuner.results_summary()"
   ]
  },
  {
   "cell_type": "code",
   "execution_count": 32,
   "id": "d18676f5",
   "metadata": {},
   "outputs": [
    {
     "name": "stdout",
     "output_type": "stream",
     "text": [
      "Model: \"sequential\"\n",
      "_________________________________________________________________\n",
      "Layer (type)                 Output Shape              Param #   \n",
      "=================================================================\n",
      "lstm (LSTM)                  (None, 1, 480)            1261440   \n",
      "_________________________________________________________________\n",
      "lstm_1 (LSTM)                (None, 1, 400)            1409600   \n",
      "_________________________________________________________________\n",
      "lstm_2 (LSTM)                (None, 64)                119040    \n",
      "_________________________________________________________________\n",
      "dropout (Dropout)            (None, 64)                0         \n",
      "_________________________________________________________________\n",
      "dense (Dense)                (None, 2)                 130       \n",
      "=================================================================\n",
      "Total params: 2,790,210\n",
      "Trainable params: 2,790,210\n",
      "Non-trainable params: 0\n",
      "_________________________________________________________________\n"
     ]
    }
   ],
   "source": [
    "# we extract the best model using the get_best_models method of the tuner instance\n",
    "best_model = tuner.get_best_models()[0]\n",
    "best_model.build(X1_train.shape)\n",
    "best_model.summary()"
   ]
  },
  {
   "cell_type": "code",
   "execution_count": 33,
   "id": "43e668ef",
   "metadata": {},
   "outputs": [
    {
     "name": "stdout",
     "output_type": "stream",
     "text": [
      "Epoch 1/50\n",
      "432/432 [==============================] - 10s 24ms/step - loss: 0.0724 - accuracy: 0.9806 - val_loss: 0.0529 - val_accuracy: 0.9848\n",
      "Epoch 2/50\n",
      "432/432 [==============================] - 9s 21ms/step - loss: 0.0592 - accuracy: 0.9835 - val_loss: 0.0624 - val_accuracy: 0.9791\n",
      "Epoch 3/50\n",
      "432/432 [==============================] - 9s 22ms/step - loss: 0.0444 - accuracy: 0.9865 - val_loss: 0.0673 - val_accuracy: 0.9835\n",
      "Epoch 4/50\n",
      "432/432 [==============================] - 9s 21ms/step - loss: 0.0413 - accuracy: 0.9884 - val_loss: 0.0779 - val_accuracy: 0.9787\n",
      "Epoch 5/50\n",
      "432/432 [==============================] - 9s 22ms/step - loss: 0.0312 - accuracy: 0.9903 - val_loss: 0.0879 - val_accuracy: 0.9783\n",
      "Epoch 6/50\n",
      "432/432 [==============================] - 10s 22ms/step - loss: 0.0292 - accuracy: 0.9914 - val_loss: 0.0752 - val_accuracy: 0.9835\n"
     ]
    },
    {
     "data": {
      "text/plain": [
       "<tensorflow.python.keras.callbacks.History at 0x1e9e0cb8d90>"
      ]
     },
     "execution_count": 33,
     "metadata": {},
     "output_type": "execute_result"
    }
   ],
   "source": [
    "# now we trained the best model using the fit method\n",
    "best_model.fit(X1_train,Y1_train,epochs=50,\n",
    "        validation_data=(X1_val,Y1_val),\n",
    "        batch_size = 16,\n",
    "        callbacks=[stop_early])"
   ]
  },
  {
   "cell_type": "code",
   "execution_count": 34,
   "id": "87f1b2a3",
   "metadata": {},
   "outputs": [
    {
     "name": "stdout",
     "output_type": "stream",
     "text": [
      "              precision    recall  f1-score   support\n",
      "\n",
      " Non-seizure       0.98      0.99      0.98      1839\n",
      "     Seizure       0.96      0.92      0.94       461\n",
      "\n",
      "    accuracy                           0.97      2300\n",
      "   macro avg       0.97      0.95      0.96      2300\n",
      "weighted avg       0.97      0.97      0.97      2300\n",
      "\n"
     ]
    },
    {
     "data": {
      "text/plain": [
       "<AxesSubplot:>"
      ]
     },
     "execution_count": 34,
     "metadata": {},
     "output_type": "execute_result"
    },
    {
     "data": {
      "image/png": "[encoded data removed]",
      "text/plain": [
       "<Figure size 432x288 with 2 Axes>"
      ]
     },
     "metadata": {
      "needs_background": "light"
     },
     "output_type": "display_data"
    }
   ],
   "source": [
    "# evaluate the performance of best model on test data\n",
    "Y_pred = best_model.predict(X1_test)\n",
    "print(classification_report(Y1_test.argmax(axis=1), Y_pred.argmax(axis=1), target_names=['Non-seizure', 'Seizure']))\n",
    "\n",
    "#confusion matrix\n",
    "\n",
    "cm = confusion_matrix(Y1_test.argmax(axis=1), Y_pred.argmax(axis=1))\n",
    "df_cm = pd.DataFrame(cm, range(2), range(2))\n",
    "sn.heatmap(df_cm, annot=True,fmt='g',cmap ='Blues')"
   ]
  },
  {
   "cell_type": "code",
   "execution_count": null,
   "id": "1b0432b7",
   "metadata": {},
   "outputs": [],
   "source": []
  },
  {
   "cell_type": "markdown",
   "id": "8b7a7424",
   "metadata": {},
   "source": [
    "## LSTM model on balanced dataset"
   ]
  },
  {
   "cell_type": "code",
   "execution_count": 35,
   "id": "495432fe",
   "metadata": {},
   "outputs": [],
   "source": [
    "# Now test the perforamnce of LSTM model on balanced dataset"
   ]
  },
  {
   "cell_type": "code",
   "execution_count": 36,
   "id": "cd4a888f",
   "metadata": {},
   "outputs": [
    {
     "data": {
      "image/png": "[encoded data removed]",
      "text/plain": [
       "<Figure size 432x288 with 1 Axes>"
      ]
     },
     "metadata": {
      "needs_background": "light"
     },
     "output_type": "display_data"
    }
   ],
   "source": [
    "df_sm = shuffle(df)\n",
    "X2 = df_sm.iloc[:,1:177].values\n",
    "Y2 = df_sm.iloc[:,178].values\n",
    "# define SMOTE\n",
    "sm = SMOTE(random_state=40)\n",
    "\n",
    "X1_sm, Y1_sm = sm.fit_resample(X2, Y2)\n",
    "ax = sn.countplot(Y1_sm,label=\"Count\")\n"
   ]
  },
  {
   "cell_type": "code",
   "execution_count": 37,
   "id": "3761cbd9",
   "metadata": {},
   "outputs": [],
   "source": [
    "# scaling the data using standard scalar\n",
    "scaler = StandardScaler()\n",
    "scaler.fit(X1_sm)\n",
    "X1_sm = scaler.transform(X1_sm)\n",
    "\n",
    "Y1_sm = to_categorical(Y1_sm)\n",
    "\n",
    "# divide the dataset into training (60%) validation (20%) and testing dataset(20%)\n",
    "X1sm_train, X1sm_test, Y1sm_train, Y1sm_test = train_test_split(X1_sm, Y1_sm, test_size = 0.2)\n",
    "X1sm_train, X1sm_val, Y1sm_train, Y1sm_val = train_test_split(X1sm_train, Y1sm_train, test_size=0.25, random_state=1) \n",
    "\n",
    "X1sm_train = np.reshape(X1sm_train, (X1sm_train.shape[0],1,X1_sm.shape[1]))\n",
    "X1sm_test = np.reshape(X1sm_test, (X1sm_test.shape[0],1,X1_sm.shape[1]))\n",
    "X1sm_val = np.reshape(X1sm_val, (X1sm_val.shape[0],1,X1_sm.shape[1]))"
   ]
  },
  {
   "cell_type": "code",
   "execution_count": 38,
   "id": "c201202d",
   "metadata": {},
   "outputs": [],
   "source": [
    "# define the LSTM model for balanced dataset\n",
    "\n",
    "stop_early = tf.keras.callbacks.EarlyStopping(monitor='val_loss', patience=5)\n",
    "\n",
    "def build_model2(hp):\n",
    "    model2 = Sequential()\n",
    "    model2.add(LSTM(hp.Int('input_unit',min_value=16,max_value=512,step=16),return_sequences=True, input_shape=(X1_train.shape[1],X1_train.shape[2])))\n",
    "    for i in range(hp.Int('n_layers', 1, 4)):\n",
    "        model2.add(LSTM(hp.Int(f'lstm_{i}_units',min_value=16,max_value=512,step=16),return_sequences=True))\n",
    "    model2.add(LSTM(hp.Int('layer_2_neurons',min_value=16,max_value=512,step=16)))\n",
    "    model2.add(Dropout(hp.Float('Dropout_rate',min_value=0,max_value=0.9,step=0.1)))\n",
    "    model2.add(Dense(Y1_train.shape[1], activation=hp.Choice('dense_activation',values=['relu', 'sigmoid'])))\n",
    "    hp_learning_rate = hp.Choice('learning_rate', values=[1e-2, 1e-3, 1e-4])\n",
    "    model2.compile(optimizer=keras.optimizers.RMSprop(learning_rate=hp_learning_rate),\n",
    "                  loss = 'binary_crossentropy', metrics = ['accuracy'])\n",
    "    return model2"
   ]
  },
  {
   "cell_type": "code",
   "execution_count": 39,
   "id": "27c802a4",
   "metadata": {},
   "outputs": [
    {
     "name": "stdout",
     "output_type": "stream",
     "text": [
      "INFO:tensorflow:Reloading Oracle from existing project H:\\Final_project\\Save_model\\binaryclass\\Best_modelsm\\oracle.json\n",
      "INFO:tensorflow:Reloading Tuner from H:\\Final_project\\Save_model\\binaryclass\\Best_modelsm\\tuner0.json\n"
     ]
    }
   ],
   "source": [
    "#To find the best model we used  hyperband to optimize the hyperparameters\n",
    "tuner2 = kt.Hyperband(build_model2,\n",
    "                     objective='val_accuracy',\n",
    "                     max_epochs=50,\n",
    "                     factor=3,\n",
    "                     directory=r'H:\\Final_project\\Save_model\\binaryclass', # path of directory to save the model\n",
    "                     project_name='Best_modelsm')"
   ]
  },
  {
   "cell_type": "code",
   "execution_count": 40,
   "id": "9f57e51c",
   "metadata": {},
   "outputs": [
    {
     "name": "stdout",
     "output_type": "stream",
     "text": [
      "INFO:tensorflow:Oracle triggered exit\n"
     ]
    }
   ],
   "source": [
    "# after defining the tuner we used search method to find the best model and save the models\n",
    "tuner2.search(\n",
    "        x=X1sm_train,\n",
    "        y=Y1sm_train,\n",
    "        epochs=50,\n",
    "        validation_data=(X1sm_val,Y1sm_val),\n",
    "        callbacks=[stop_early]\n",
    "        )"
   ]
  },
  {
   "cell_type": "code",
   "execution_count": 43,
   "id": "ab3b0a65",
   "metadata": {},
   "outputs": [
    {
     "name": "stdout",
     "output_type": "stream",
     "text": [
      "Results summary\n",
      "Results in H:\\Final_project\\Save_model\\binaryclass\\Best_modelsm\n",
      "Showing 10 best trials\n",
      "<keras_tuner.engine.objective.Objective object at 0x000001E9D12CBCA0>\n",
      "Trial summary\n",
      "Hyperparameters:\n",
      "input_unit: 368\n",
      "n_layers: 3\n",
      "lstm_0_units: 224\n",
      "layer_2_neurons: 208\n",
      "Dropout_rate: 0.5\n",
      "dense_activation: sigmoid\n",
      "learning_rate: 0.001\n",
      "lstm_1_units: 368\n",
      "lstm_2_units: 448\n",
      "lstm_3_units: 48\n",
      "tuner/epochs: 50\n",
      "tuner/initial_epoch: 17\n",
      "tuner/bracket: 3\n",
      "tuner/round: 3\n",
      "tuner/trial_id: 0049\n",
      "Score: 0.990217387676239\n",
      "Trial summary\n",
      "Hyperparameters:\n",
      "input_unit: 272\n",
      "n_layers: 4\n",
      "lstm_0_units: 192\n",
      "layer_2_neurons: 192\n",
      "Dropout_rate: 0.1\n",
      "dense_activation: sigmoid\n",
      "learning_rate: 0.001\n",
      "lstm_1_units: 128\n",
      "lstm_2_units: 512\n",
      "lstm_3_units: 192\n",
      "tuner/epochs: 17\n",
      "tuner/initial_epoch: 0\n",
      "tuner/bracket: 1\n",
      "tuner/round: 0\n",
      "Score: 0.988043487071991\n",
      "Trial summary\n",
      "Hyperparameters:\n",
      "input_unit: 400\n",
      "n_layers: 2\n",
      "lstm_0_units: 192\n",
      "layer_2_neurons: 32\n",
      "Dropout_rate: 0.0\n",
      "dense_activation: sigmoid\n",
      "learning_rate: 0.001\n",
      "lstm_1_units: 80\n",
      "lstm_2_units: 224\n",
      "lstm_3_units: 32\n",
      "tuner/epochs: 50\n",
      "tuner/initial_epoch: 0\n",
      "tuner/bracket: 0\n",
      "tuner/round: 0\n",
      "Score: 0.98777174949646\n",
      "Trial summary\n",
      "Hyperparameters:\n",
      "input_unit: 368\n",
      "n_layers: 3\n",
      "lstm_0_units: 224\n",
      "layer_2_neurons: 208\n",
      "Dropout_rate: 0.5\n",
      "dense_activation: sigmoid\n",
      "learning_rate: 0.001\n",
      "lstm_1_units: 368\n",
      "lstm_2_units: 448\n",
      "lstm_3_units: 48\n",
      "tuner/epochs: 17\n",
      "tuner/initial_epoch: 6\n",
      "tuner/bracket: 3\n",
      "tuner/round: 2\n",
      "tuner/trial_id: 0036\n",
      "Score: 0.987500011920929\n",
      "Trial summary\n",
      "Hyperparameters:\n",
      "input_unit: 272\n",
      "n_layers: 4\n",
      "lstm_0_units: 192\n",
      "layer_2_neurons: 192\n",
      "Dropout_rate: 0.1\n",
      "dense_activation: sigmoid\n",
      "learning_rate: 0.001\n",
      "lstm_1_units: 128\n",
      "lstm_2_units: 512\n",
      "lstm_3_units: 192\n",
      "tuner/epochs: 50\n",
      "tuner/initial_epoch: 17\n",
      "tuner/bracket: 1\n",
      "tuner/round: 1\n",
      "tuner/trial_id: 0080\n",
      "Score: 0.987228274345398\n",
      "Trial summary\n",
      "Hyperparameters:\n",
      "input_unit: 384\n",
      "n_layers: 2\n",
      "lstm_0_units: 144\n",
      "layer_2_neurons: 160\n",
      "Dropout_rate: 0.0\n",
      "dense_activation: sigmoid\n",
      "learning_rate: 0.01\n",
      "lstm_1_units: 384\n",
      "lstm_2_units: 320\n",
      "lstm_3_units: 352\n",
      "tuner/epochs: 50\n",
      "tuner/initial_epoch: 0\n",
      "tuner/bracket: 0\n",
      "tuner/round: 0\n",
      "Score: 0.9864130616188049\n",
      "Trial summary\n",
      "Hyperparameters:\n",
      "input_unit: 320\n",
      "n_layers: 2\n",
      "lstm_0_units: 368\n",
      "layer_2_neurons: 192\n",
      "Dropout_rate: 0.4\n",
      "dense_activation: sigmoid\n",
      "learning_rate: 0.01\n",
      "lstm_1_units: 304\n",
      "lstm_2_units: 512\n",
      "lstm_3_units: 480\n",
      "tuner/epochs: 50\n",
      "tuner/initial_epoch: 17\n",
      "tuner/bracket: 3\n",
      "tuner/round: 3\n",
      "tuner/trial_id: 0047\n",
      "Score: 0.9850543737411499\n",
      "Trial summary\n",
      "Hyperparameters:\n",
      "input_unit: 416\n",
      "n_layers: 1\n",
      "lstm_0_units: 48\n",
      "layer_2_neurons: 512\n",
      "Dropout_rate: 0.4\n",
      "dense_activation: sigmoid\n",
      "learning_rate: 0.001\n",
      "lstm_1_units: 304\n",
      "lstm_2_units: 288\n",
      "lstm_3_units: 480\n",
      "tuner/epochs: 50\n",
      "tuner/initial_epoch: 17\n",
      "tuner/bracket: 2\n",
      "tuner/round: 2\n",
      "tuner/trial_id: 0067\n",
      "Score: 0.9850543737411499\n",
      "Trial summary\n",
      "Hyperparameters:\n",
      "input_unit: 336\n",
      "n_layers: 1\n",
      "lstm_0_units: 352\n",
      "layer_2_neurons: 432\n",
      "Dropout_rate: 0.6000000000000001\n",
      "dense_activation: sigmoid\n",
      "learning_rate: 0.01\n",
      "lstm_1_units: 128\n",
      "lstm_2_units: 304\n",
      "lstm_3_units: 416\n",
      "tuner/epochs: 17\n",
      "tuner/initial_epoch: 0\n",
      "tuner/bracket: 1\n",
      "tuner/round: 0\n",
      "Score: 0.9847826361656189\n",
      "Trial summary\n",
      "Hyperparameters:\n",
      "input_unit: 416\n",
      "n_layers: 1\n",
      "lstm_0_units: 48\n",
      "layer_2_neurons: 512\n",
      "Dropout_rate: 0.4\n",
      "dense_activation: sigmoid\n",
      "learning_rate: 0.001\n",
      "lstm_1_units: 304\n",
      "lstm_2_units: 288\n",
      "lstm_3_units: 480\n",
      "tuner/epochs: 17\n",
      "tuner/initial_epoch: 6\n",
      "tuner/bracket: 2\n",
      "tuner/round: 1\n",
      "tuner/trial_id: 0065\n",
      "Score: 0.9842391014099121\n"
     ]
    }
   ],
   "source": [
    "# hyperparameters of best models\n",
    "tuner2.results_summary()"
   ]
  },
  {
   "cell_type": "code",
   "execution_count": 44,
   "id": "1179fbad",
   "metadata": {},
   "outputs": [
    {
     "name": "stdout",
     "output_type": "stream",
     "text": [
      "Model: \"sequential\"\n",
      "_________________________________________________________________\n",
      "Layer (type)                 Output Shape              Param #   \n",
      "=================================================================\n",
      "lstm (LSTM)                  (None, 1, 368)            802240    \n",
      "_________________________________________________________________\n",
      "lstm_1 (LSTM)                (None, 1, 224)            531328    \n",
      "_________________________________________________________________\n",
      "lstm_2 (LSTM)                (None, 1, 368)            872896    \n",
      "_________________________________________________________________\n",
      "lstm_3 (LSTM)                (None, 1, 448)            1464064   \n",
      "_________________________________________________________________\n",
      "lstm_4 (LSTM)                (None, 208)               546624    \n",
      "_________________________________________________________________\n",
      "dropout (Dropout)            (None, 208)               0         \n",
      "_________________________________________________________________\n",
      "dense (Dense)                (None, 2)                 418       \n",
      "=================================================================\n",
      "Total params: 4,217,570\n",
      "Trainable params: 4,217,570\n",
      "Non-trainable params: 0\n",
      "_________________________________________________________________\n"
     ]
    }
   ],
   "source": [
    "# let us choose the best model\n",
    "best_model2 = tuner2.get_best_models()[0]\n",
    "best_model2.build(X1sm_train.shape)\n",
    "best_model2.summary()"
   ]
  },
  {
   "cell_type": "code",
   "execution_count": 45,
   "id": "8bf2714d",
   "metadata": {},
   "outputs": [
    {
     "name": "stdout",
     "output_type": "stream",
     "text": [
      "Epoch 1/50\n",
      "690/690 [==============================] - 23s 33ms/step - loss: 0.0446 - accuracy: 0.9873 - val_loss: 0.0405 - val_accuracy: 0.9867\n",
      "Epoch 2/50\n",
      "690/690 [==============================] - 21s 30ms/step - loss: 0.0277 - accuracy: 0.9921 - val_loss: 0.0934 - val_accuracy: 0.9783\n",
      "Epoch 3/50\n",
      "690/690 [==============================] - 21s 30ms/step - loss: 0.0221 - accuracy: 0.9942 - val_loss: 0.0634 - val_accuracy: 0.9889\n",
      "Epoch 4/50\n",
      "690/690 [==============================] - 21s 30ms/step - loss: 0.0188 - accuracy: 0.9938 - val_loss: 0.0513 - val_accuracy: 0.9875\n",
      "Epoch 5/50\n",
      "690/690 [==============================] - 21s 30ms/step - loss: 0.0193 - accuracy: 0.9956 - val_loss: 0.0639 - val_accuracy: 0.9880\n",
      "Epoch 6/50\n",
      "690/690 [==============================] - 21s 30ms/step - loss: 0.0151 - accuracy: 0.9955 - val_loss: 0.0686 - val_accuracy: 0.9902\n"
     ]
    },
    {
     "data": {
      "text/plain": [
       "<tensorflow.python.keras.callbacks.History at 0x1e9ef9dd070>"
      ]
     },
     "execution_count": 45,
     "metadata": {},
     "output_type": "execute_result"
    }
   ],
   "source": [
    "# now we trained the best model using the fit method\n",
    "best_model2.fit(X1sm_train,Y1sm_train,epochs=50,\n",
    "        validation_data=(X1sm_val,Y1sm_val),\n",
    "        batch_size = 16,\n",
    "        callbacks=[stop_early])"
   ]
  },
  {
   "cell_type": "code",
   "execution_count": 46,
   "id": "ed481194",
   "metadata": {},
   "outputs": [
    {
     "name": "stdout",
     "output_type": "stream",
     "text": [
      "              precision    recall  f1-score   support\n",
      "\n",
      " Non-seizure       0.99      0.99      0.99      1857\n",
      "     Seizure       0.99      0.99      0.99      1823\n",
      "\n",
      "    accuracy                           0.99      3680\n",
      "   macro avg       0.99      0.99      0.99      3680\n",
      "weighted avg       0.99      0.99      0.99      3680\n",
      "\n"
     ]
    },
    {
     "data": {
      "text/plain": [
       "<AxesSubplot:>"
      ]
     },
     "execution_count": 46,
     "metadata": {},
     "output_type": "execute_result"
    },
    {
     "data": {
      "image/png": "[encoded data removed]",
      "text/plain": [
       "<Figure size 432x288 with 2 Axes>"
      ]
     },
     "metadata": {
      "needs_background": "light"
     },
     "output_type": "display_data"
    }
   ],
   "source": [
    "# predict the performance of best model on test\n",
    "Y2_pred = best_model2.predict(X1sm_test)\n",
    "\n",
    "# print the performance metrics (precison, recall and f1 score) on testing dataset\n",
    "print(classification_report(Y1sm_test.argmax(axis=1), Y2_pred.argmax(axis=1), target_names=['Non-seizure', 'Seizure']))\n",
    "\n",
    "# plot the confusion matrix\n",
    "cm2 = confusion_matrix(Y1sm_test.argmax(axis=1), Y2_pred.argmax(axis=1))\n",
    "df_cm2 = pd.DataFrame(cm2, range(2), range(2))\n",
    "sn.heatmap(df_cm2, annot=True,fmt='g',cmap ='Blues')"
   ]
  },
  {
   "cell_type": "markdown",
   "id": "4d617d3a",
   "metadata": {},
   "source": [
    "## ROC curves of all models"
   ]
  },
  {
   "cell_type": "code",
   "execution_count": 47,
   "id": "80940770",
   "metadata": {},
   "outputs": [
    {
     "name": "stdout",
     "output_type": "stream",
     "text": [
      "WARNING:tensorflow:From C:\\Users\\kau19001\\AppData\\Local\\Temp\\ipykernel_23768\\3805367940.py:3: Sequential.predict_proba (from tensorflow.python.keras.engine.sequential) is deprecated and will be removed after 2021-01-01.\n",
      "Instructions for updating:\n",
      "Please use `model.predict()` instead.\n"
     ]
    }
   ],
   "source": [
    "pred_prob1 = clf_svm.predict_proba(X_test) # SVM model on unbalanced dataset\n",
    "pred_prob2 = clf_svm2.predict_proba(Xb_test) #SVM model on balanced dataset\n",
    "pred_prob3 = best_model.predict_proba(X1_test) # LSTM model on unbalanced dataset\n",
    "pred_prob4 = best_model2.predict_proba(X1sm_test) #LSTM model on balanced dataset"
   ]
  },
  {
   "cell_type": "code",
   "execution_count": 48,
   "id": "34c1d58d",
   "metadata": {},
   "outputs": [],
   "source": [
    "from sklearn.metrics import roc_curve, roc_auc_score, auc\n",
    "fpr1, tpr1, thresh1 = roc_curve(Y_test, pred_prob1[:,1], pos_label=1)\n",
    "fpr2, tpr2, thresh2 = roc_curve(Yb_test, pred_prob2[:,1], pos_label=1)\n",
    "fpr3, tpr3, thresh3 = roc_curve(Y1_test.argmax(axis=1), pred_prob3[:,1], pos_label=1)\n",
    "fpr4, tpr4, thresh4 = roc_curve(Y1sm_test.argmax(axis=1), pred_prob4[:,1], pos_label=1)\n",
    "\n",
    "random_probs = [0 for i in range(len(Y_test))]\n",
    "p_fpr, p_tpr, _ = roc_curve(Y_test, random_probs, pos_label=1)"
   ]
  },
  {
   "cell_type": "code",
   "execution_count": 49,
   "id": "3cb91ae2",
   "metadata": {},
   "outputs": [],
   "source": [
    "from sklearn import metrics\n",
    "auc1 = metrics.roc_auc_score(Y_test, pred_prob1[:,1])\n",
    "auc2 = metrics.roc_auc_score(Yb_test, pred_prob2[:,1])\n",
    "auc3 = metrics.roc_auc_score(Y1_test.argmax(axis=1), pred_prob3[:,1])\n",
    "auc4 = metrics.roc_auc_score(Y1sm_test.argmax(axis=1), pred_prob4[:,1])"
   ]
  },
  {
   "cell_type": "code",
   "execution_count": 50,
   "id": "3983c08d",
   "metadata": {},
   "outputs": [
    {
     "data": {
      "image/png": "[encoded data removed]",
      "text/plain": [
       "<Figure size 720x432 with 1 Axes>"
      ]
     },
     "metadata": {
      "needs_background": "light"
     },
     "output_type": "display_data"
    }
   ],
   "source": [
    "import matplotlib.pyplot as plt\n",
    "plt.figure(1, figsize=(10, 6))\n",
    "plt.clf()\n",
    "\n",
    "# plot roc curves\n",
    "plt.plot(fpr1, tpr1, linestyle='--',color='orange', label=\"SVM auc=\"+str(auc1))\n",
    "plt.plot(fpr2, tpr2, linestyle='--',color='green', label=\"SVM+SMOTE auc=\"+str(auc2))\n",
    "plt.plot(fpr3, tpr3, linestyle='--',color='red', label=\"LSTM auc=\"+str(auc3))\n",
    "plt.plot(fpr4, tpr4, linestyle='--',color='black', label=\"LSTM+SMOTE auc=\"+str(auc4))\n",
    "plt.plot(p_fpr, p_tpr, linestyle='--', color='blue')\n",
    "\n",
    "plt.title('ROC curve')\n",
    "# x label\n",
    "plt.xlabel('False Positive Rate')\n",
    "# y label\n",
    "plt.ylabel('True Positive rate')\n",
    "\n",
    "plt.legend(loc='best')\n",
    "plt.savefig('ROC',dpi=300)\n",
    "plt.show();\n"
   ]
  },
  {
   "cell_type": "code",
   "execution_count": null,
   "id": "d502a3ce",
   "metadata": {},
   "outputs": [],
   "source": []
  },
  {
   "cell_type": "code",
   "execution_count": null,
   "id": "3911f5ad",
   "metadata": {},
   "outputs": [],
   "source": []
  }
 ],
 "metadata": {
  "kernelspec": {
   "display_name": "Python 3 (ipykernel)",
   "language": "python",
   "name": "python3"
  },
  "language_info": {
   "codemirror_mode": {
    "name": "ipython",
    "version": 3
   },
   "file_extension": ".py",
   "mimetype": "text/x-python",
   "name": "python",
   "nbconvert_exporter": "python",
   "pygments_lexer": "ipython3",
   "version": "3.9.7"
  }
 },
 "nbformat": 4,
 "nbformat_minor": 5
}
